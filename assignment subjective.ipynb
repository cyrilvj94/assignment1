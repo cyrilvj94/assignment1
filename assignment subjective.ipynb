{
 "cells": [
  {
   "cell_type": "markdown",
   "metadata": {},
   "source": [
    "Q NO:1 :-  Write a Python program to get the string from the given string where all the occurrence of its first char has been changed to '$,' except first char itself?"
   ]
  },
  {
   "cell_type": "code",
   "execution_count": 3,
   "metadata": {},
   "outputs": [],
   "source": [
    "\n",
    "def replace_second_letter(str_1):\n",
    "    str_1 = list(str_1)\n",
    "    temp = str_1[0]\n",
    "    for i in range(1,len(str_1)):\n",
    "        if str_1[i] not in temp:\n",
    "            temp = temp + str_1[i]\n",
    "        else:\n",
    "            str_1[i] = '$'\n",
    "    temp = ''\n",
    "    for i in str_1:\n",
    "        temp= temp + i\n",
    "    return temp\n",
    "    "
   ]
  },
  {
   "cell_type": "code",
   "execution_count": 4,
   "metadata": {},
   "outputs": [
    {
     "data": {
      "text/plain": [
       "'pros$ect'"
      ]
     },
     "execution_count": 4,
     "metadata": {},
     "output_type": "execute_result"
    }
   ],
   "source": [
    "replace_second_letter(('prospect'))  "
   ]
  },
  {
   "cell_type": "code",
   "execution_count": 5,
   "metadata": {},
   "outputs": [
    {
     "data": {
      "text/plain": [
       "'liverpo$$'"
      ]
     },
     "execution_count": 5,
     "metadata": {},
     "output_type": "execute_result"
    }
   ],
   "source": [
    "replace_second_letter('liverpool')"
   ]
  },
  {
   "cell_type": "code",
   "execution_count": null,
   "metadata": {},
   "outputs": [],
   "source": []
  },
  {
   "cell_type": "markdown",
   "metadata": {},
   "source": [
    "Q NO: 2 :-Write a Python program to get the single string from the two given strings, and separated by the space and swap the first two characters of each string?"
   ]
  },
  {
   "cell_type": "code",
   "execution_count": 6,
   "metadata": {},
   "outputs": [],
   "source": [
    "def swap(str_1, str_2):\n",
    "    out_string = list(str_2 + ' ' +  str_1) \n",
    "    a = out_string[len(str_2)-1]\n",
    "    out_string[len(str_2)-1] = out_string[-1]\n",
    "    out_string[-1] = a\n",
    "    out_2 = ''\n",
    "    for i in out_string:\n",
    "        out_2 = out_2 + i\n",
    "    return out_2    "
   ]
  },
  {
   "cell_type": "code",
   "execution_count": 7,
   "metadata": {},
   "outputs": [
    {
     "data": {
      "text/plain": [
       "'xyc abz'"
      ]
     },
     "execution_count": 7,
     "metadata": {},
     "output_type": "execute_result"
    }
   ],
   "source": [
    "swap('abc', 'xyz')"
   ]
  },
  {
   "cell_type": "code",
   "execution_count": 8,
   "metadata": {},
   "outputs": [
    {
     "data": {
      "text/plain": [
       "'asdy qwertf'"
      ]
     },
     "execution_count": 8,
     "metadata": {},
     "output_type": "execute_result"
    }
   ],
   "source": [
    "swap('qwerty' , 'asdf')"
   ]
  },
  {
   "cell_type": "code",
   "execution_count": null,
   "metadata": {},
   "outputs": [],
   "source": []
  },
  {
   "cell_type": "markdown",
   "metadata": {},
   "source": [
    "Q NO :3 :- Write the Python program to add 'ing' at the end of the given string (length of the string should be at least 3). If given string already ends with 'ing,' then add 'ly' instead. If string length of the given string is less than 3, leave it unchanged?"
   ]
  },
  {
   "cell_type": "code",
   "execution_count": null,
   "metadata": {},
   "outputs": [],
   "source": []
  },
  {
   "cell_type": "code",
   "execution_count": 9,
   "metadata": {},
   "outputs": [],
   "source": [
    "def convert(s3_1):\n",
    "    if(len(s3_1)>=3):\n",
    "        l = list(s3_1.partition('ing'))\n",
    "        if 'ing' in l:\n",
    "            s3_2 = s3_1 + 'ly'\n",
    "        else:\n",
    "            s3_2= s3_1 + 'ing'\n",
    "        print('sample string:-', s3_1 )\n",
    "        print('result string:-', s3_2 )\n",
    "        \n",
    "    else:\n",
    "        print('result string:-', s3_1 )\n"
   ]
  },
  {
   "cell_type": "code",
   "execution_count": 10,
   "metadata": {},
   "outputs": [
    {
     "name": "stdout",
     "output_type": "stream",
     "text": [
      "sample string:- string\n",
      "result string:- stringly\n"
     ]
    }
   ],
   "source": [
    "convert('string')"
   ]
  },
  {
   "cell_type": "code",
   "execution_count": 11,
   "metadata": {},
   "outputs": [
    {
     "name": "stdout",
     "output_type": "stream",
     "text": [
      "sample string:- walk\n",
      "result string:- walking\n"
     ]
    }
   ],
   "source": [
    "convert('walk')"
   ]
  },
  {
   "cell_type": "code",
   "execution_count": 12,
   "metadata": {},
   "outputs": [
    {
     "name": "stdout",
     "output_type": "stream",
     "text": [
      "result string:- ac\n"
     ]
    }
   ],
   "source": [
    "convert('ac')"
   ]
  },
  {
   "cell_type": "code",
   "execution_count": null,
   "metadata": {},
   "outputs": [],
   "source": []
  },
  {
   "cell_type": "markdown",
   "metadata": {},
   "source": [
    "Q NO: 4 :- Write the Python program to find the first appearance of the substring 'not' and 'poor' from the given string, if 'not' follows the 'poor', replace the whole 'not'...' poor' substring with 'good'.Return the resulting string."
   ]
  },
  {
   "cell_type": "code",
   "execution_count": 13,
   "metadata": {},
   "outputs": [],
   "source": [
    "def f4(str4):\n",
    "    if (str4.find('not')>0 and str4.find('poor')>0):\n",
    "        if(str4.find('poor') > str4.find('not')):\n",
    "            return str4.replace(str4[ str4.find('not'): str4.find('poor') +4], 'good')\n",
    "    \n",
    "    else:\n",
    "        return str4"
   ]
  },
  {
   "cell_type": "code",
   "execution_count": 14,
   "metadata": {},
   "outputs": [
    {
     "name": "stdout",
     "output_type": "stream",
     "text": [
      "Sample string: 'The lyrics are not that poor!'\n",
      " 'The lyrics are poor!'\n",
      "The lyrics are good!\n",
      "The lyrics are poor!\n"
     ]
    }
   ],
   "source": [
    "print(\"Sample string: 'The lyrics are not that poor!'\", \" 'The lyrics are poor!'\", sep = '\\n')\n",
    "print(f4('The lyrics are not that poor!'), f4( 'The lyrics are poor!'), sep = '\\n')"
   ]
  },
  {
   "cell_type": "markdown",
   "metadata": {},
   "source": [
    "Q5. Write the Python program to remove the characters which have odd index values of a given string."
   ]
  },
  {
   "cell_type": "code",
   "execution_count": 15,
   "metadata": {},
   "outputs": [],
   "source": [
    "def remove_odd(str5):\n",
    "     return str5[0:len(str5)+ 1:2]"
   ]
  },
  {
   "cell_type": "code",
   "execution_count": 16,
   "metadata": {},
   "outputs": [
    {
     "name": "stdout",
     "output_type": "stream",
     "text": [
      "lvrol\n",
      "mct\n"
     ]
    }
   ],
   "source": [
    "print(remove_odd('liverpool'))\n",
    "print(remove_odd('m.city'))"
   ]
  },
  {
   "cell_type": "markdown",
   "metadata": {},
   "source": [
    "Q6 : Write the Python function to get a string made of 4 copies of the last two characters of the \n",
    "    specified string (length must be at least 2)."
   ]
  },
  {
   "cell_type": "code",
   "execution_count": 17,
   "metadata": {},
   "outputs": [],
   "source": [
    "def insert_end(str6):\n",
    "    if (len(str6)>1):\n",
    "        c = str6[len(str6)-2::]\n",
    "        return c*4\n",
    "    else:\n",
    "        return ('min 2 char needed')"
   ]
  },
  {
   "cell_type": "code",
   "execution_count": 18,
   "metadata": {},
   "outputs": [
    {
     "name": "stdout",
     "output_type": "stream",
     "text": [
      "onononon\n",
      "eseseses\n",
      "min 2 char needed\n"
     ]
    }
   ],
   "source": [
    "print(insert_end('python'),\n",
    "insert_end('Excercises'),insert_end('v'), sep = '\\n')"
   ]
  },
  {
   "cell_type": "code",
   "execution_count": null,
   "metadata": {},
   "outputs": [],
   "source": []
  },
  {
   "cell_type": "markdown",
   "metadata": {},
   "source": [
    "Q7. Write the python function to get a string made of its first three characters of a specified string. \n",
    "If the length of the string is less than 3 then return the original string."
   ]
  },
  {
   "cell_type": "code",
   "execution_count": 19,
   "metadata": {},
   "outputs": [],
   "source": [
    "def first_three(str7):\n",
    "    if (len(str7)<3):\n",
    "        return str7\n",
    "    else:\n",
    "        return str7[0:3]"
   ]
  },
  {
   "cell_type": "code",
   "execution_count": 20,
   "metadata": {},
   "outputs": [
    {
     "name": "stdout",
     "output_type": "stream",
     "text": [
      "pyt\n",
      "ds\n",
      "ipt\n"
     ]
    }
   ],
   "source": [
    "print(first_three('python'), first_three('ds'), first_three('ipt'), sep = '\\n')"
   ]
  },
  {
   "cell_type": "code",
   "execution_count": null,
   "metadata": {},
   "outputs": [],
   "source": []
  },
  {
   "cell_type": "markdown",
   "metadata": {},
   "source": [
    "Q8. Write the python program to print the following floating numbers up to 2 decimal places?"
   ]
  },
  {
   "cell_type": "code",
   "execution_count": 21,
   "metadata": {},
   "outputs": [
    {
     "name": "stdout",
     "output_type": "stream",
     "text": [
      "12.65 541.44\n"
     ]
    }
   ],
   "source": [
    "x = 12.6543519832189\n",
    "y= 541.4351681\n",
    "print(round(x,2), round(y,2))"
   ]
  },
  {
   "cell_type": "code",
   "execution_count": null,
   "metadata": {},
   "outputs": [],
   "source": []
  },
  {
   "cell_type": "markdown",
   "metadata": {},
   "source": [
    "Q9. Write the Python program to format a number with a percentage?"
   ]
  },
  {
   "cell_type": "code",
   "execution_count": 22,
   "metadata": {},
   "outputs": [
    {
     "name": "stdout",
     "output_type": "stream",
     "text": [
      "original no:  0.2566\n",
      "formatted no: 25.66%\n",
      "original no:  89.346\n",
      "formatted no: 8934.60%\n"
     ]
    }
   ],
   "source": [
    "x = 0.2566\n",
    "y = 89.346\n",
    "print('original no: ', x, sep = ' ')\n",
    "print('formatted no: ' + '{:.2%}'.format(x))\n",
    "print('original no: ', y, sep = ' ')\n",
    "print('formatted no: ' + '{:.2%}'.format(y))\n",
    "\n",
    "\n"
   ]
  },
  {
   "cell_type": "code",
   "execution_count": null,
   "metadata": {},
   "outputs": [],
   "source": []
  },
  {
   "cell_type": "markdown",
   "metadata": {},
   "source": [
    "Q10. Write the Python program to count occurrences of a substring in a String?"
   ]
  },
  {
   "cell_type": "code",
   "execution_count": 23,
   "metadata": {},
   "outputs": [
    {
     "data": {
      "text/plain": [
       "2"
      ]
     },
     "execution_count": 23,
     "metadata": {},
     "output_type": "execute_result"
    }
   ],
   "source": [
    "str10 = 'the king of all the good times'\n",
    "str10.count('the')"
   ]
  },
  {
   "cell_type": "markdown",
   "metadata": {},
   "source": [
    "Q11. Write the Python program to count repeated characters in a string."
   ]
  },
  {
   "cell_type": "code",
   "execution_count": 24,
   "metadata": {},
   "outputs": [],
   "source": [
    "def count_rep_ch(str_11):\n",
    "    s = list(str_11)\n",
    "    l = list(set(list(s)))\n",
    "    cnt = []\n",
    "\n",
    "    for i in range(0,len(l)):\n",
    "        cnt.append(s.count(l[i]))\n",
    "\n",
    "    dict_1 = dict(zip(l,cnt))\n",
    "\n",
    "    for i in list(dict_1.keys()):\n",
    "        if(dict_1[i] == 1):\n",
    "            dict_1.pop(i)\n",
    "    return dict_1"
   ]
  },
  {
   "cell_type": "code",
   "execution_count": 25,
   "metadata": {},
   "outputs": [
    {
     "data": {
      "text/plain": [
       "{'h': 2, 'u': 2, 'e': 3, 'o': 3, 'r': 2, 't': 2}"
      ]
     },
     "execution_count": 25,
     "metadata": {},
     "output_type": "execute_result"
    }
   ],
   "source": [
    "count_rep_ch('thequickbrownjumpsoverthelazydog')   "
   ]
  },
  {
   "cell_type": "markdown",
   "metadata": {},
   "source": [
    "USING Counter from collections"
   ]
  },
  {
   "cell_type": "code",
   "execution_count": 26,
   "metadata": {},
   "outputs": [],
   "source": [
    "import collections\n",
    "def cnt_2(str_11):\n",
    "    d = collections.Counter(str_11)\n",
    "    d2 = {}\n",
    "    for i in sorted(d.keys(), key = d.get, reverse = True):\n",
    "        if(d[i] > 1):\n",
    "            d2[i] = d[i]\n",
    "    return d2"
   ]
  },
  {
   "cell_type": "code",
   "execution_count": 27,
   "metadata": {},
   "outputs": [
    {
     "data": {
      "text/plain": [
       "{'e': 3, 'o': 3, 't': 2, 'h': 2, 'u': 2, 'r': 2}"
      ]
     },
     "execution_count": 27,
     "metadata": {},
     "output_type": "execute_result"
    }
   ],
   "source": [
    "cnt_2('thequickbrownjumpsoverthelazydog')"
   ]
  },
  {
   "cell_type": "code",
   "execution_count": null,
   "metadata": {},
   "outputs": [],
   "source": []
  },
  {
   "cell_type": "markdown",
   "metadata": {},
   "source": [
    "Q12. Write the Python program to print the square and cube symbol in the area of a rectangle and volume of a cylinder?"
   ]
  },
  {
   "cell_type": "code",
   "execution_count": 28,
   "metadata": {},
   "outputs": [
    {
     "name": "stdout",
     "output_type": "stream",
     "text": [
      "area of square is 1256.66 cm² \n",
      "volume of cube is 1254.725 cm³ \n"
     ]
    }
   ],
   "source": [
    "area =  1256.66\n",
    "volume = 1254.725\n",
    "print('area of square is {} cm\\u00b2 '.format(area))\n",
    "print('volume of cube is {} cm\\u00b3 '.format(volume))"
   ]
  },
  {
   "cell_type": "code",
   "execution_count": null,
   "metadata": {},
   "outputs": [],
   "source": []
  },
  {
   "cell_type": "markdown",
   "metadata": {},
   "source": [
    "Q13. Write the Python program to check if a string contains all letters of the alphabet?"
   ]
  },
  {
   "cell_type": "code",
   "execution_count": 29,
   "metadata": {},
   "outputs": [
    {
     "name": "stdout",
     "output_type": "stream",
     "text": [
      "yes!! the string has all letters\n",
      "no!! the srring does not have all letters\n"
     ]
    }
   ],
   "source": [
    "import string\n",
    "def check_all_lttrs(input_str):\n",
    "    s = set(string.ascii_lowercase) \n",
    "    if (set(input_str.lower()) >= s):\n",
    "        return ('yes!! the string has all letters')\n",
    "    else:\n",
    "        return ('no!! the srring does not have all letters')\n",
    "\n",
    "print(check_all_lttrs('the quick brown fox jumps over the lazy dog'),\n",
    "check_all_lttrs('askkcbh o;uasncj ;uibaskjcn') , sep = '\\n')"
   ]
  },
  {
   "cell_type": "code",
   "execution_count": null,
   "metadata": {},
   "outputs": [],
   "source": []
  },
  {
   "cell_type": "markdown",
   "metadata": {},
   "source": [
    "Q14. Write the Python program to find the second most repeated word in a given string?"
   ]
  },
  {
   "cell_type": "code",
   "execution_count": 30,
   "metadata": {},
   "outputs": [],
   "source": [
    "from collections import Counter\n",
    "\n",
    "def sec_mst_repeated(str14):    \n",
    "    dict_1 = Counter(str14.split(' '))\n",
    "    freq = list(set(dict_1.values()))\n",
    "    freq = sorted(freq,reverse = True)[1]\n",
    "    words = []\n",
    "    for i in dict_1.keys():\n",
    "        if(dict_1[i] == freq):\n",
    "            words.append(i)\n",
    "    return words,freq\n"
   ]
  },
  {
   "cell_type": "code",
   "execution_count": 31,
   "metadata": {},
   "outputs": [
    {
     "data": {
      "text/plain": [
       "(['to', 'string'], 2)"
      ]
     },
     "execution_count": 31,
     "metadata": {},
     "output_type": "execute_result"
    }
   ],
   "source": [
    "sec_mst_repeated('Write the Python program to find the second the most repeated word in a given string to string')"
   ]
  },
  {
   "cell_type": "code",
   "execution_count": null,
   "metadata": {},
   "outputs": [],
   "source": []
  },
  {
   "cell_type": "markdown",
   "metadata": {},
   "source": [
    "Q15. Write the Python program to find the minimum window in the given string, which will contains all the characters of another given strings?"
   ]
  },
  {
   "cell_type": "code",
   "execution_count": 32,
   "metadata": {},
   "outputs": [
    {
     "name": "stdout",
     "output_type": "stream",
     "text": [
      "['P', 'R', 'W', 'S', 'O', 'E', 'R', 'I', 'U', 'S', 'F', 'K'] ['O', 'S', 'U']\n",
      "['S', 'O', 'E', 'R', 'I', 'U']\n"
     ]
    }
   ],
   "source": [
    "str_15 = 'PRWSOERIUSFK'\n",
    "str_15 = list(str_15)\n",
    "dr = list('OSU')\n",
    "ind = []\n",
    "print(str_15,dr)\n",
    "for i in dr:\n",
    "    ind.append(str_15.index(i))\n",
    "print(str_15[min(ind):max(ind)+1])\n",
    "\n",
    "    \n"
   ]
  },
  {
   "cell_type": "code",
   "execution_count": null,
   "metadata": {},
   "outputs": [],
   "source": []
  },
  {
   "cell_type": "code",
   "execution_count": null,
   "metadata": {},
   "outputs": [],
   "source": []
  },
  {
   "cell_type": "markdown",
   "metadata": {},
   "source": [
    "Q18. Write the Python program to count number of non-empty substrings of the given string?"
   ]
  },
  {
   "cell_type": "code",
   "execution_count": 33,
   "metadata": {},
   "outputs": [],
   "source": [
    "def count_substrings(string):\n",
    "    count = 0\n",
    "    for i in range(len(string)):\n",
    "        for j in range(i+1, len(string)+1 ):\n",
    "            count+=1\n",
    "            \n",
    "    return count"
   ]
  },
  {
   "cell_type": "code",
   "execution_count": 34,
   "metadata": {},
   "outputs": [
    {
     "data": {
      "text/plain": [
       "21"
      ]
     },
     "execution_count": 34,
     "metadata": {},
     "output_type": "execute_result"
    }
   ],
   "source": [
    "count_substrings('string')"
   ]
  },
  {
   "cell_type": "markdown",
   "metadata": {},
   "source": [
    "Q19. Write the Python program to count number of substrings with same first and last characters of the given string?"
   ]
  },
  {
   "cell_type": "code",
   "execution_count": 35,
   "metadata": {},
   "outputs": [],
   "source": [
    "def count_substrings_equal(string):\n",
    "    count = 0\n",
    "    for i in range(len(string)):\n",
    "        for j in range(i+1, len(string)+1 ):\n",
    "            if len(string[i:j]) > 1 :\n",
    "                if(string[i:j][0] == string[i:j][-1]):\n",
    "                    count+=1\n",
    "            \n",
    "    return count"
   ]
  },
  {
   "cell_type": "code",
   "execution_count": 36,
   "metadata": {},
   "outputs": [
    {
     "data": {
      "text/plain": [
       "4"
      ]
     },
     "execution_count": 36,
     "metadata": {},
     "output_type": "execute_result"
    }
   ],
   "source": [
    "count_substrings_equal('pineapple')"
   ]
  },
  {
   "cell_type": "code",
   "execution_count": null,
   "metadata": {},
   "outputs": [],
   "source": []
  },
  {
   "cell_type": "code",
   "execution_count": null,
   "metadata": {},
   "outputs": [],
   "source": []
  },
  {
   "cell_type": "markdown",
   "metadata": {},
   "source": [
    "Q20. Write the Python program to count the number of strings where the string length is 2 or more, and first and last character are same from a given list of strings."
   ]
  },
  {
   "cell_type": "code",
   "execution_count": 37,
   "metadata": {},
   "outputs": [],
   "source": [
    "def function(lst):\n",
    "    count = 0\n",
    "    for i in lst:\n",
    "        if (len(i) > 2) and i[0] == i[-1]:\n",
    "            count+=1\n",
    "    \n",
    "    return count\n",
    "                \n"
   ]
  },
  {
   "cell_type": "code",
   "execution_count": 38,
   "metadata": {},
   "outputs": [
    {
     "data": {
      "text/plain": [
       "2"
      ]
     },
     "execution_count": 38,
     "metadata": {},
     "output_type": "execute_result"
    }
   ],
   "source": [
    "function(['abc', 'xyz', 'wxw', '1331'])"
   ]
  },
  {
   "cell_type": "code",
   "execution_count": 39,
   "metadata": {},
   "outputs": [
    {
     "data": {
      "text/plain": [
       "3"
      ]
     },
     "execution_count": 39,
     "metadata": {},
     "output_type": "execute_result"
    }
   ],
   "source": [
    "function(['ss','wedw','dde','qwsdfq', 'lkdsl'])"
   ]
  },
  {
   "cell_type": "code",
   "execution_count": null,
   "metadata": {},
   "outputs": [],
   "source": []
  },
  {
   "cell_type": "markdown",
   "metadata": {},
   "source": [
    "Q21. Write the Python program to get a list, sorted in increasing order by the last element in each tuple from the given list of non-empty tuples?"
   ]
  },
  {
   "cell_type": "code",
   "execution_count": 40,
   "metadata": {},
   "outputs": [],
   "source": [
    "def get_last(tup):\n",
    "    return tup[-1]\n",
    "def sort(tup):\n",
    "    return sorted(tup, key = get_last)\n"
   ]
  },
  {
   "cell_type": "code",
   "execution_count": 41,
   "metadata": {},
   "outputs": [
    {
     "data": {
      "text/plain": [
       "[(2, 1), (1, 2), (2, 3), (4, 4), (2, 5)]"
      ]
     },
     "execution_count": 41,
     "metadata": {},
     "output_type": "execute_result"
    }
   ],
   "source": [
    "sort([ (2, 5), (1, 2), (4, 4), (2, 3), (2, 1) ])"
   ]
  },
  {
   "cell_type": "code",
   "execution_count": null,
   "metadata": {},
   "outputs": [],
   "source": []
  },
  {
   "cell_type": "markdown",
   "metadata": {},
   "source": [
    "Q22. Write the Python program to remove duplicates from a list?"
   ]
  },
  {
   "cell_type": "code",
   "execution_count": 42,
   "metadata": {},
   "outputs": [],
   "source": [
    "def remove_duplicate(lst):\n",
    "    return list(set(lst))"
   ]
  },
  {
   "cell_type": "code",
   "execution_count": 43,
   "metadata": {},
   "outputs": [
    {
     "data": {
      "text/plain": [
       "[1, 2, 3, 4, 5, 6, 7, 8, 9]"
      ]
     },
     "execution_count": 43,
     "metadata": {},
     "output_type": "execute_result"
    }
   ],
   "source": [
    "remove_duplicate([1,2,3,1,2,3,4,5,9,6,7,8,6,7])\n",
    "           "
   ]
  },
  {
   "cell_type": "code",
   "execution_count": null,
   "metadata": {},
   "outputs": [],
   "source": []
  },
  {
   "cell_type": "code",
   "execution_count": null,
   "metadata": {},
   "outputs": [],
   "source": []
  },
  {
   "cell_type": "markdown",
   "metadata": {},
   "source": [
    "Q23. Write the Python program to find the list of words that are longer than n from a given list of words?"
   ]
  },
  {
   "cell_type": "code",
   "execution_count": 44,
   "metadata": {},
   "outputs": [],
   "source": [
    "def find_longer(st,n):\n",
    "    st = st.split(' ')\n",
    "    ot = []\n",
    "    for i in st:\n",
    "        if (len(i) > n):\n",
    "            ot.append(i)\n",
    "    \n",
    "    return ot"
   ]
  },
  {
   "cell_type": "code",
   "execution_count": 45,
   "metadata": {},
   "outputs": [
    {
     "data": {
      "text/plain": [
       "['Python', 'program', 'longer']"
      ]
     },
     "execution_count": 45,
     "metadata": {},
     "output_type": "execute_result"
    }
   ],
   "source": [
    "find_longer('Write the Python program to find the list of words that are longer than n from a given list of words',5)"
   ]
  },
  {
   "cell_type": "code",
   "execution_count": null,
   "metadata": {},
   "outputs": [],
   "source": []
  },
  {
   "cell_type": "markdown",
   "metadata": {},
   "source": [
    "Q24. Write the Python program to print a specified list after removing the 0th, 4th, and 5th elements?"
   ]
  },
  {
   "cell_type": "code",
   "execution_count": 46,
   "metadata": {},
   "outputs": [],
   "source": [
    "def rem(lst,indices): #input list and indices which needs to be removed\n",
    "    count = 0\n",
    "    for i in indices:\n",
    "        lst.pop(i-count)\n",
    "        count = count + 1\n",
    "\n",
    "    return lst"
   ]
  },
  {
   "cell_type": "code",
   "execution_count": 47,
   "metadata": {},
   "outputs": [
    {
     "data": {
      "text/plain": [
       "['Green', 'White', 'Black']"
      ]
     },
     "execution_count": 47,
     "metadata": {},
     "output_type": "execute_result"
    }
   ],
   "source": [
    "rem(['Red', 'Green', 'White', 'Black', 'Pink', 'Yellow'],[0,4,5])"
   ]
  },
  {
   "cell_type": "code",
   "execution_count": null,
   "metadata": {},
   "outputs": [],
   "source": []
  },
  {
   "cell_type": "markdown",
   "metadata": {},
   "source": [
    "Q25. Write the Python program to generate all permutations of a list in Python?"
   ]
  },
  {
   "cell_type": "code",
   "execution_count": 48,
   "metadata": {},
   "outputs": [],
   "source": [
    "from itertools import permutations\n",
    "def perm(lst):\n",
    "    return list(permutations(lst, r = len(lst)))\n"
   ]
  },
  {
   "cell_type": "code",
   "execution_count": 49,
   "metadata": {},
   "outputs": [
    {
     "data": {
      "text/plain": [
       "[(1, 2, 3), (1, 3, 2), (2, 1, 3), (2, 3, 1), (3, 1, 2), (3, 2, 1)]"
      ]
     },
     "execution_count": 49,
     "metadata": {},
     "output_type": "execute_result"
    }
   ],
   "source": [
    "perm([1,2,3])"
   ]
  },
  {
   "cell_type": "code",
   "execution_count": null,
   "metadata": {},
   "outputs": [],
   "source": []
  },
  {
   "cell_type": "markdown",
   "metadata": {},
   "source": [
    "Q26. Write the Python program to convert a pair of values into a sorted unique array?"
   ]
  },
  {
   "cell_type": "code",
   "execution_count": 50,
   "metadata": {},
   "outputs": [],
   "source": [
    "def fn26(lst):\n",
    "    new = []\n",
    "    for i in l:\n",
    "        for j in [0,1]:\n",
    "            new.append(i[j])\n",
    "    \n",
    "    return list(set(new))\n",
    "        "
   ]
  },
  {
   "cell_type": "code",
   "execution_count": 51,
   "metadata": {},
   "outputs": [
    {
     "name": "stdout",
     "output_type": "stream",
     "text": [
      "original lsit of pairs [(1, 2), (3, 4), (1, 2), (5, 6), (7, 8), (1, 2), (3, 4), (3, 4), (7, 8), (9, 10)]\n",
      "new list [1, 2, 3, 4, 5, 6, 7, 8, 9, 10]\n"
     ]
    }
   ],
   "source": [
    "l = [ (1, 2), (3, 4), (1, 2), (5, 6), (7, 8), (1, 2), (3, 4), (3, 4), (7, 8), (9, 10) ]\n",
    "print('original lsit of pairs', l)\n",
    "print('new list', fn26(l))"
   ]
  },
  {
   "cell_type": "code",
   "execution_count": null,
   "metadata": {},
   "outputs": [],
   "source": []
  },
  {
   "cell_type": "markdown",
   "metadata": {},
   "source": [
    "Q27. Write the Python class to convert an integer to a roman numeral?"
   ]
  },
  {
   "cell_type": "code",
   "execution_count": 52,
   "metadata": {},
   "outputs": [],
   "source": [
    "class Int_to_Roman:\n",
    "    def int_to_roman(self, num):\n",
    "        values = [1000, 900, 500, 400, 100, 90, 50, 40, 10, 9, 5, 4, 1]\n",
    "        symbols = [\"M\", \"CM\", \"D\", \"CD\", \"C\", \"XC\", \"L\", \"XL\", \"X\", \"IX\", \"V\", \"IV\", \"I\"]\n",
    "        roman = ''\n",
    "        i = 0\n",
    "        while num> 0:\n",
    "            for none in range(num//values[i]):\n",
    "                roman = roman + symbols[i]\n",
    "                num = num - values[i]\n",
    "            \n",
    "            i = i + 1\n",
    "            \n",
    "        return roman"
   ]
  },
  {
   "cell_type": "code",
   "execution_count": 53,
   "metadata": {},
   "outputs": [
    {
     "name": "stdout",
     "output_type": "stream",
     "text": [
      "DXII\n",
      "XCVIII\n"
     ]
    }
   ],
   "source": [
    "no1 = Int_to_Roman()\n",
    "print(no1.int_to_roman(512))\n",
    "print(no1.int_to_roman(98))"
   ]
  },
  {
   "cell_type": "code",
   "execution_count": null,
   "metadata": {},
   "outputs": [],
   "source": []
  },
  {
   "cell_type": "markdown",
   "metadata": {},
   "source": [
    "Q28 Write the Python class to convert a Roman numeral to an integer?"
   ]
  },
  {
   "cell_type": "code",
   "execution_count": 54,
   "metadata": {},
   "outputs": [
    {
     "name": "stdout",
     "output_type": "stream",
     "text": [
      "3986\n",
      "4000\n",
      "100\n"
     ]
    }
   ],
   "source": [
    "class Roman_to_Int: \n",
    "    \n",
    "    def roman_to_integer(self, s): \n",
    "        rom_val = {'I': 1, 'V': 5, 'X': 10, 'L': 50, 'C': 100, 'D': 500, 'M': 1000}\n",
    "        int_val = 0 \n",
    "        for i in range(len(s)): \n",
    "            if i > 0 and rom_val[s[i]] > rom_val[s[i - 1]]: \n",
    "                int_val += rom_val[s[i]] - 2 * rom_val[s[i - 1]] \n",
    "            \n",
    "            else: \n",
    "                int_val += rom_val[s[i]]\n",
    "        \n",
    "        return int_val\n",
    "\n",
    "            \n",
    "no2 = Roman_to_Int()         \n",
    "print(no2.roman_to_integer('MMMCMLXXXVI')) \n",
    "print(no2.roman_to_integer('MMMM'))\n",
    "print(no2.roman_to_integer('C'))"
   ]
  },
  {
   "cell_type": "code",
   "execution_count": null,
   "metadata": {},
   "outputs": [],
   "source": []
  },
  {
   "cell_type": "markdown",
   "metadata": {},
   "source": [
    "Q29. Write the Python class to find the validity of the string of the parentheses, '(', ')', '{', '}', '[' and '] and the brackets must be closed in the correct order, example - \"()\" and \"()[]{}\" are valid but \"[)\", \"({[)]\" and \"{{{\" are invalid."
   ]
  },
  {
   "cell_type": "code",
   "execution_count": 55,
   "metadata": {},
   "outputs": [],
   "source": [
    "class Check_Validity: \n",
    "    def check_para(self,str1):\n",
    "        par = {'(' : ')', '[' : ']' , '{': '}'}\n",
    "        count = 0 \n",
    "        res = []\n",
    "        for i in str1:\n",
    "            if i in par.keys():\n",
    "                res.append(i)\n",
    "\n",
    "            else:\n",
    "\n",
    "                if (i == par[ res.pop()] ):\n",
    "                    count+=1\n",
    "\n",
    "        if(count == len(str1)/2 ):\n",
    "            return True\n",
    "        else:\n",
    "            return False"
   ]
  },
  {
   "cell_type": "code",
   "execution_count": 56,
   "metadata": {},
   "outputs": [
    {
     "name": "stdout",
     "output_type": "stream",
     "text": [
      "() True\n",
      "()[]{} True\n",
      "{([[{()}]])} True\n",
      "({[)] False\n",
      "{) False\n",
      "{{{ False\n"
     ]
    }
   ],
   "source": [
    "var = Check_Validity()\n",
    "print(\"()\", var.check_para(\"()\"))\n",
    "print(\"()[]{}\" , var.check_para(\"()[]{}\") )\n",
    "print(\"{([[{()}]])}\" , var.check_para(\"{([])}\") )\n",
    "print( \"({[)]\", var.check_para( \"({[)]\"))\n",
    "print( \"{)\", var.check_para( \"{)\"))\n",
    "print( \"{{{\", var.check_para( \"{{{\"))\n"
   ]
  },
  {
   "cell_type": "code",
   "execution_count": null,
   "metadata": {},
   "outputs": [],
   "source": []
  },
  {
   "cell_type": "markdown",
   "metadata": {},
   "source": [
    "Q30. Write the Python class to get all possible unique subsets from a set of distinct integers?"
   ]
  },
  {
   "cell_type": "code",
   "execution_count": null,
   "metadata": {},
   "outputs": [],
   "source": []
  },
  {
   "cell_type": "markdown",
   "metadata": {},
   "source": [
    "Q31. Write the Python class to find a pair of elements (indices of the two numbers) from a given array whose sum equals the specific target number?"
   ]
  },
  {
   "cell_type": "code",
   "execution_count": 57,
   "metadata": {},
   "outputs": [],
   "source": [
    "class CLSS:\n",
    "    def __init__(self, arr):\n",
    "        self.arr = arr\n",
    "        \n",
    "    def find_pair(self, tar):\n",
    "        out = []\n",
    "        d = {}\n",
    "        for i, j in enumerate(self.arr):\n",
    "            d[j] = i\n",
    "        for i in d.keys():\n",
    "            if (tar - i) in  d.keys():\n",
    "                if ( (d[i], d[tar - i ]) in out ) or ( (d[tar -i], d[i]) in out  ):\n",
    "                    continue\n",
    "                else:\n",
    "                    out.append((d[i], d[tar - i ]))\n",
    "                    \n",
    "        return out       "
   ]
  },
  {
   "cell_type": "code",
   "execution_count": 58,
   "metadata": {},
   "outputs": [
    {
     "name": "stdout",
     "output_type": "stream",
     "text": [
      "original array: [10, 20, 5, 2, 4, 30, 40, 45]\n",
      "pair indices  with given target [(0, 6), (1, 5), (2, 7)]\n"
     ]
    }
   ],
   "source": [
    "p = CLSS([10,20,5,2,4,30,40,45])\n",
    "print('original array:', p.arr)\n",
    "print('pair indices  with given target', p.find_pair(50))"
   ]
  },
  {
   "cell_type": "code",
   "execution_count": 59,
   "metadata": {},
   "outputs": [],
   "source": [
    "import numpy as np"
   ]
  },
  {
   "cell_type": "markdown",
   "metadata": {},
   "source": [
    "Q32. Write the Python class to find the three elements that sum to zero from the set of n real numbers?"
   ]
  },
  {
   "cell_type": "code",
   "execution_count": 60,
   "metadata": {},
   "outputs": [],
   "source": [
    "class Clss32:\n",
    "    def find(self, arr):\n",
    "        arr.sort()\n",
    "        i = 0\n",
    "        out = []\n",
    "        while i < len(arr):\n",
    "            lst = []\n",
    "            for j in range(i+1,len(arr)):\n",
    "                lst.append(arr[i] + arr[j])\n",
    "            lst = np.array(lst)\n",
    "            common_ele = np.intersect1d(-1 * lst, arr)\n",
    "            common_ele = common_ele.tolist()\n",
    "            if  len(common_ele) > 1  :\n",
    "                common_ele.append(arr[i])\n",
    "                if (sum(common_ele) == 0 ):\n",
    "                    out.append(common_ele)\n",
    "            i = i + 1\n",
    "            \n",
    "        return out"
   ]
  },
  {
   "cell_type": "code",
   "execution_count": 61,
   "metadata": {},
   "outputs": [
    {
     "name": "stdout",
     "output_type": "stream",
     "text": [
      "original array [-25, -10, -7, -3, 2, 4, 8, 10]\n",
      "elements summing to zero [[2, 8, -10], [-3, 10, -7], [2, 4, -6]]\n"
     ]
    }
   ],
   "source": [
    "c = Clss32()\n",
    "print('original array', [-25, -10, -7, -3, 2, 4, 8, 10])\n",
    "print('elements summing to zero', c.find([-25, -10, -7,-6, -3, 2, 4, 8, 10, -16,-9]))"
   ]
  },
  {
   "cell_type": "code",
   "execution_count": null,
   "metadata": {},
   "outputs": [],
   "source": []
  },
  {
   "cell_type": "markdown",
   "metadata": {},
   "source": [
    "Q33. Write the Python class to implement pow(x, n)?"
   ]
  },
  {
   "cell_type": "code",
   "execution_count": 62,
   "metadata": {},
   "outputs": [],
   "source": [
    "class Find_Power:\n",
    "    \n",
    "    def power(self,x,n):\n",
    "        return x ** n"
   ]
  },
  {
   "cell_type": "code",
   "execution_count": 63,
   "metadata": {},
   "outputs": [
    {
     "name": "stdout",
     "output_type": "stream",
     "text": [
      "pow(6,4) 1296\n",
      "pow(63,-4) 6.348012922776867e-08\n",
      "pow(0,4) 0\n"
     ]
    }
   ],
   "source": [
    "p = Find_Power()\n",
    "print('pow(6,4)', p.power(6,4))\n",
    "print('pow(63,-4)', p.power(63,-4))\n",
    "print('pow(0,4)', p.power(0,4))"
   ]
  },
  {
   "cell_type": "markdown",
   "metadata": {},
   "source": [
    "Q34. Write the Python class which has two methods get_String and print_String. get_String accept the string from the user and\n",
    "print_String print the string in upper case."
   ]
  },
  {
   "cell_type": "code",
   "execution_count": 64,
   "metadata": {},
   "outputs": [],
   "source": [
    "class Cap_string(): \n",
    "    def __init__(self): \n",
    "        self.str1 = str()\n",
    "    def get_String(self): \n",
    "        self.str1 = input()\n",
    "    def print_String(self): \n",
    "        print(self.str1.upper())\n",
    "        "
   ]
  },
  {
   "cell_type": "code",
   "execution_count": 65,
   "metadata": {},
   "outputs": [
    {
     "name": "stdout",
     "output_type": "stream",
     "text": [
      "string\n",
      "STRING\n"
     ]
    }
   ],
   "source": [
    "str1 = Cap_string() \n",
    "str1.get_String()\n",
    "str1.print_String()"
   ]
  },
  {
   "cell_type": "code",
   "execution_count": null,
   "metadata": {},
   "outputs": [],
   "source": []
  },
  {
   "cell_type": "markdown",
   "metadata": {},
   "source": [
    "Q35. Write the Python class named Rectangle constructed by a length and width and the method which will compute the area of the rectangle?"
   ]
  },
  {
   "cell_type": "code",
   "execution_count": 66,
   "metadata": {},
   "outputs": [],
   "source": [
    "class Rectangle():\n",
    "    def __init__(self, length, width):\n",
    "        self.length = length\n",
    "        self.width = width\n",
    "        \n",
    "    def area(self):\n",
    "        return self.length*self.width"
   ]
  },
  {
   "cell_type": "code",
   "execution_count": 67,
   "metadata": {},
   "outputs": [
    {
     "name": "stdout",
     "output_type": "stream",
     "text": [
      "area of rectangl with length 15 and width 30 is  450\n"
     ]
    }
   ],
   "source": [
    "r = Rectangle(15,30)\n",
    "print('area of rectangl with length {} and width {} is  {}'.format(r.length, r.width, r.area()))"
   ]
  },
  {
   "cell_type": "code",
   "execution_count": null,
   "metadata": {},
   "outputs": [],
   "source": []
  },
  {
   "cell_type": "markdown",
   "metadata": {},
   "source": [
    "Q36. Write the Python class named Circle constructed by the radius and two methods which will compute the area and perimeter of the circle?"
   ]
  },
  {
   "cell_type": "code",
   "execution_count": 68,
   "metadata": {},
   "outputs": [],
   "source": [
    "import numpy as np\n",
    "class Circle():\n",
    "    def __init__(self, radius):\n",
    "        self.radius = radius\n",
    "        \n",
    "    def area(self):\n",
    "        return np.pi*self.radius*self.radius\n",
    "    \n",
    "    def perimeter(self):\n",
    "        return 2*np.pi*self.radius\n",
    "        "
   ]
  },
  {
   "cell_type": "code",
   "execution_count": 69,
   "metadata": {},
   "outputs": [
    {
     "name": "stdout",
     "output_type": "stream",
     "text": [
      "radius: 12\n",
      "area 452.3893421169302\n",
      "perimeter 75.39822368615503\n"
     ]
    }
   ],
   "source": [
    "c = Circle(12)\n",
    "print('radius:', c.radius)\n",
    "print('area', c.area())\n",
    "print('perimeter', c.perimeter())"
   ]
  },
  {
   "cell_type": "code",
   "execution_count": null,
   "metadata": {},
   "outputs": [],
   "source": []
  },
  {
   "cell_type": "markdown",
   "metadata": {},
   "source": [
    "Q37. Write the Python program to get the class name of an instance in Python?"
   ]
  },
  {
   "cell_type": "code",
   "execution_count": 70,
   "metadata": {},
   "outputs": [
    {
     "name": "stdout",
     "output_type": "stream",
     "text": [
      "is c ínstance of circle class: True\n",
      "is c ínstance of Rectangle class: False\n",
      "is r ínstance of circle class: False\n",
      "is r ínstance of Rectangle class: True\n"
     ]
    }
   ],
   "source": [
    "print('is c ínstance of circle class:', isinstance(c, Circle))\n",
    "print('is c ínstance of Rectangle class:', isinstance(c, Rectangle))\n",
    "print('is r ínstance of circle class:', isinstance(r, Circle))\n",
    "print('is r ínstance of Rectangle class:', isinstance(r, Rectangle))"
   ]
  },
  {
   "cell_type": "code",
   "execution_count": null,
   "metadata": {},
   "outputs": [],
   "source": []
  },
  {
   "cell_type": "markdown",
   "metadata": {},
   "source": [
    "Q38. Write the Python program to count the number of students of individual class?"
   ]
  },
  {
   "cell_type": "code",
   "execution_count": 71,
   "metadata": {},
   "outputs": [
    {
     "name": "stdout",
     "output_type": "stream",
     "text": [
      "count Counter({'VI': 3, 'V': 2, 'VII': 1})\n"
     ]
    }
   ],
   "source": [
    "from collections import Counter\n",
    "classes = ( ('V', 1), ('VI', 1), ('V', 2), ('VI', 2), ('VI', 3), ('VII', 1) )\n",
    "lst = [i[0] for i in classes]\n",
    "c= Counter()\n",
    "c.update(lst)\n",
    "print('count', c)"
   ]
  },
  {
   "cell_type": "code",
   "execution_count": null,
   "metadata": {},
   "outputs": [],
   "source": []
  },
  {
   "cell_type": "markdown",
   "metadata": {},
   "source": [
    "Q39. Write the Python program to create an instance of an OrderedDict\n",
    "using the given dictionary and sort dictionary during the creation and print members of the dictionary in reverse order?"
   ]
  },
  {
   "cell_type": "code",
   "execution_count": 72,
   "metadata": {},
   "outputs": [
    {
     "name": "stdout",
     "output_type": "stream",
     "text": [
      "sorted dictionary\n",
      "OrderedDict([('Afghanistan', 93), ('Albania', 355), ('Algeria', 213), ('Andorra', 376), ('Angola', 244)])\n",
      "reversed\n",
      "OrderedDict([('Angola', 244), ('Andorra', 376), ('Algeria', 213), ('Albania', 355), ('Afghanistan', 93)])\n"
     ]
    }
   ],
   "source": [
    "from collections import OrderedDict\n",
    "\n",
    "d = {'Angola':244, 'Andorra': 376 , 'Algeria': 213 ,'Afghanistan': 93, 'Albania': 355}\n",
    "lst = []\n",
    "for i in sorted(d.keys()):\n",
    "    lst.append((i, d[i]))\n",
    "\n",
    "d_new = OrderedDict()\n",
    "d_new.update(lst)\n",
    "print('sorted dictionary', d_new, sep = '\\n')\n",
    "print('reversed', OrderedDict(list(reversed(d_new.items()))) , sep = '\\n')"
   ]
  },
  {
   "cell_type": "code",
   "execution_count": null,
   "metadata": {},
   "outputs": [],
   "source": []
  },
  {
   "cell_type": "markdown",
   "metadata": {},
   "source": [
    "Q40. Write the Python program to compare two unordered lists (not sets)?"
   ]
  },
  {
   "cell_type": "code",
   "execution_count": 73,
   "metadata": {},
   "outputs": [],
   "source": [
    "def compare_list(l1,l2):\n",
    "    l1.sort()\n",
    "    l2.sort()\n",
    "    if (Counter(l1) == Counter(l2)):\n",
    "        return True\n",
    "    \n",
    "    else:\n",
    "        return False"
   ]
  },
  {
   "cell_type": "code",
   "execution_count": 74,
   "metadata": {},
   "outputs": [
    {
     "name": "stdout",
     "output_type": "stream",
     "text": [
      "lists [1, 2, 3, 4, 5, 5, 5, 3, 4] [5, 2, 3, 4, 3, 5, 5, 1, 4]\n"
     ]
    },
    {
     "data": {
      "text/plain": [
       "True"
      ]
     },
     "execution_count": 74,
     "metadata": {},
     "output_type": "execute_result"
    }
   ],
   "source": [
    "print('lists', [1,2,3,4,5,5,5,3,4], [5,2,3,4,3,5,5,1,4])\n",
    "compare_list([1,2,3,4,5,5,5,3,4], [5,2,3,4,3,5,5,1,4])"
   ]
  },
  {
   "cell_type": "code",
   "execution_count": null,
   "metadata": {},
   "outputs": [],
   "source": []
  },
  {
   "cell_type": "markdown",
   "metadata": {},
   "source": [
    "Q41. Write the Python program to get an array buffer information?"
   ]
  },
  {
   "cell_type": "code",
   "execution_count": 75,
   "metadata": {},
   "outputs": [],
   "source": [
    "from array import array"
   ]
  },
  {
   "cell_type": "code",
   "execution_count": 76,
   "metadata": {},
   "outputs": [
    {
     "name": "stdout",
     "output_type": "stream",
     "text": [
      "array: array('d', [1.0, 2.0, 3.0, 4.0])\n",
      "buffer info: (1056520412368, 4)\n"
     ]
    }
   ],
   "source": [
    "arr = array('d', [1,2,3,4])\n",
    "print('array:', arr)\n",
    "print('buffer info:', arr.buffer_info())"
   ]
  },
  {
   "cell_type": "code",
   "execution_count": null,
   "metadata": {},
   "outputs": [],
   "source": []
  },
  {
   "cell_type": "markdown",
   "metadata": {},
   "source": [
    "Q42. Write the Python program to convert an array to an array of machine values and return the bytes representation?"
   ]
  },
  {
   "cell_type": "code",
   "execution_count": 77,
   "metadata": {},
   "outputs": [
    {
     "name": "stdout",
     "output_type": "stream",
     "text": [
      "array: array('i', [1, 2, 3, 4, 5, 6, 234, 7])\n",
      "machine values: b'\\x01\\x00\\x00\\x00\\x02\\x00\\x00\\x00\\x03\\x00\\x00\\x00\\x04\\x00\\x00\\x00\\x05\\x00\\x00\\x00\\x06\\x00\\x00\\x00\\xea\\x00\\x00\\x00\\x07\\x00\\x00\\x00'\n"
     ]
    }
   ],
   "source": [
    "arr1 = array('i', [1,2,3,4,5,6,234,7])\n",
    "print('array:', arr1)\n",
    "print('machine values:', arr1.tobytes())"
   ]
  },
  {
   "cell_type": "code",
   "execution_count": null,
   "metadata": {},
   "outputs": [],
   "source": []
  },
  {
   "cell_type": "markdown",
   "metadata": {},
   "source": [
    "Q43. Write the Python program to read a string and interpreting the string as an array of machine values?"
   ]
  },
  {
   "cell_type": "code",
   "execution_count": 78,
   "metadata": {},
   "outputs": [
    {
     "name": "stdout",
     "output_type": "stream",
     "text": [
      "array1: array('i', [7, 8, 9, 10, 2, 3, 24])\n",
      "Bytes: b'0700000008000000090000000a000000020000000300000018000000'\n",
      "array2: array('i', [7, 8, 9, 10, 2, 3, 24])\n"
     ]
    }
   ],
   "source": [
    "from array import array\n",
    "import binascii\n",
    "array1 = array('i', [7, 8, 9, 10,2,3,24])\n",
    "print('array1:', array1)\n",
    "as_bytes = array1.tobytes()\n",
    "print('Bytes:', binascii.hexlify(as_bytes))\n",
    "array2 = array('i')\n",
    "array2.frombytes(as_bytes)\n",
    "print('array2:', array2)"
   ]
  },
  {
   "cell_type": "code",
   "execution_count": null,
   "metadata": {},
   "outputs": [],
   "source": []
  },
  {
   "cell_type": "markdown",
   "metadata": {},
   "source": [
    "Q46. Write the Python program to create the FIFO queue? "
   ]
  },
  {
   "cell_type": "code",
   "execution_count": 79,
   "metadata": {},
   "outputs": [
    {
     "name": "stdout",
     "output_type": "stream",
     "text": [
      "0 1 2 3 \n",
      "\n"
     ]
    }
   ],
   "source": [
    "import queue\n",
    "q = queue.Queue()\n",
    "for x in range(4):\n",
    "    q.put(str(x))\n",
    "while not q.empty():\n",
    "    print(q.get(), end=\" \")\n",
    "print(\"\\n\")"
   ]
  },
  {
   "cell_type": "code",
   "execution_count": null,
   "metadata": {},
   "outputs": [],
   "source": []
  },
  {
   "cell_type": "markdown",
   "metadata": {},
   "source": [
    "Q47. Write the Python program to calculate the harmonic sum of n-1. Note: The harmonic sum is the sum of reciprocals of the positive Integers"
   ]
  },
  {
   "cell_type": "code",
   "execution_count": 80,
   "metadata": {},
   "outputs": [],
   "source": [
    "def harmonic_sum(n):\n",
    "    if n == 0:\n",
    "        return 'undefined'\n",
    "    h_sum = 0\n",
    "    for  i in range(1, n+1):\n",
    "        h_sum = h_sum + (1/i)\n",
    "        \n",
    "    return h_sum"
   ]
  },
  {
   "cell_type": "code",
   "execution_count": 81,
   "metadata": {},
   "outputs": [
    {
     "name": "stdout",
     "output_type": "stream",
     "text": [
      "harmonic sum 1: 1.0\n",
      "harmonic sum 16: 3.3807289932289937\n",
      "harmonic sum 2: 1.5\n",
      "harmonic sum 0: undefined\n"
     ]
    }
   ],
   "source": [
    "print('harmonic sum 1:', harmonic_sum(1))\n",
    "print('harmonic sum 16:', harmonic_sum(16))\n",
    "print('harmonic sum 2:', harmonic_sum(2))\n",
    "print('harmonic sum 0:', harmonic_sum(0))"
   ]
  },
  {
   "cell_type": "code",
   "execution_count": null,
   "metadata": {},
   "outputs": [],
   "source": []
  },
  {
   "cell_type": "markdown",
   "metadata": {},
   "source": [
    "Q48. Write the NumPy program to create a 2d array with 6 on the border and 0 inside?"
   ]
  },
  {
   "cell_type": "code",
   "execution_count": 82,
   "metadata": {},
   "outputs": [
    {
     "name": "stdout",
     "output_type": "stream",
     "text": [
      "old array\n",
      "[[6. 6. 6. 6. 6.]\n",
      " [6. 6. 6. 6. 6.]\n",
      " [6. 6. 6. 6. 6.]\n",
      " [6. 6. 6. 6. 6.]\n",
      " [6. 6. 6. 6. 6.]]\n",
      "new array\n",
      "[[6. 6. 6. 6. 6.]\n",
      " [6. 0. 0. 0. 6.]\n",
      " [6. 0. 0. 0. 6.]\n",
      " [6. 0. 0. 0. 6.]\n",
      " [6. 6. 6. 6. 6.]]\n"
     ]
    }
   ],
   "source": [
    "ary = 6*np.ones((5,5))\n",
    "ary1 = ary.copy()\n",
    "ary1[1:4,1:4] = 0\n",
    "print('old array',ary, sep = '\\n')\n",
    "print('new array',ary1, sep = '\\n')\n",
    "\n"
   ]
  },
  {
   "cell_type": "code",
   "execution_count": null,
   "metadata": {},
   "outputs": [],
   "source": []
  },
  {
   "cell_type": "markdown",
   "metadata": {},
   "source": [
    "Q49. Write the NumPy program to create a 8x8 matrix and fill it with the checkerboard pattern?"
   ]
  },
  {
   "cell_type": "code",
   "execution_count": 83,
   "metadata": {},
   "outputs": [],
   "source": [
    "mat = np.zeros((8,8))\n",
    "mat[1::2,::2] = 1\n",
    "mat[::2,1::2] = 1\n",
    "mat = mat*6 + 3"
   ]
  },
  {
   "cell_type": "code",
   "execution_count": 84,
   "metadata": {},
   "outputs": [
    {
     "name": "stdout",
     "output_type": "stream",
     "text": [
      "checkboard pattern\n",
      "[[3. 9. 3. 9. 3. 9. 3. 9.]\n",
      " [9. 3. 9. 3. 9. 3. 9. 3.]\n",
      " [3. 9. 3. 9. 3. 9. 3. 9.]\n",
      " [9. 3. 9. 3. 9. 3. 9. 3.]\n",
      " [3. 9. 3. 9. 3. 9. 3. 9.]\n",
      " [9. 3. 9. 3. 9. 3. 9. 3.]\n",
      " [3. 9. 3. 9. 3. 9. 3. 9.]\n",
      " [9. 3. 9. 3. 9. 3. 9. 3.]]\n"
     ]
    }
   ],
   "source": [
    "print('checkboard pattern', mat, sep = '\\n')"
   ]
  },
  {
   "cell_type": "code",
   "execution_count": null,
   "metadata": {},
   "outputs": [],
   "source": []
  },
  {
   "cell_type": "markdown",
   "metadata": {},
   "source": [
    "Q50. Write the NumPy program to create an empty and a full array."
   ]
  },
  {
   "cell_type": "code",
   "execution_count": 85,
   "metadata": {},
   "outputs": [
    {
     "name": "stdout",
     "output_type": "stream",
     "text": [
      "empty matrix:\n",
      "[[            nan             nan             nan]\n",
      " [            nan 4.24399158e-314 1.06099790e-313]\n",
      " [1.69759663e-313 2.54639495e-313 3.39519327e-313]]\n",
      "full matrix:\n",
      "[[6 6 6]\n",
      " [6 6 6]\n",
      " [6 6 6]]\n"
     ]
    }
   ],
   "source": [
    "q = np.empty((3,3))\n",
    "print('empty matrix:', q, sep = '\\n')\n",
    "w = np.full((3,3), 6)\n",
    "print('full matrix:', w, sep = '\\n')\n"
   ]
  },
  {
   "cell_type": "code",
   "execution_count": null,
   "metadata": {},
   "outputs": [],
   "source": []
  },
  {
   "cell_type": "markdown",
   "metadata": {},
   "source": [
    "Q51. Write the NumPy program to convert the values of Centigrade degrees into the Fahrenheit degrees and the centigrade values are stored in the NumPy array."
   ]
  },
  {
   "cell_type": "code",
   "execution_count": 86,
   "metadata": {},
   "outputs": [
    {
     "data": {
      "text/plain": [
       "array([ 89.6, 212. , 104. ,  95. ,  82.4])"
      ]
     },
     "execution_count": 86,
     "metadata": {},
     "output_type": "execute_result"
    }
   ],
   "source": [
    "cent = np.array([32,100,40,35,28])\n",
    "#a =np.array(list( map(cent_to_fah, cent)))\n",
    "fah = (9/5)*cent + 32\n",
    "fah"
   ]
  },
  {
   "cell_type": "code",
   "execution_count": null,
   "metadata": {},
   "outputs": [],
   "source": []
  },
  {
   "cell_type": "markdown",
   "metadata": {},
   "source": [
    "Q52. Write the NumPy program to find the real and imaginary parts of an array of complex numbers?"
   ]
  },
  {
   "cell_type": "code",
   "execution_count": 87,
   "metadata": {},
   "outputs": [
    {
     "name": "stdout",
     "output_type": "stream",
     "text": [
      "real parts>>>\n",
      "[1.         0.70710678 3.         9.        ]\n",
      "imag part>>>\n",
      "[ 0.          0.70710678  6.         78.        ]\n"
     ]
    }
   ],
   "source": [
    "l = [ 1.00000000+0.j , 0.70710678+0.70710678j , 3+ 6j , 9+78j]\n",
    "n = np.array(l)\n",
    "print('real parts>>>')\n",
    "print(n.real)\n",
    "print('imag part>>>')\n",
    "print(n.imag)"
   ]
  },
  {
   "cell_type": "code",
   "execution_count": 88,
   "metadata": {},
   "outputs": [
    {
     "data": {
      "text/plain": [
       "array([1.        , 0.70710678, 3.        , 9.        ])"
      ]
     },
     "execution_count": 88,
     "metadata": {},
     "output_type": "execute_result"
    }
   ],
   "source": [
    "n.real"
   ]
  },
  {
   "cell_type": "code",
   "execution_count": null,
   "metadata": {},
   "outputs": [],
   "source": []
  },
  {
   "cell_type": "markdown",
   "metadata": {},
   "source": [
    "Q53:-  Write the NumPy program to test whether each element of a 1-D array is also present in the second array?"
   ]
  },
  {
   "cell_type": "code",
   "execution_count": 89,
   "metadata": {},
   "outputs": [
    {
     "name": "stdout",
     "output_type": "stream",
     "text": [
      "array1 [ 0 10 20 40 60]\n",
      "array2 [ 0 40]\n",
      "[ True False False  True False]\n"
     ]
    }
   ],
   "source": [
    "a1 =  [ 0,10,20,40,60]\n",
    "a2 =  [0, 40]\n",
    "a1 = np.array(a1)\n",
    "a2 = np.array(a2)\n",
    "print('array1', a1)\n",
    "print('array2', a2)\n",
    "print(np.in1d(a1,a2))"
   ]
  },
  {
   "cell_type": "code",
   "execution_count": null,
   "metadata": {},
   "outputs": [],
   "source": []
  },
  {
   "cell_type": "markdown",
   "metadata": {},
   "source": [
    "Q54 -  Write the NumPy program to find common values between two arrays?"
   ]
  },
  {
   "cell_type": "code",
   "execution_count": 90,
   "metadata": {},
   "outputs": [
    {
     "name": "stdout",
     "output_type": "stream",
     "text": [
      "array1 [ 0 10 20 40 60]\n",
      "array2 [10 30 40]\n",
      "common entries [10 40]\n"
     ]
    }
   ],
   "source": [
    "a1 = [ 0,10,20,40,60] \n",
    "a2 =  [10, 30, 40]\n",
    "a1 = np.array(a1)\n",
    "a2 = np.array(a2)\n",
    "print('array1', a1)\n",
    "print('array2', a2)\n",
    "print('common entries', a1[np.in1d(a1,a2).nonzero()])"
   ]
  },
  {
   "cell_type": "code",
   "execution_count": null,
   "metadata": {},
   "outputs": [],
   "source": []
  },
  {
   "cell_type": "markdown",
   "metadata": {},
   "source": [
    "Q55. Write the NumPy program to get the unique elements of an array?"
   ]
  },
  {
   "cell_type": "code",
   "execution_count": 91,
   "metadata": {},
   "outputs": [
    {
     "name": "stdout",
     "output_type": "stream",
     "text": [
      "array [10 10 20 20 30 30]\n",
      "unique elements [10 20 30]\n",
      "array [[1 1]\n",
      " [2 3]]\n",
      "unique elements [1 2 3]\n"
     ]
    }
   ],
   "source": [
    "a = [10,10,20,20,30,30]\n",
    "a= np.array(a)\n",
    "a2 = np.array([[1,1],[2,3]])\n",
    "print('array', a)\n",
    "print('unique elements', np.unique(a))\n",
    "print('array', a2)\n",
    "print('unique elements', np.unique(a2))\n",
    "\n"
   ]
  },
  {
   "cell_type": "code",
   "execution_count": null,
   "metadata": {},
   "outputs": [],
   "source": []
  },
  {
   "cell_type": "markdown",
   "metadata": {},
   "source": [
    "Q56. Write the NumPy program to find the set exclusive-or of two arrays. Set exclusive-or will return the sorted, unique values that are in only one (not both) of the input arrays?"
   ]
  },
  {
   "cell_type": "code",
   "execution_count": 92,
   "metadata": {},
   "outputs": [
    {
     "name": "stdout",
     "output_type": "stream",
     "text": [
      "array1 [ 0 10 20 40 60 80]\n",
      "array2 [10 30 40 50 70]\n",
      "unique vlues only in one of the array [ 0 20 30 50 60 70 80]\n"
     ]
    }
   ],
   "source": [
    "arr_1 = [ 0 ,10, 20, 40, 60, 80] \n",
    "arr_2 = [10, 30, 40, 50, 70]\n",
    "arr_1 = np.array(arr_1)\n",
    "arr_2 = np.array(arr_2)\n",
    "print('array1', arr_1)\n",
    "print('array2', arr_2)\n",
    "print('unique vlues only in one of the array', np.setxor1d(arr_1,arr_2))"
   ]
  },
  {
   "cell_type": "code",
   "execution_count": 93,
   "metadata": {},
   "outputs": [
    {
     "data": {
      "text/plain": [
       "array([ 0, 20, 30, 50, 60, 70, 80])"
      ]
     },
     "execution_count": 93,
     "metadata": {},
     "output_type": "execute_result"
    }
   ],
   "source": [
    "#alternate approach\n",
    "np.sort(np.concatenate((np.setdiff1d(arr_1,arr_2), np.setdiff1d(arr_2,arr_1))))"
   ]
  },
  {
   "cell_type": "code",
   "execution_count": null,
   "metadata": {},
   "outputs": [],
   "source": []
  },
  {
   "cell_type": "markdown",
   "metadata": {},
   "source": [
    "Q57. Write the NumPy program to test if all elements in an array evaluate to True ?"
   ]
  },
  {
   "cell_type": "code",
   "execution_count": 94,
   "metadata": {},
   "outputs": [
    {
     "name": "stdout",
     "output_type": "stream",
     "text": [
      "False\n",
      "True\n",
      "False\n"
     ]
    }
   ],
   "source": [
    "a = np.array([1,2,3,4,5,0])\n",
    "b = np.matrix('1 2 3;4 5 6;7 8 9')\n",
    "c = np.array([True, False, True,False])\n",
    "print(np.all(a))\n",
    "print(np.all(b))\n",
    "print(np.all(c))"
   ]
  },
  {
   "cell_type": "code",
   "execution_count": null,
   "metadata": {},
   "outputs": [],
   "source": []
  },
  {
   "cell_type": "markdown",
   "metadata": {},
   "source": [
    "Q58 Write the NumPy program to test whether any array element along the given axis evaluates to True?"
   ]
  },
  {
   "cell_type": "code",
   "execution_count": 95,
   "metadata": {},
   "outputs": [
    {
     "name": "stdout",
     "output_type": "stream",
     "text": [
      "True\n",
      "True\n",
      "True\n"
     ]
    }
   ],
   "source": [
    "a = np.array([1,2,3,4,5,6])\n",
    "b = np.matrix('1 2 3;4 5 6;7 8 9')\n",
    "c = np.array([True, False, True,False])\n",
    "print(np.any(a))\n",
    "print(np.any(b))\n",
    "print(np.any(c))"
   ]
  },
  {
   "cell_type": "code",
   "execution_count": null,
   "metadata": {},
   "outputs": [],
   "source": []
  },
  {
   "cell_type": "markdown",
   "metadata": {},
   "source": [
    "Q59. Write the NumPy program to construct an array by repeating?"
   ]
  },
  {
   "cell_type": "code",
   "execution_count": 96,
   "metadata": {},
   "outputs": [
    {
     "name": "stdout",
     "output_type": "stream",
     "text": [
      "original array: [1 2 3 4 5]\n",
      "repeating 2 times: [1 2 3 4 5 1 2 3 4 5]\n",
      "repeating 3 times: [1 2 3 4 5 1 2 3 4 5 1 2 3 4 5]\n"
     ]
    }
   ],
   "source": [
    "arr = np.array([1,2,3,4,5])\n",
    "print('original array:', arr)\n",
    "print('repeating 2 times:', np.tile(arr,2))\n",
    "print('repeating 3 times:', np.tile(arr,3))\n"
   ]
  },
  {
   "cell_type": "code",
   "execution_count": null,
   "metadata": {},
   "outputs": [],
   "source": []
  },
  {
   "cell_type": "markdown",
   "metadata": {},
   "source": [
    "Q60. Write the NumPy program to find the indices of the maximum and minimum values with the given axis of an array?"
   ]
  },
  {
   "cell_type": "code",
   "execution_count": 97,
   "metadata": {},
   "outputs": [
    {
     "name": "stdout",
     "output_type": "stream",
     "text": [
      "original array: [ 1  2  3 -4 54 33 42]\n",
      "max value index 4\n",
      "min value index: 3\n"
     ]
    }
   ],
   "source": [
    "a = np.array([1,2,3,-4,54,33,42])\n",
    "print('original array:' , a)\n",
    "print('max value index', np.argmax(a))\n",
    "print('min value index:', a.argmin())"
   ]
  },
  {
   "cell_type": "code",
   "execution_count": null,
   "metadata": {},
   "outputs": [],
   "source": []
  },
  {
   "cell_type": "markdown",
   "metadata": {},
   "source": [
    "Q61. Write the NumPy program compare two arrays using numpy?"
   ]
  },
  {
   "cell_type": "code",
   "execution_count": 98,
   "metadata": {},
   "outputs": [
    {
     "name": "stdout",
     "output_type": "stream",
     "text": [
      "arr_1 > arr_2: [False False  True False False  True  True]\n",
      "arr_1 >= arr_2 [False False  True False False  True  True]\n",
      "arr_1 < arr_2: [ True  True False  True  True False False]\n",
      "arr_1 <= arr_2: [ True  True False  True  True False False]\n"
     ]
    }
   ],
   "source": [
    "arr_1 = np.array([23,45,78,28,56,52,90])\n",
    "arr_2 = np.array([45,67,21,89,77,32,86])\n",
    "print('arr_1 > arr_2:' , np.greater(arr_1,arr_2))\n",
    "print('arr_1 >= arr_2' , np.greater_equal(arr_1,arr_2))\n",
    "print('arr_1 < arr_2:',np.less(arr_1,arr_2))\n",
    "print('arr_1 <= arr_2:',np.less_equal(arr_1,arr_2))\n",
    "\n"
   ]
  },
  {
   "cell_type": "code",
   "execution_count": null,
   "metadata": {},
   "outputs": [],
   "source": []
  },
  {
   "cell_type": "markdown",
   "metadata": {},
   "source": [
    "Q62. Write the NumPy program to sort an along the first, last axis of an array?"
   ]
  },
  {
   "cell_type": "code",
   "execution_count": 99,
   "metadata": {},
   "outputs": [
    {
     "name": "stdout",
     "output_type": "stream",
     "text": [
      "original array:\n",
      "[[2 5]\n",
      " [4 4]]\n",
      "axis =0 :\n",
      "[[2 4]\n",
      " [4 5]]\n",
      "axis =1 :\n",
      "[[2 5]\n",
      " [4 4]]\n"
     ]
    }
   ],
   "source": [
    "a = np.array([[2,5],[4,4]])\n",
    "print('original array:', a, sep = '\\n')\n",
    "print('axis =0 :', np.sort(a, axis = 0), sep = '\\n')\n",
    "print('axis =1 :', np.sort(a, axis = 1), sep = '\\n')\n"
   ]
  },
  {
   "cell_type": "code",
   "execution_count": 100,
   "metadata": {},
   "outputs": [],
   "source": [
    "import pandas as pd"
   ]
  },
  {
   "cell_type": "markdown",
   "metadata": {},
   "source": [
    "Q63. Write the NumPy program to sort pairs of first name and last name return their indices (first by last name, then by first name)."
   ]
  },
  {
   "cell_type": "code",
   "execution_count": 101,
   "metadata": {},
   "outputs": [
    {
     "name": "stdout",
     "output_type": "stream",
     "text": [
      "indices in sorting order:  [1 3 2 4 0]\n"
     ]
    }
   ],
   "source": [
    "first_names = ('Margery', 'Betsey', 'Shelley', 'Lanell', 'Genesis')\n",
    "last_names = ('Woolum', 'Battle', 'Plotner', 'Brien', 'Stahl')\n",
    "print('indices in sorting order: ', np.lexsort((first_names, last_names)))"
   ]
  },
  {
   "cell_type": "code",
   "execution_count": null,
   "metadata": {},
   "outputs": [],
   "source": []
  },
  {
   "cell_type": "markdown",
   "metadata": {},
   "source": [
    "Q64. Write the NumPy program to get the values and indices of the elements that are bigger than 10 in the given array?"
   ]
  },
  {
   "cell_type": "code",
   "execution_count": 102,
   "metadata": {},
   "outputs": [
    {
     "name": "stdout",
     "output_type": "stream",
     "text": [
      "original array:- \n",
      "[[19  2  3]\n",
      " [23  9  6]\n",
      " [10  2 77]]\n",
      "elements greater than 10:-  [19 23 77]\n",
      "indices:-  (array([0, 1, 2], dtype=int64), array([0, 0, 2], dtype=int64))\n"
     ]
    }
   ],
   "source": [
    "arr = np.array([[19,2,3],[23,9,6],[10,2,77]])\n",
    "print('original array:- ', arr, sep = '\\n')\n",
    "print('elements greater than 10:- ', arr[np.where(arr>10)])\n",
    "print('indices:- ', np.where(arr>10))"
   ]
  },
  {
   "cell_type": "code",
   "execution_count": null,
   "metadata": {},
   "outputs": [],
   "source": []
  },
  {
   "cell_type": "markdown",
   "metadata": {},
   "source": [
    "Q65. Write the NumPy program to find the memory size of a NumPy array?"
   ]
  },
  {
   "cell_type": "code",
   "execution_count": 103,
   "metadata": {},
   "outputs": [
    {
     "name": "stdout",
     "output_type": "stream",
     "text": [
      "36 bytes\n"
     ]
    }
   ],
   "source": [
    "arr = np.array([[1,2,3],[4,5,6],[7,8,9]])\n",
    "print('{} bytes'.format(arr.size*arr.itemsize))"
   ]
  },
  {
   "cell_type": "code",
   "execution_count": null,
   "metadata": {},
   "outputs": [],
   "source": []
  },
  {
   "cell_type": "markdown",
   "metadata": {},
   "source": [
    "Q66. Write the NumPy program to create an array of ones and an array of zeros?"
   ]
  },
  {
   "cell_type": "code",
   "execution_count": 104,
   "metadata": {},
   "outputs": [
    {
     "name": "stdout",
     "output_type": "stream",
     "text": [
      "array of zeros : - dtype\n",
      "float64\n",
      "[[0. 0. 0.]\n",
      " [0. 0. 0.]\n",
      " [0. 0. 0.]]\n",
      "type changes to int\n",
      "[[0 0 0]\n",
      " [0 0 0]\n",
      " [0 0 0]]\n",
      "array of ones:- dtype\n",
      "float64\n",
      "[[1. 1. 1.]\n",
      " [1. 1. 1.]\n",
      " [1. 1. 1.]]\n",
      "type changes to int\n",
      "[[1 1 1]\n",
      " [1 1 1]\n",
      " [1 1 1]]\n"
     ]
    }
   ],
   "source": [
    "arr_0 = np.zeros((3,3),dtype = np.float)\n",
    "arr_1 = np.ones((3,3), dtype = np.float)\n",
    "print('array of zeros : - dtype',arr_0.dtype, arr_0, sep = '\\n')\n",
    "print('type changes to int', arr_0.astype(int), sep = '\\n')\n",
    "print('array of ones:- dtype', arr_1.dtype, arr_1, sep = '\\n')\n",
    "print('type changes to int', arr_1.astype(int), sep = '\\n')"
   ]
  },
  {
   "cell_type": "code",
   "execution_count": null,
   "metadata": {},
   "outputs": [],
   "source": []
  },
  {
   "cell_type": "markdown",
   "metadata": {},
   "source": [
    "Q67. Write the NumPy program to change the dimension of an array?"
   ]
  },
  {
   "cell_type": "code",
   "execution_count": 105,
   "metadata": {},
   "outputs": [
    {
     "name": "stdout",
     "output_type": "stream",
     "text": [
      "(6,)\n",
      "array:-[1 2 3 4 5 6 7 8 9], shape (9,)\n",
      "***********************************\n",
      "reshaped array [[1 2 3]\n",
      " [4 5 6]\n",
      " [7 8 9]]\n",
      "shape (3, 3)\n"
     ]
    }
   ],
   "source": [
    "a = np.array([1,2,3,4,5,6])\n",
    "print(a.shape)\n",
    "b= np.array([1,2,3,4,5,6,7,8,9])\n",
    "print('array:-{}, shape {}'.format(b,b.shape))\n",
    "b=b.reshape(3,3)\n",
    "print('***********************************')\n",
    "print('reshaped array', b)\n",
    "print('shape', b.shape)"
   ]
  },
  {
   "cell_type": "code",
   "execution_count": null,
   "metadata": {},
   "outputs": [],
   "source": []
  },
  {
   "cell_type": "markdown",
   "metadata": {},
   "source": [
    "Q68. Write the NumPy program to create a new shape to an array without changing its data"
   ]
  },
  {
   "cell_type": "code",
   "execution_count": 106,
   "metadata": {},
   "outputs": [
    {
     "name": "stdout",
     "output_type": "stream",
     "text": [
      "reshape 3x2\n",
      "[[1 2]\n",
      " [3 4]\n",
      " [5 6]]\n",
      "reshape 2x3\n",
      "[[1 2 3]\n",
      " [4 5 6]]\n"
     ]
    }
   ],
   "source": [
    "arr = np.array([1,2,3,4,5,6])\n",
    "print('reshape 3x2', arr.reshape(3,2), sep = '\\n')\n",
    "print('reshape 2x3', arr.reshape(2,3), sep = '\\n')\n"
   ]
  },
  {
   "cell_type": "code",
   "execution_count": null,
   "metadata": {},
   "outputs": [],
   "source": []
  },
  {
   "cell_type": "markdown",
   "metadata": {},
   "source": [
    "Q69. Write the NumPy program to create a new array of 3*5, filled with 2?"
   ]
  },
  {
   "cell_type": "code",
   "execution_count": 107,
   "metadata": {},
   "outputs": [
    {
     "name": "stdout",
     "output_type": "stream",
     "text": [
      "3x5 array filled with 2\n",
      "[[2. 2. 2. 2. 2.]\n",
      " [2. 2. 2. 2. 2.]\n",
      " [2. 2. 2. 2. 2.]]\n"
     ]
    }
   ],
   "source": [
    "arr = np.ones((3,5))*2\n",
    "print('3x5 array filled with 2', arr ,sep = '\\n')"
   ]
  },
  {
   "cell_type": "code",
   "execution_count": null,
   "metadata": {},
   "outputs": [],
   "source": []
  },
  {
   "cell_type": "markdown",
   "metadata": {},
   "source": [
    "Q70. Write the NumPy program to create a 3-D array with ones on a diagonal and zeros elsewhere?"
   ]
  },
  {
   "cell_type": "code",
   "execution_count": 108,
   "metadata": {},
   "outputs": [
    {
     "name": "stdout",
     "output_type": "stream",
     "text": [
      "3 d array with ones on diag and 0 else where\n",
      "[[[1. 0. 0.]\n",
      "  [0. 1. 0.]\n",
      "  [0. 0. 1.]]]\n"
     ]
    }
   ],
   "source": [
    "arr = np.eye(3,3)\n",
    "arr = np.array(arr,ndmin = 3)\n",
    "print('3 d array with ones on diag and 0 else where', arr, sep = '\\n')"
   ]
  },
  {
   "cell_type": "code",
   "execution_count": null,
   "metadata": {},
   "outputs": [],
   "source": []
  },
  {
   "cell_type": "markdown",
   "metadata": {},
   "source": [
    "Q71. Write the NumPy program to split an array of 14 elements into the 3 arrays and each of which has 2, 4, and 8 elements in original order?"
   ]
  },
  {
   "cell_type": "code",
   "execution_count": 109,
   "metadata": {},
   "outputs": [
    {
     "name": "stdout",
     "output_type": "stream",
     "text": [
      "subarrays\n",
      "[array([1, 2]), array([3, 4, 5, 6]), array([ 7,  8,  9, 10, 11, 12, 13, 14])]\n"
     ]
    }
   ],
   "source": [
    "a = np.array([ 1, 2, 3 ,4 ,5, 6, 7, 8 ,9 ,10, 11, 12, 13 ,14])\n",
    "print('subarrays', np.split(a, [2,6]), sep = '\\n')\n"
   ]
  },
  {
   "cell_type": "code",
   "execution_count": null,
   "metadata": {},
   "outputs": [],
   "source": []
  },
  {
   "cell_type": "markdown",
   "metadata": {},
   "source": [
    "Q72. Write the NumPy program to split of an array of shape 4x4 it into two arrays along the second axis ?"
   ]
  },
  {
   "cell_type": "code",
   "execution_count": 110,
   "metadata": {},
   "outputs": [
    {
     "name": "stdout",
     "output_type": "stream",
     "text": [
      "original array\n",
      "[[57 17 30 94]\n",
      " [73 88 68 25]\n",
      " [84 97 66 74]\n",
      " [57 59 79 90]]\n",
      "array after splitting :-\n",
      "[[57 17]\n",
      " [73 88]\n",
      " [84 97]\n",
      " [57 59]]\n",
      "[[30 94]\n",
      " [68 25]\n",
      " [66 74]\n",
      " [79 90]]\n"
     ]
    }
   ],
   "source": [
    "a = np.random.randint(10,100,(4,4))\n",
    "print('original array', a , sep = '\\n')\n",
    "print('array after splitting :-')\n",
    "b = np.split(a,2,axis = 1)\n",
    "print(b[0], b[1], sep = '\\n')\n"
   ]
  },
  {
   "cell_type": "code",
   "execution_count": null,
   "metadata": {},
   "outputs": [],
   "source": []
  },
  {
   "cell_type": "markdown",
   "metadata": {},
   "source": [
    "Q73. Write the NumPy program to create a 5x5 matrix with row values ranging from 0 to 4?"
   ]
  },
  {
   "cell_type": "code",
   "execution_count": 111,
   "metadata": {},
   "outputs": [
    {
     "name": "stdout",
     "output_type": "stream",
     "text": [
      "original array\n",
      "[[0. 0. 0. 0. 0.]\n",
      " [0. 0. 0. 0. 0.]\n",
      " [0. 0. 0. 0. 0.]\n",
      " [0. 0. 0. 0. 0.]\n",
      " [0. 0. 0. 0. 0.]]\n",
      "new array\n",
      "[[0. 1. 2. 3. 4.]\n",
      " [0. 1. 2. 3. 4.]\n",
      " [0. 1. 2. 3. 4.]\n",
      " [0. 1. 2. 3. 4.]\n",
      " [0. 1. 2. 3. 4.]]\n"
     ]
    }
   ],
   "source": [
    "arr = np.zeros((5,5))\n",
    "print('original array', arr, sep = '\\n')\n",
    "for i in range(5):\n",
    "    arr[:,i] = i\n",
    "\n",
    "print('new array', arr , sep = '\\n')"
   ]
  },
  {
   "cell_type": "code",
   "execution_count": null,
   "metadata": {},
   "outputs": [],
   "source": []
  },
  {
   "cell_type": "markdown",
   "metadata": {},
   "source": [
    "Q74. Write the NumPy program to create an array of zeros and three column types (integer, float, character)?"
   ]
  },
  {
   "cell_type": "code",
   "execution_count": 112,
   "metadata": {},
   "outputs": [
    {
     "name": "stdout",
     "output_type": "stream",
     "text": [
      "[(1, 2.0, 'Albert Einstein'), (2, 2.0, 'Edmond Halley'), (3, 3.0, 'Gertrude B. Elion')]\n"
     ]
    }
   ],
   "source": [
    "a = np.zeros(3, dtype=('i4,f4,a40'))\n",
    "a= [(1, 2., \"Albert Einstein\"), (2, 2., \"Edmond Halley\"), (3, 3., \"Gertrude B. Elion\")]\n",
    "print(a)"
   ]
  },
  {
   "cell_type": "code",
   "execution_count": null,
   "metadata": {},
   "outputs": [],
   "source": []
  },
  {
   "cell_type": "markdown",
   "metadata": {},
   "source": [
    "Q75. Write the NumPy program to remove the negative values in the numpy array with 0?"
   ]
  },
  {
   "cell_type": "code",
   "execution_count": 113,
   "metadata": {},
   "outputs": [
    {
     "name": "stdout",
     "output_type": "stream",
     "text": [
      "original array\n",
      "[-1 -4 -3  2  3  4  5 -6]\n",
      "modified array\n",
      "[0 0 0 2 3 4 5 0]\n"
     ]
    }
   ],
   "source": [
    "arr = np.array([-1,-4 ,-3 ,2 ,3, 4, 5, -6])\n",
    "print('original array', arr, sep = '\\n')\n",
    "print('modified array')\n",
    "print(np.where(arr<0, 0 , arr))"
   ]
  },
  {
   "cell_type": "code",
   "execution_count": 114,
   "metadata": {},
   "outputs": [],
   "source": [
    "import matplotlib.pyplot as plt"
   ]
  },
  {
   "cell_type": "markdown",
   "metadata": {},
   "source": [
    "Q76. Write the NumPy program to compute the histogram of a set of data?"
   ]
  },
  {
   "cell_type": "code",
   "execution_count": 115,
   "metadata": {},
   "outputs": [
    {
     "data": {
      "text/plain": [
       "(array([0., 2., 1., 0., 0.]),\n",
       " array([0, 1, 2, 3, 4, 5]),\n",
       " <a list of 5 Patch objects>)"
      ]
     },
     "execution_count": 115,
     "metadata": {},
     "output_type": "execute_result"
    },
    {
     "data": {
      "image/png": "[encoded data removed]",
      "text/plain": [
       "<Figure size 432x288 with 1 Axes>"
      ]
     },
     "metadata": {
      "needs_background": "light"
     },
     "output_type": "display_data"
    }
   ],
   "source": [
    " plt.hist(x = [1,2,1], bins = [0,1,2,3,4,5])"
   ]
  },
  {
   "cell_type": "code",
   "execution_count": null,
   "metadata": {},
   "outputs": [],
   "source": []
  },
  {
   "cell_type": "markdown",
   "metadata": {},
   "source": [
    "Q77. Write the NumPy program to compute the line graph of a set of data?"
   ]
  },
  {
   "cell_type": "code",
   "execution_count": 116,
   "metadata": {},
   "outputs": [
    {
     "data": {
      "text/plain": [
       "[<matplotlib.lines.Line2D at 0xf5ff413358>]"
      ]
     },
     "execution_count": 116,
     "metadata": {},
     "output_type": "execute_result"
    },
    {
     "data": {
      "image/png": "[encoded data removed]",
      "text/plain": [
       "<Figure size 432x288 with 1 Axes>"
      ]
     },
     "metadata": {
      "needs_background": "light"
     },
     "output_type": "display_data"
    }
   ],
   "source": [
    "arr = np.random.randint(1,50,20)\n",
    "plt.plot(arr, range(len(arr)))"
   ]
  },
  {
   "cell_type": "code",
   "execution_count": null,
   "metadata": {},
   "outputs": [],
   "source": []
  },
  {
   "cell_type": "markdown",
   "metadata": {},
   "source": [
    "Q78. Write the NumPy program to extracts all the elements from second row from given (4x4) array?"
   ]
  },
  {
   "cell_type": "code",
   "execution_count": 117,
   "metadata": {},
   "outputs": [
    {
     "name": "stdout",
     "output_type": "stream",
     "text": [
      "original array\n",
      "[[63 52 81 25]\n",
      " [63 65 38 70]\n",
      " [47 96 71 45]\n",
      " [ 3 55  7 95]]\n",
      "elements from second row\n",
      "[63 65 38 70]\n"
     ]
    }
   ],
   "source": [
    "arr = np.random.randint(0,100,(4,4))\n",
    "print('original array', arr , sep ='\\n' )\n",
    "print('elements from second row', arr[1,:], sep = '\\n')"
   ]
  },
  {
   "cell_type": "code",
   "execution_count": null,
   "metadata": {},
   "outputs": [],
   "source": []
  },
  {
   "cell_type": "code",
   "execution_count": null,
   "metadata": {},
   "outputs": [],
   "source": []
  },
  {
   "cell_type": "markdown",
   "metadata": {},
   "source": [
    "Q79. Write the NumPy program to extract first element of the second row and fourth element of fourth row from a given (4x4) array?"
   ]
  },
  {
   "cell_type": "code",
   "execution_count": 118,
   "metadata": {},
   "outputs": [
    {
     "name": "stdout",
     "output_type": "stream",
     "text": [
      "original array\n",
      "[[ 0  1  2  3]\n",
      " [ 4  5  6  7]\n",
      " [ 8  9 10 11]\n",
      " [12 13 14 15]]\n",
      "extracted ele.\n",
      "[ 4 15]\n"
     ]
    }
   ],
   "source": [
    "arr = np.arange(16).reshape((4,4))\n",
    "print('original array', arr , sep ='\\n' )\n",
    "print('extracted ele.',arr[(1,3),(0,3)], sep = '\\n')\n"
   ]
  },
  {
   "cell_type": "code",
   "execution_count": null,
   "metadata": {},
   "outputs": [],
   "source": []
  },
  {
   "cell_type": "markdown",
   "metadata": {},
   "source": [
    "Q80. Write the NumPy program to add two arrays A and B of sizes (3,3) and (,3)?"
   ]
  },
  {
   "cell_type": "code",
   "execution_count": 119,
   "metadata": {},
   "outputs": [
    {
     "name": "stdout",
     "output_type": "stream",
     "text": [
      "array1 \n",
      "[[1. 1. 1.]\n",
      " [1. 1. 1.]\n",
      " [1. 1. 1.]]\n",
      "array 2\n",
      "[0 1 2]\n",
      "sum\n",
      "[[1. 2. 3.]\n",
      " [1. 2. 3.]\n",
      " [1. 2. 3.]]\n"
     ]
    }
   ],
   "source": [
    "arr_1 = np.ones((3,3))\n",
    "arr_2 = np.array([0,1,2])\n",
    "print('array1 ', arr_1, sep = '\\n')\n",
    "print('array 2', arr_2, sep = '\\n')\n",
    "print('sum', np.add(arr_1,arr_2), sep = '\\n')"
   ]
  },
  {
   "cell_type": "code",
   "execution_count": null,
   "metadata": {},
   "outputs": [],
   "source": []
  },
  {
   "cell_type": "markdown",
   "metadata": {},
   "source": [
    "Q81. Write the NumPy program to copy data from a given array to another array?"
   ]
  },
  {
   "cell_type": "code",
   "execution_count": 120,
   "metadata": {},
   "outputs": [
    {
     "name": "stdout",
     "output_type": "stream",
     "text": [
      "original array\n",
      "[[72 43 95 22]\n",
      " [29 44 70 95]\n",
      " [61 59 24 86]\n",
      " [30 83 46 41]]\n",
      "copied array\n",
      "[[72 43 95 22]\n",
      " [29 44 70 95]\n",
      " [61 59 24 86]\n",
      " [30 83 46 41]]\n"
     ]
    }
   ],
   "source": [
    "a = np.random.randint(10,100,(4,4))\n",
    "print('original array', a, sep = '\\n')\n",
    "b = a.copy()\n",
    "print('copied array', b, sep = '\\n')"
   ]
  },
  {
   "cell_type": "code",
   "execution_count": null,
   "metadata": {},
   "outputs": [],
   "source": []
  },
  {
   "cell_type": "markdown",
   "metadata": {},
   "source": [
    "Q82. Write the NumPy program to calculate the sum of all columns of the 2D numpy array?"
   ]
  },
  {
   "cell_type": "code",
   "execution_count": 121,
   "metadata": {},
   "outputs": [
    {
     "name": "stdout",
     "output_type": "stream",
     "text": [
      "original array\n",
      "[[51 61 21 83 58 51 31 11 30]\n",
      " [74 61 25 19 86 83 68 46 14]\n",
      " [74 11 78 91 25 18 26 25 27]\n",
      " [77 90 92 36 68 70 40 61 50]]\n",
      "sum of colms\n",
      "[276 223 216 229 237 222 165 143 121]\n"
     ]
    }
   ],
   "source": [
    "arr = np.random.randint(10,100,(4,9))\n",
    "print('original array', arr, sep = '\\n')\n",
    "print('sum of colms', arr.sum(axis =0 ), sep = '\\n')"
   ]
  },
  {
   "cell_type": "code",
   "execution_count": null,
   "metadata": {},
   "outputs": [],
   "source": []
  },
  {
   "cell_type": "markdown",
   "metadata": {},
   "source": [
    "Q83. Write the NumPy program to calculate averages without NaNs along the given array?"
   ]
  },
  {
   "cell_type": "code",
   "execution_count": 122,
   "metadata": {},
   "outputs": [
    {
     "name": "stdout",
     "output_type": "stream",
     "text": [
      "original array\n",
      " [[10. 20. 30.]\n",
      " [40. 50. nan]\n",
      " [nan  6. nan]\n",
      " [nan nan nan]]\n",
      "mean ignoring nan [20. 45.  6. nan]\n"
     ]
    },
    {
     "name": "stderr",
     "output_type": "stream",
     "text": [
      "C:\\Users\\DELL\\Anaconda3\\lib\\site-packages\\ipykernel_launcher.py:3: RuntimeWarning: Mean of empty slice\n",
      "  This is separate from the ipykernel package so we can avoid doing imports until\n"
     ]
    }
   ],
   "source": [
    "arr = np.array([[10., 20., 30.],[40. ,50. ,np.nan], [np.nan, 6. ,np.nan] ,[np.nan, np.nan,  np.nan]])\n",
    "print('original array', arr , sep = '\\n ')\n",
    "print('mean ignoring nan', np.nanmean(arr,axis = 1))"
   ]
  },
  {
   "cell_type": "code",
   "execution_count": 123,
   "metadata": {},
   "outputs": [],
   "source": [
    "##using masked array"
   ]
  },
  {
   "cell_type": "code",
   "execution_count": 124,
   "metadata": {},
   "outputs": [
    {
     "name": "stdout",
     "output_type": "stream",
     "text": [
      "original array\n",
      "[[10. 20. 30.]\n",
      " [40. 50. nan]\n",
      " [nan  6. nan]\n",
      " [nan nan nan]]\n",
      "mean along each axis \n",
      "[20. 45.  6. nan]\n"
     ]
    }
   ],
   "source": [
    "arr = np.array([[10., 20., 30.],[40. ,50. ,np.nan], [np.nan, 6. ,np.nan] ,[np.nan, np.nan,  np.nan]])\n",
    "print('original array', arr, sep = '\\n')\n",
    "arr = np.ma.array(arr, mask = np.isnan(arr))\n",
    "a = arr.mean(axis = 1).filled(np.nan)\n",
    "print('mean along each axis ', a, sep = '\\n')"
   ]
  },
  {
   "cell_type": "code",
   "execution_count": null,
   "metadata": {},
   "outputs": [],
   "source": []
  },
  {
   "cell_type": "markdown",
   "metadata": {},
   "source": [
    "Q84. Create two arrays of six elements. Write the NumPy program to count the number of instances of a value occurring in one array on the condition of another array."
   ]
  },
  {
   "cell_type": "code",
   "execution_count": 125,
   "metadata": {},
   "outputs": [
    {
     "name": "stdout",
     "output_type": "stream",
     "text": [
      "array 1\n",
      "[1 2 3 4 5 6 7 8 9]\n",
      "array 2\n",
      "[1 4 6 3 5 4 3 2 4]\n",
      "Number of instances of a value occurring in one array on the condition of another array: 3\n"
     ]
    }
   ],
   "source": [
    "a  = np.array([1,2,3,4,5,6,7,8,9])\n",
    "b = np.array([1,4,6,3,5,4,3,2,4 ])\n",
    "print('array 1', a, sep = '\\n')\n",
    "print('array 2', b, sep = '\\n')\n",
    "print('Number of instances of a value occurring in one array on the condition of another array:', np.sum((a > 3) & ( b < 4)), )"
   ]
  },
  {
   "cell_type": "code",
   "execution_count": null,
   "metadata": {},
   "outputs": [],
   "source": []
  },
  {
   "cell_type": "markdown",
   "metadata": {},
   "source": [
    "Q85. Write the NumPy program to convert a Python dictionary to a Numpy ndarray ?"
   ]
  },
  {
   "cell_type": "code",
   "execution_count": 126,
   "metadata": {},
   "outputs": [
    {
     "name": "stdout",
     "output_type": "stream",
     "text": [
      "{'column0': {'a': 1, 'b': 0.0, 'c': 0.0, 'd': 2.0}, 'column1': {'a': 3.0, 'b': 1, 'c': 0.0, 'd': -1.0}, 'column2': {'a': 4, 'b': 1, 'c': 5.0, 'd': -1.0}, 'column3': {'a': 3.0, 'b': -1.0, 'c': -1.0, 'd': -1.0}}\n",
      "<class 'dict'>\n",
      "*********************\n",
      "numpy array\n",
      "*************\n",
      "<class 'numpy.ndarray'>\n",
      "[[ 1.  3.  4.  3.]\n",
      " [ 0.  1.  1. -1.]\n",
      " [ 0.  0.  5. -1.]\n",
      " [ 2. -1. -1. -1.]]\n"
     ]
    }
   ],
   "source": [
    "a = {'column0': {'a': 1, 'b': 0.0, 'c': 0.0, 'd': 2.0}, 'column1': {'a': 3.0, 'b': 1, 'c': 0.0, 'd': -1.0}, 'column2': {'a': 4, 'b': 1, 'c': 5.0, 'd': -1.0}, 'column3': {'a': 3.0, 'b': -1.0, 'c': -1.0, 'd': -1.0}}\n",
    "print(a, type(a),'*********************',  sep = '\\n')\n",
    "b =pd.DataFrame(a).values\n",
    "print('numpy array','*************',type(b),  b, sep = '\\n')"
   ]
  },
  {
   "cell_type": "code",
   "execution_count": null,
   "metadata": {},
   "outputs": [],
   "source": []
  },
  {
   "cell_type": "markdown",
   "metadata": {},
   "source": [
    "Q86. Write the Numpy program to find and store the non-zero unique rows in an array after comparing each row with other row in the given matrix?"
   ]
  },
  {
   "cell_type": "code",
   "execution_count": 127,
   "metadata": {},
   "outputs": [
    {
     "name": "stdout",
     "output_type": "stream",
     "text": [
      "original array \n",
      "[[ 1  1  0]\n",
      " [ 0  0  0]\n",
      " [ 0  2  3]\n",
      " [ 0  0  0]\n",
      " [ 0 -1  1]\n",
      " [ 0  0  0]]\n",
      "non zero unique rows\n",
      "[[ 1  1  0]\n",
      " [ 0  2  3]\n",
      " [ 0 -1  1]]\n"
     ]
    }
   ],
   "source": [
    "ar = np.array([[ 1, 1, 0], [ 0, 0, 0] ,[ 0, 2, 3] ,[ 0, 0 ,0] ,[ 0 ,-1 ,1] ,[ 0 ,0 ,0]])\n",
    "r = []\n",
    "for i,j in enumerate(ar):\n",
    "    if (np.all(j == 0)) != True:\n",
    "        r.append(i)\n",
    "print('original array ', ar, sep = '\\n')\n",
    "print('non zero unique rows', ar[r], sep = '\\n')"
   ]
  },
  {
   "cell_type": "code",
   "execution_count": null,
   "metadata": {},
   "outputs": [],
   "source": []
  },
  {
   "cell_type": "markdown",
   "metadata": {},
   "source": [
    "Q87. Write the NumPy program to multiply the matrix by another matrix of complex numbers and create a new matrix of complex numbers?"
   ]
  },
  {
   "cell_type": "code",
   "execution_count": 128,
   "metadata": {},
   "outputs": [
    {
     "name": "stdout",
     "output_type": "stream",
     "text": [
      "a\n",
      "[1.+2.j 3.+4.j]\n",
      "b\n",
      "[5.+6.j 7.+8.j]\n",
      "product of the above two arrays\n",
      "(70-8j)\n"
     ]
    }
   ],
   "source": [
    "import numpy as np\n",
    "a = np.array([ 1.+2.j ,3.+4.j])\n",
    "b = np.array([ 5.+6.j,  7.+8.j])\n",
    "print('a', a, sep = '\\n')\n",
    "print('b', b, sep = '\\n')\n",
    "print('product of the above two arrays', np.vdot(a,b), sep = '\\n')"
   ]
  },
  {
   "cell_type": "code",
   "execution_count": null,
   "metadata": {},
   "outputs": [],
   "source": []
  },
  {
   "cell_type": "markdown",
   "metadata": {},
   "source": [
    "Q88. Write a NumPy program to generate the matrix product of two Arrays?"
   ]
  },
  {
   "cell_type": "code",
   "execution_count": 129,
   "metadata": {},
   "outputs": [
    {
     "name": "stdout",
     "output_type": "stream",
     "text": [
      "array 1\n",
      "[[2 5 8]\n",
      " [4 5 8]\n",
      " [2 4 4]]\n",
      "array 2\n",
      "[[16 14 11]\n",
      " [10 17 18]\n",
      " [17 14 14]]\n",
      "product of above 2 matrices\n",
      "[[218 225 224]\n",
      " [250 253 246]\n",
      " [140 152 150]]\n"
     ]
    }
   ],
   "source": [
    "arr1 = np.random.randint(1,9,(3,3))\n",
    "arr2 = np.random.randint(10,19,(3,3))\n",
    "print('array 1', arr1, sep = '\\n')\n",
    "print('array 2', arr2 , sep = '\\n')\n",
    "print('product of above 2 matrices', np.matmul(arr1,arr2), sep = '\\n')"
   ]
  },
  {
   "cell_type": "code",
   "execution_count": null,
   "metadata": {},
   "outputs": [],
   "source": []
  },
  {
   "cell_type": "markdown",
   "metadata": {},
   "source": [
    "Q89. Write the NumPy program to find roots of the following Polynomials?\n",
    "a) (x2 - 4x + 7) b) x4 - 11x3 + 9x2 + 11x ? 10"
   ]
  },
  {
   "cell_type": "code",
   "execution_count": 130,
   "metadata": {},
   "outputs": [
    {
     "name": "stdout",
     "output_type": "stream",
     "text": [
      "roots of poly_1\n",
      "[2.+1.73205081j 2.-1.73205081j]\n",
      "roots of ploy_2\n",
      "[ 9.97739366+0.j          1.9206355 +0.j         -0.44901458+0.56588568j\n",
      " -0.44901458-0.56588568j]\n"
     ]
    }
   ],
   "source": [
    "poly_1 = [1,-4,7]\n",
    "poly_2 = [1,-11,9,11,10]\n",
    "print('roots of poly_1', np.roots(poly_1), sep = '\\n')\n",
    "print('roots of ploy_2', np.roots(poly_2), sep = '\\n')"
   ]
  },
  {
   "cell_type": "code",
   "execution_count": null,
   "metadata": {},
   "outputs": [],
   "source": []
  },
  {
   "cell_type": "markdown",
   "metadata": {},
   "source": [
    "Q90. Write the NumPy program to calculate inverse of sine, cosine, and inverse tangent for all elements in a given array?"
   ]
  },
  {
   "cell_type": "code",
   "execution_count": 131,
   "metadata": {},
   "outputs": [
    {
     "name": "stdout",
     "output_type": "stream",
     "text": [
      "sine inv :  [ 1.57079633  0.          0.78539816  1.04719755 -1.57079633]      unit:  radians\n",
      "sine inv :  [ 90.   0.  45.  60. -90.] unit: degrees\n",
      "\n",
      "\n",
      "cosine inv :  [0.         1.57079633 0.78539816 0.52359878 3.14159265]      unit:  radians\n",
      "cosine inv :  [  0.  90.  45.  30. 180.] unit: degrees\n",
      "\n",
      "\n",
      "tangent inv :  [ 0.78539816  0.          0.61547971  0.71372438 -0.78539816]      unit:  radians\n",
      "tangent inv :  [ 45.           0.          35.26438968  40.89339465 -45.        ] unit: degrees\n"
     ]
    }
   ],
   "source": [
    "a = np.array([1,0,(1/np.sqrt(2)), np.sqrt(3)/2, -1])\n",
    "print('sine inv : ', np.arcsin(a), '     unit:  radians')\n",
    "print('sine inv : ', np.arcsin(a)*(360/(2*np.pi)), 'unit: degrees')\n",
    "print('\\n')\n",
    "\n",
    "print('cosine inv : ', np.arccos(a), '     unit:  radians')\n",
    "print('cosine inv : ', np.arccos(a)*(360/(2*np.pi)), 'unit: degrees')\n",
    "print('\\n')\n",
    "print('tangent inv : ', np.arctan(a), '     unit:  radians')\n",
    "print('tangent inv : ', np.arctan(a)*(360/(2*np.pi)), 'unit: degrees')"
   ]
  },
  {
   "cell_type": "code",
   "execution_count": null,
   "metadata": {},
   "outputs": [],
   "source": []
  },
  {
   "cell_type": "markdown",
   "metadata": {},
   "source": [
    "Q91. Write the NumPy program to calculate the difference between in neighbouring elements, element-wise of a given array?"
   ]
  },
  {
   "cell_type": "code",
   "execution_count": 132,
   "metadata": {},
   "outputs": [
    {
     "name": "stdout",
     "output_type": "stream",
     "text": [
      "original array: -  [  3 209   4  54 605 645 232 765   7 658]\n",
      "diff between neighbouring elements [ 206 -205   50  551   40 -413  533 -758  651]\n"
     ]
    }
   ],
   "source": [
    "a = np.array([3,209,4,54,605,645,232,765,7,658])\n",
    "print('original array: - ', a )\n",
    "print('diff between neighbouring elements', np.diff(a))"
   ]
  },
  {
   "cell_type": "code",
   "execution_count": null,
   "metadata": {},
   "outputs": [],
   "source": []
  },
  {
   "cell_type": "markdown",
   "metadata": {},
   "source": [
    "Q92. Write the Python program to find the maximum and the minimum value of a given flattened array?"
   ]
  },
  {
   "cell_type": "code",
   "execution_count": 133,
   "metadata": {},
   "outputs": [
    {
     "name": "stdout",
     "output_type": "stream",
     "text": [
      "original array\n",
      "[[18 15 18]\n",
      " [ 8  9  6]\n",
      " [10 14 15]]\n",
      "flattened arrat [18 15 18  8  9  6 10 14 15]\n",
      "max element :  18\n",
      "min element:  6\n"
     ]
    }
   ],
   "source": [
    "a = np.random.randint(1,19, (3,3))\n",
    "print('original array' ,a, sep = '\\n')\n",
    "print('flattened arrat', a.flatten())\n",
    "print('max element : '  ,a.flatten().max())\n",
    "print('min element: ',a.flatten().min() )"
   ]
  },
  {
   "cell_type": "code",
   "execution_count": null,
   "metadata": {},
   "outputs": [],
   "source": []
  },
  {
   "cell_type": "markdown",
   "metadata": {},
   "source": [
    "Q93. Write the NumPy program to calculate the difference between in the maximum and the minimum values of a given array along the second axis ?"
   ]
  },
  {
   "cell_type": "code",
   "execution_count": 134,
   "metadata": {},
   "outputs": [
    {
     "name": "stdout",
     "output_type": "stream",
     "text": [
      "original array\n",
      "[[ 0  1  2  3  4  5]\n",
      " [ 6  7  8  9 10 11]]\n",
      "diff bw max and min val along second axs: -  [5 5]\n"
     ]
    }
   ],
   "source": [
    "q = np.arange(12).reshape(2,6)\n",
    "a,b = np.max(q, axis =1), np.min(q, axis =1)\n",
    "print('original array' , q, sep ='\\n' )\n",
    "print('diff bw max and min val along second axs: - ' , a-b)\n"
   ]
  },
  {
   "cell_type": "code",
   "execution_count": 135,
   "metadata": {},
   "outputs": [
    {
     "name": "stdout",
     "output_type": "stream",
     "text": [
      "original array\n",
      "[[ 0  1  2  3  4  5]\n",
      " [ 6  7  8  9 10 11]]\n",
      "diff bw max and min val along second axs: -  [5 5]\n"
     ]
    }
   ],
   "source": [
    "# using np.ptp\n",
    "q = np.arange(12).reshape(2,6)\n",
    "print('original array' , q, sep ='\\n' )\n",
    "print('diff bw max and min val along second axs: - ' , np.ptp(q,axis =1))"
   ]
  },
  {
   "cell_type": "code",
   "execution_count": null,
   "metadata": {},
   "outputs": [],
   "source": []
  },
  {
   "cell_type": "markdown",
   "metadata": {},
   "source": [
    "Q94. Write the NumPy program to compute the weighted  average of the given array ?"
   ]
  },
  {
   "cell_type": "code",
   "execution_count": 136,
   "metadata": {},
   "outputs": [
    {
     "name": "stdout",
     "output_type": "stream",
     "text": [
      "weighted avg is 15.333333333333334\n"
     ]
    }
   ],
   "source": [
    "arr1 = np.arange(10,19,1)\n",
    "weights = np.arange(1,10, 1)\n",
    "avg_1 = np.average(arr1, weights = weights, axis = 0)\n",
    "avg_2 = ((arr1*weights)/weights.sum()).sum()\n",
    "assert np.allclose(avg_1, avg_2)\n",
    "print('weighted avg is {}'.format(avg_1))"
   ]
  },
  {
   "cell_type": "code",
   "execution_count": null,
   "metadata": {},
   "outputs": [],
   "source": []
  },
  {
   "cell_type": "markdown",
   "metadata": {},
   "source": [
    "Q95. Write the NumPy program to compute the mean, standard deviation, and the variance of a given array along the second axis?"
   ]
  },
  {
   "cell_type": "code",
   "execution_count": 137,
   "metadata": {},
   "outputs": [
    {
     "name": "stdout",
     "output_type": "stream",
     "text": [
      "original array [0 1 2 3 4 5]\n",
      "mean : 2.5, \n",
      " std dev : 1.707825127659933 \n",
      " variance: 2.9166666666666665\n"
     ]
    }
   ],
   "source": [
    "arr1 = np.arange(6)\n",
    "print('original array', arr1, sep = ' ')\n",
    "print('mean : {}, \\n std dev : {} \\n variance: {}'.format(arr1.mean(axis =0), arr1.std(axis = 0), (arr1.std(axis = 0)**2)))"
   ]
  },
  {
   "cell_type": "code",
   "execution_count": null,
   "metadata": {},
   "outputs": [],
   "source": []
  },
  {
   "cell_type": "markdown",
   "metadata": {},
   "source": [
    "Q96. Write the Numpy program to compute the covariance matrix of the two given arrays?"
   ]
  },
  {
   "cell_type": "code",
   "execution_count": 138,
   "metadata": {},
   "outputs": [
    {
     "name": "stdout",
     "output_type": "stream",
     "text": [
      "original arr1:  [0. 1. 2.]\n",
      "original array 2:  [2 1 0]\n",
      "covariance matrix : \n",
      "[[ 1. -1.]\n",
      " [-1.  1.]]\n"
     ]
    }
   ],
   "source": [
    "arr1 = np.array([0,1.,2])\n",
    "arr2 = np.array([2,1,0])\n",
    "print('original arr1: ', arr1, sep = ' ')\n",
    "print('original array 2: ', arr2, sep = ' ')\n",
    "print('covariance matrix : ',np.cov(arr1, arr2), sep ='\\n' )"
   ]
  },
  {
   "cell_type": "code",
   "execution_count": null,
   "metadata": {},
   "outputs": [],
   "source": []
  },
  {
   "cell_type": "markdown",
   "metadata": {},
   "source": [
    "Q97. Write a NumPy program to compute the cross-correlation of two given arrays ?"
   ]
  },
  {
   "cell_type": "code",
   "execution_count": 139,
   "metadata": {},
   "outputs": [
    {
     "name": "stdout",
     "output_type": "stream",
     "text": [
      "original arr1:  [0. 1. 3.]\n",
      "original array 2:  [2 4 5]\n",
      "cross correlation\n",
      "[19.]\n"
     ]
    }
   ],
   "source": [
    "arr1 = np.array([0,1.,3])\n",
    "arr2 = np.array([2,4,5])\n",
    "print('original arr1: ', arr1, sep = ' ')\n",
    "print('original array 2: ', arr2, sep = ' ')\n",
    "print('cross correlation', np.correlate(arr1, arr2), sep = '\\n')"
   ]
  },
  {
   "cell_type": "code",
   "execution_count": null,
   "metadata": {},
   "outputs": [],
   "source": []
  },
  {
   "cell_type": "markdown",
   "metadata": {},
   "source": [
    "Q98. Write the NumPy program to compute Pearson product-moment correlation coefficients of two given arrays?"
   ]
  },
  {
   "cell_type": "code",
   "execution_count": 140,
   "metadata": {},
   "outputs": [
    {
     "name": "stdout",
     "output_type": "stream",
     "text": [
      "original arr1:  [0. 1. 3.]\n",
      "original array 2:  [2 4 5]\n",
      "Pearson product-moment correlation coefficients of two given arrays is\n",
      "[[1.         0.92857143]\n",
      " [0.92857143 1.        ]]\n"
     ]
    }
   ],
   "source": [
    "arr1 = np.array([0,1.,3])\n",
    "arr2 = np.array([2,4,5])\n",
    "print('original arr1: ', arr1, sep = ' ')\n",
    "print('original array 2: ', arr2, sep = ' ')\n",
    "print('Pearson product-moment correlation coefficients of two given arrays is', np.corrcoef(arr1, arr2), sep = '\\n')"
   ]
  },
  {
   "cell_type": "code",
   "execution_count": null,
   "metadata": {},
   "outputs": [],
   "source": []
  },
  {
   "cell_type": "markdown",
   "metadata": {},
   "source": [
    "Q99. Write the python program to count the number of occurrences of each value in a given array of non-negative integers?"
   ]
  },
  {
   "cell_type": "code",
   "execution_count": 141,
   "metadata": {},
   "outputs": [
    {
     "name": "stdout",
     "output_type": "stream",
     "text": [
      "original array :  [0 1 6 1 4 1 2 2 7]\n",
      " the number of occurrences of each value in a given array : [1 3 2 0 1 0 1 1]\n"
     ]
    }
   ],
   "source": [
    "arr1 = np.array([0, 1, 6, 1, 4, 1, 2, 2, 7])\n",
    "print('original array : ', arr1, sep = ' ')\n",
    "print(' the number of occurrences of each value in a given array :', np.bincount(arr1), sep = ' ')"
   ]
  },
  {
   "cell_type": "code",
   "execution_count": null,
   "metadata": {},
   "outputs": [],
   "source": []
  },
  {
   "cell_type": "markdown",
   "metadata": {},
   "source": [
    "Q100. Write a Numpy program to compute the histogram of nums against the bins?"
   ]
  },
  {
   "cell_type": "code",
   "execution_count": 142,
   "metadata": {},
   "outputs": [
    {
     "data": {
      "text/plain": [
       "(array([2., 3., 1.]), array([0, 1, 2, 3]), <a list of 3 Patch objects>)"
      ]
     },
     "execution_count": 142,
     "metadata": {},
     "output_type": "execute_result"
    },
    {
     "data": {
      "image/png": "[encoded data removed]",
      "text/plain": [
       "<Figure size 432x288 with 1 Axes>"
      ]
     },
     "metadata": {
      "needs_background": "light"
     },
     "output_type": "display_data"
    }
   ],
   "source": [
    "nums= np.array([0.5 ,0.7 ,1. ,1.2 ,1.3, 2.1])\n",
    "bins= np.array([0,1 ,2, 3])\n",
    "import matplotlib.pyplot as plt\n",
    "plt.hist(x = nums, bins = bins)"
   ]
  },
  {
   "cell_type": "code",
   "execution_count": null,
   "metadata": {},
   "outputs": [],
   "source": []
  },
  {
   "cell_type": "markdown",
   "metadata": {},
   "source": [
    "Q101. Write the Python program to add, subtract, multiply and divide two pandas series ?"
   ]
  },
  {
   "cell_type": "code",
   "execution_count": 143,
   "metadata": {},
   "outputs": [],
   "source": [
    "import pandas as pd"
   ]
  },
  {
   "cell_type": "code",
   "execution_count": 144,
   "metadata": {},
   "outputs": [
    {
     "name": "stdout",
     "output_type": "stream",
     "text": [
      "sample series:\n",
      "0     2\n",
      "1     4\n",
      "2     6\n",
      "3     8\n",
      "4    10\n",
      "dtype: int64\n",
      "0    1\n",
      "1    3\n",
      "2    5\n",
      "3    7\n",
      "4    9\n",
      "dtype: int64\n",
      "sum of tne above series\n",
      "0     3\n",
      "1     7\n",
      "2    11\n",
      "3    15\n",
      "4    19\n",
      "dtype: int64\n",
      "difference of tne above series\n",
      "0    1\n",
      "1    1\n",
      "2    1\n",
      "3    1\n",
      "4    1\n",
      "dtype: int64\n",
      "product of tne above series\n",
      "0     2\n",
      "1    12\n",
      "2    30\n",
      "3    56\n",
      "4    90\n",
      "dtype: int64\n",
      "division of tne above series\n",
      "0    2.000000\n",
      "1    1.333333\n",
      "2    1.200000\n",
      "3    1.142857\n",
      "4    1.111111\n",
      "dtype: float64\n"
     ]
    }
   ],
   "source": [
    "ser_1= pd.Series(data = [2, 4, 6, 8, 10])\n",
    "ser_2 = pd.Series(data = [1, 3, 5, 7, 9])\n",
    "print('sample series:', ser_1, ser_2, sep = '\\n')\n",
    "print('sum of tne above series', ser_1.add(ser_2), sep = '\\n')\n",
    "print('difference of tne above series',ser_1.subtract(ser_2), sep = '\\n')\n",
    "print('product of tne above series', ser_1.multiply(ser_2), sep = '\\n')\n",
    "print('division of tne above series', ser_1.divide(ser_2), sep = '\\n')"
   ]
  },
  {
   "cell_type": "code",
   "execution_count": null,
   "metadata": {},
   "outputs": [],
   "source": []
  },
  {
   "cell_type": "markdown",
   "metadata": {},
   "source": [
    "Q102. Write a Python program to convert a dictionary to the Pandas Series?"
   ]
  },
  {
   "cell_type": "code",
   "execution_count": 145,
   "metadata": {},
   "outputs": [
    {
     "name": "stdout",
     "output_type": "stream",
     "text": [
      "original dictionary\n",
      "{'a': 100, 'b': 200, 'c': 300, 'd': 400, 'e': 800}\n",
      "series obj:\n",
      "a    100\n",
      "b    200\n",
      "c    300\n",
      "d    400\n",
      "e    800\n",
      "dtype: int64\n"
     ]
    }
   ],
   "source": [
    "dict_1 = {'a': 100, 'b': 200, 'c': 300, 'd': 400, 'e': 800}\n",
    "print('original dictionary', dict_1, sep = '\\n')\n",
    "ser = pd.Series(dict_1)\n",
    "print('series obj:', ser, sep = '\\n')"
   ]
  },
  {
   "cell_type": "code",
   "execution_count": null,
   "metadata": {},
   "outputs": [],
   "source": []
  },
  {
   "cell_type": "markdown",
   "metadata": {},
   "source": [
    "Q103. Write a python program to change the data type of given a column or a Series?"
   ]
  },
  {
   "cell_type": "code",
   "execution_count": 146,
   "metadata": {},
   "outputs": [
    {
     "name": "stdout",
     "output_type": "stream",
     "text": [
      "original series\n",
      "0       100\n",
      "1       200\n",
      "2    python\n",
      "3    300.12\n",
      "4       400\n",
      "dtype: object\n",
      "new series\n",
      "0    100.00\n",
      "1    200.00\n",
      "2       NaN\n",
      "3    300.12\n",
      "4    400.00\n",
      "dtype: float64\n"
     ]
    }
   ],
   "source": [
    "ser1 = pd.Series(['100', '200', 'python', '300.12', '400'])\n",
    "print('original series',ser1, sep='\\n')\n",
    "ser2 = pd.to_numeric(ser1, errors ='coerce')\n",
    "print('new series', ser2, sep = '\\n')"
   ]
  },
  {
   "cell_type": "code",
   "execution_count": null,
   "metadata": {},
   "outputs": [],
   "source": []
  },
  {
   "cell_type": "markdown",
   "metadata": {},
   "source": [
    "Q104. Write the python pandas program to convert the first column of a DataFrame as a Series?"
   ]
  },
  {
   "cell_type": "code",
   "execution_count": 147,
   "metadata": {},
   "outputs": [
    {
     "name": "stdout",
     "output_type": "stream",
     "text": [
      "original data frame\n",
      "   col1  col2  col3\n",
      "0     1     4     7\n",
      "1     2     5     5\n",
      "2     3     6     8\n",
      "3     4     9    12\n",
      "4     7     5     1\n",
      "5    11     0    11\n",
      "<class 'pandas.core.frame.DataFrame'>\n",
      "first colm as series\n",
      "0     1\n",
      "1     2\n",
      "2     3\n",
      "3     4\n",
      "4     7\n",
      "5    11\n",
      "Name: col1, dtype: int64\n",
      "<class 'pandas.core.series.Series'>\n"
     ]
    }
   ],
   "source": [
    "d = {'col1': [1, 2, 3, 4, 7, 11], 'col2': [4, 5, 6, 9, 5, 0], 'col3': [7, 5, 8, 12, 1,11]}\n",
    "df = pd.DataFrame(d)\n",
    "print('original data frame', df,type(df) ,sep = '\\n')\n",
    "ser1 = df.iloc[:,0]\n",
    "print('first colm as series', ser1 ,type(ser1), sep = '\\n')"
   ]
  },
  {
   "cell_type": "code",
   "execution_count": null,
   "metadata": {},
   "outputs": [],
   "source": []
  },
  {
   "cell_type": "markdown",
   "metadata": {},
   "source": [
    "\n",
    "Q105. Write a pandas program to create the mean and standard deviation of the data of a given Series?"
   ]
  },
  {
   "cell_type": "code",
   "execution_count": 148,
   "metadata": {},
   "outputs": [
    {
     "name": "stdout",
     "output_type": "stream",
     "text": [
      "original series \n",
      "0     0\n",
      "1     1\n",
      "2     2\n",
      "3     3\n",
      "4     4\n",
      "5     5\n",
      "6     6\n",
      "7     7\n",
      "8     8\n",
      "9     5\n",
      "10    3\n",
      "dtype: int32\n",
      "mean : 4.0\n",
      "std deviation 2.4899799195977463\n"
     ]
    }
   ],
   "source": [
    "df = pd.Series(data = np.concatenate( (np.arange(9), np.array( [5,3] )) ))\n",
    "print('original series ', df, sep= '\\n')\n",
    "print('mean :', df.mean(axis =0))\n",
    "print('std deviation', df.std(axis = 0))"
   ]
  },
  {
   "cell_type": "markdown",
   "metadata": {},
   "source": [
    "Q106. Write a pandas program to get powers of an array values element-wise?"
   ]
  },
  {
   "cell_type": "code",
   "execution_count": 149,
   "metadata": {},
   "outputs": [
    {
     "name": "stdout",
     "output_type": "stream",
     "text": [
      "original data\n",
      "   X  Y    Z\n",
      "0  1  2  0.2\n",
      "1  2  3  0.3\n",
      "2  3  4  0.4\n",
      "3  4  5  0.5\n",
      "4  5  6  0.6\n",
      "new data raised power element wise\n",
      "   X_new    Y_new:    Z\n",
      "0      1  1.148698  0.2\n",
      "1      8  1.390389  0.3\n",
      "2     81  1.741101  0.4\n",
      "3   1024  2.236068  0.5\n",
      "4  15625  2.930156  0.6\n"
     ]
    }
   ],
   "source": [
    "import pandas as pd\n",
    "data = pd.DataFrame({'X':[1,2,3,4,5], 'Y':[2,3,4,5,6] ,'Z':[0.2,0.3,0.4,0.5,0.6]})\n",
    "new_data = pd.DataFrame({'X_new': data['X']**data['Y'], 'Y_new:': data['Y']**data['Z'], 'Z': data['Z']})\n",
    "print('original data', data, sep = '\\n')\n",
    "print('new data raised power element wise', new_data, sep = '\\n' )"
   ]
  },
  {
   "cell_type": "code",
   "execution_count": null,
   "metadata": {},
   "outputs": [],
   "source": []
  },
  {
   "cell_type": "markdown",
   "metadata": {},
   "source": [
    "Q107. Write the pandas program to get the first 3 rows of a given DataFrame?"
   ]
  },
  {
   "cell_type": "code",
   "execution_count": 150,
   "metadata": {},
   "outputs": [],
   "source": [
    "import numpy as np"
   ]
  },
  {
   "cell_type": "code",
   "execution_count": 151,
   "metadata": {},
   "outputs": [
    {
     "name": "stdout",
     "output_type": "stream",
     "text": [
      "first three rows:\n",
      "        name  score  attempts qualify\n",
      "a  Anastasia   12.5         1     yes\n",
      "b       Dima    9.0         3      no\n",
      "c  Katherine   16.5         2     yes\n"
     ]
    }
   ],
   "source": [
    "exam_data = {'name': ['Anastasia', 'Dima', 'Katherine', 'James', 'Emily', 'Michael', 'Matthew', 'Laura', 'Kevin', 'Jonas'], \n",
    "              'score': [12.5, 9, 16.5, np.nan, 9, 20, 14.5, np.nan, 8, 19], \n",
    "             'attempts': [1, 3, 2, 3, 2, 3, 1, 1, 2, 1], \n",
    "             'qualify':[ 'yes', 'no', 'yes' , 'no', ' no ', ' yes ', 'yes', 'no', 'no', 'yes' ] }\n",
    "labels = ['a', 'b', 'c', 'd', 'e', 'f', 'g', 'h', 'i', 'j' ]\n",
    "df = pd.DataFrame(data = exam_data,  index= labels)\n",
    "print('first three rows:', df.iloc[0:3,:], sep = '\\n')"
   ]
  },
  {
   "cell_type": "code",
   "execution_count": null,
   "metadata": {},
   "outputs": [],
   "source": []
  },
  {
   "cell_type": "markdown",
   "metadata": {},
   "source": [
    "Q108: Write the pandas program to select the specified columns and the rows from a given data frame?"
   ]
  },
  {
   "cell_type": "code",
   "execution_count": 152,
   "metadata": {},
   "outputs": [
    {
     "name": "stdout",
     "output_type": "stream",
     "text": [
      "specified columns and rows are \n",
      "      name  score\n",
      "b     Dima    9.0\n",
      "d    James    NaN\n",
      "f  Michael   20.0\n",
      "g  Matthew   14.5\n"
     ]
    }
   ],
   "source": [
    "print('specified columns and rows are ', df.iloc[[1,3,5,6], [0,1]], sep = '\\n')"
   ]
  },
  {
   "cell_type": "code",
   "execution_count": null,
   "metadata": {},
   "outputs": [],
   "source": []
  },
  {
   "cell_type": "markdown",
   "metadata": {},
   "source": [
    "Q109. Write the pandas program to calculate mean score for each different student in DataFrame?"
   ]
  },
  {
   "cell_type": "code",
   "execution_count": 153,
   "metadata": {},
   "outputs": [
    {
     "name": "stdout",
     "output_type": "stream",
     "text": [
      "mean score: \n",
      "13.5625\n"
     ]
    }
   ],
   "source": [
    "print('mean score: ', df['score'].mean(), sep = '\\n')"
   ]
  },
  {
   "cell_type": "code",
   "execution_count": null,
   "metadata": {},
   "outputs": [],
   "source": []
  },
  {
   "cell_type": "markdown",
   "metadata": {},
   "source": [
    "Q110. Write the Pandas program to rename columns of a given DataFrame ?"
   ]
  },
  {
   "cell_type": "code",
   "execution_count": 154,
   "metadata": {},
   "outputs": [
    {
     "name": "stdout",
     "output_type": "stream",
     "text": [
      "original column\n",
      "   col1  col2  col3\n",
      "0     1     4     7\n",
      "1     2     5     8\n",
      "2     3     6     9\n",
      "renamed columns\n",
      "   Column1  Columns2  Column3\n",
      "0        1         4        7\n",
      "1        2         5        8\n",
      "2        3         6        9\n"
     ]
    }
   ],
   "source": [
    "df = pd.DataFrame(data = {'col1': [1,2,3], 'col2':[4,5,6], 'col3': [7,8,9]}, index = [0,1,2])\n",
    "print('original column', df, sep = '\\n')\n",
    "df.rename(mapper= {'col1':'Column1', 'col2':'Columns2', 'col3':'Column3'}, inplace = True, axis = 1)\n",
    "print('renamed columns', df, sep = '\\n')"
   ]
  },
  {
   "cell_type": "code",
   "execution_count": null,
   "metadata": {},
   "outputs": [],
   "source": []
  },
  {
   "cell_type": "markdown",
   "metadata": {},
   "source": [
    "Q111. Write a pandas program to count city-wise number of people from a given of data set (city, name of the person)?"
   ]
  },
  {
   "cell_type": "code",
   "execution_count": 155,
   "metadata": {},
   "outputs": [
    {
     "name": "stdout",
     "output_type": "stream",
     "text": [
      "city- wise no of people\n",
      "          city  no of people\n",
      "0   California             4\n",
      "1      Georgia             2\n",
      "2  Los Angeles             4\n"
     ]
    }
   ],
   "source": [
    "data = pd.DataFrame({'name':['tom','salah', 'blaise', 'dybala', 'torres', 'godin', 'alexis', 'marcus', 'maguire', 'jesse'],\n",
    "                    'city':['Los Angeles','California','Los Angeles','California', 'Georgia','Los Angeles','California','Los Angeles','California', 'Georgia']})\n",
    "\n",
    "grp_data = data.groupby(['city']).size()\n",
    "grp_data = grp_data.reset_index()\n",
    "grp_data.rename(columns = {0:'no of people'}, inplace = True)\n",
    "print('city- wise no of people', grp_data, sep = '\\n')"
   ]
  },
  {
   "cell_type": "code",
   "execution_count": null,
   "metadata": {},
   "outputs": [],
   "source": []
  },
  {
   "cell_type": "markdown",
   "metadata": {},
   "source": [
    "Q112. Write a pandas program to widen output display to see more columns?"
   ]
  },
  {
   "cell_type": "code",
   "execution_count": 156,
   "metadata": {},
   "outputs": [
    {
     "data": {
      "text/html": [
       "<div>\n",
       "<style scoped>\n",
       "    .dataframe tbody tr th:only-of-type {\n",
       "        vertical-align: middle;\n",
       "    }\n",
       "\n",
       "    .dataframe tbody tr th {\n",
       "        vertical-align: top;\n",
       "    }\n",
       "\n",
       "    .dataframe thead th {\n",
       "        text-align: right;\n",
       "    }\n",
       "</style>\n",
       "<table border=\"1\" class=\"dataframe\">\n",
       "  <thead>\n",
       "    <tr style=\"text-align: right;\">\n",
       "      <th></th>\n",
       "      <th>col</th>\n",
       "      <th>col2</th>\n",
       "      <th>col3</th>\n",
       "    </tr>\n",
       "  </thead>\n",
       "  <tbody>\n",
       "    <tr>\n",
       "      <td>0</td>\n",
       "      <td>0</td>\n",
       "      <td>10</td>\n",
       "      <td>20</td>\n",
       "    </tr>\n",
       "    <tr>\n",
       "      <td>1</td>\n",
       "      <td>1</td>\n",
       "      <td>11</td>\n",
       "      <td>21</td>\n",
       "    </tr>\n",
       "    <tr>\n",
       "      <td>2</td>\n",
       "      <td>2</td>\n",
       "      <td>12</td>\n",
       "      <td>22</td>\n",
       "    </tr>\n",
       "    <tr>\n",
       "      <td>3</td>\n",
       "      <td>3</td>\n",
       "      <td>13</td>\n",
       "      <td>23</td>\n",
       "    </tr>\n",
       "    <tr>\n",
       "      <td>4</td>\n",
       "      <td>4</td>\n",
       "      <td>14</td>\n",
       "      <td>24</td>\n",
       "    </tr>\n",
       "    <tr>\n",
       "      <td>5</td>\n",
       "      <td>5</td>\n",
       "      <td>15</td>\n",
       "      <td>25</td>\n",
       "    </tr>\n",
       "    <tr>\n",
       "      <td>6</td>\n",
       "      <td>6</td>\n",
       "      <td>16</td>\n",
       "      <td>26</td>\n",
       "    </tr>\n",
       "    <tr>\n",
       "      <td>7</td>\n",
       "      <td>7</td>\n",
       "      <td>17</td>\n",
       "      <td>27</td>\n",
       "    </tr>\n",
       "    <tr>\n",
       "      <td>8</td>\n",
       "      <td>8</td>\n",
       "      <td>18</td>\n",
       "      <td>28</td>\n",
       "    </tr>\n",
       "    <tr>\n",
       "      <td>9</td>\n",
       "      <td>9</td>\n",
       "      <td>19</td>\n",
       "      <td>29</td>\n",
       "    </tr>\n",
       "  </tbody>\n",
       "</table>\n",
       "</div>"
      ],
      "text/plain": [
       "   col  col2  col3\n",
       "0    0    10    20\n",
       "1    1    11    21\n",
       "2    2    12    22\n",
       "3    3    13    23\n",
       "4    4    14    24\n",
       "5    5    15    25\n",
       "6    6    16    26\n",
       "7    7    17    27\n",
       "8    8    18    28\n",
       "9    9    19    29"
      ]
     },
     "execution_count": 156,
     "metadata": {},
     "output_type": "execute_result"
    }
   ],
   "source": [
    "d = {'col':np.arange(10), 'col2':np.arange(10,20), 'col3':np.arange(20,30)}\n",
    "data = pd.DataFrame(data=d)\n",
    "pd.set_option('display.max_rows', 20)\n",
    "pd.set_option('display.max_columns', 20)\n",
    "pd.set_option('display.width', 1000)\n",
    "data"
   ]
  },
  {
   "cell_type": "code",
   "execution_count": null,
   "metadata": {},
   "outputs": [],
   "source": []
  },
  {
   "cell_type": "markdown",
   "metadata": {},
   "source": [
    "Q113. Write a pandas program to convert the data frame column type from string to DateTime?"
   ]
  },
  {
   "cell_type": "code",
   "execution_count": 157,
   "metadata": {},
   "outputs": [
    {
     "name": "stdout",
     "output_type": "stream",
     "text": [
      "original data\n",
      "0    3/11/2000\n",
      "1    3/12/2000\n",
      "2    3/13/2000\n",
      "dtype: object\n",
      "object\n",
      "new_data\n",
      "0   2000-03-11\n",
      "1   2000-03-12\n",
      "2   2000-03-13\n",
      "dtype: datetime64[ns]\n",
      "datetime64[ns]\n"
     ]
    }
   ],
   "source": [
    "data = pd.Series(['3/11/2000', '3/12/2000', '3/13/2000'])\n",
    "print('original data', data, data.dtype, sep = '\\n')\n",
    "new_data = pd.to_datetime(data)\n",
    "print('new_data', new_data, new_data.dtype, sep = '\\n')"
   ]
  },
  {
   "cell_type": "code",
   "execution_count": 158,
   "metadata": {},
   "outputs": [
    {
     "data": {
      "text/plain": [
       "0   2000-03-11\n",
       "1   2000-03-12\n",
       "2   2000-03-13\n",
       "dtype: datetime64[ns]"
      ]
     },
     "execution_count": 158,
     "metadata": {},
     "output_type": "execute_result"
    }
   ],
   "source": [
    "#using astype\n",
    "data.astype(dtype = np.datetime64)"
   ]
  },
  {
   "cell_type": "code",
   "execution_count": null,
   "metadata": {},
   "outputs": [],
   "source": []
  },
  {
   "cell_type": "markdown",
   "metadata": {},
   "source": [
    "Q114. Write a pandas program to append the data to an empty DataFrame?"
   ]
  },
  {
   "cell_type": "code",
   "execution_count": 159,
   "metadata": {},
   "outputs": [
    {
     "name": "stdout",
     "output_type": "stream",
     "text": [
      "appended data\n",
      "   col1  col2  col3\n",
      "0     1    12     9\n",
      "1     2    23     8\n",
      "2     3    34     7\n",
      "3     4    45     6\n",
      "4     5    56     5\n"
     ]
    }
   ],
   "source": [
    "df = pd.DataFrame()\n",
    "d = pd.DataFrame({'col1':[1,2,3,4,5], 'col2':[12,23,34,45,56], 'col3': [9,8,7,6,5]})\n",
    "df = df.append(d)\n",
    "print('appended data', df, sep = '\\n')"
   ]
  },
  {
   "cell_type": "code",
   "execution_count": null,
   "metadata": {},
   "outputs": [],
   "source": []
  },
  {
   "cell_type": "markdown",
   "metadata": {},
   "source": [
    "Q115. Write a pandas program to count the number of columns of a DataFrame?"
   ]
  },
  {
   "cell_type": "code",
   "execution_count": 160,
   "metadata": {},
   "outputs": [
    {
     "name": "stdout",
     "output_type": "stream",
     "text": [
      "no of columns: 4\n"
     ]
    }
   ],
   "source": [
    "df = pd.DataFrame({'col1':np.arange(5), 'col2':np.arange(10,15), 'col3':np.arange(15, 20), 'col4':np.arange(20,25)})\n",
    "print('no of columns:', df.columns.shape[0])"
   ]
  },
  {
   "cell_type": "code",
   "execution_count": null,
   "metadata": {},
   "outputs": [],
   "source": []
  },
  {
   "cell_type": "markdown",
   "metadata": {},
   "source": [
    "Q116. Write a Pandas program to remove the last n rows of a given DataFrame ?"
   ]
  },
  {
   "cell_type": "code",
   "execution_count": 161,
   "metadata": {},
   "outputs": [
    {
     "name": "stdout",
     "output_type": "stream",
     "text": [
      "original dataframe\n",
      "   col1  col2  col3  col4\n",
      "0     0    10    15    20\n",
      "1     1    11    16    21\n",
      "2     2    12    17    22\n",
      "3     3    13    18    23\n",
      "4     4    14    19    24\n",
      "5     5    15    20    25\n",
      "6     6    16    21    26\n",
      "7     7    17    22    27\n",
      "after dropping lst 3 rows\n",
      "   col1  col2  col3  col4\n",
      "0     0    10    15    20\n",
      "1     1    11    16    21\n",
      "2     2    12    17    22\n",
      "3     3    13    18    23\n",
      "4     4    14    19    24\n"
     ]
    }
   ],
   "source": [
    "df = pd.DataFrame({'col1':np.arange(8), 'col2':np.arange(10,18), 'col3':np.arange(15, 23), 'col4':np.arange(20,28)})\n",
    "print('original dataframe', df, sep = '\\n')\n",
    "df.drop(labels = np.arange(df.shape[0]-1,df.shape[0]-4, -1), axis = 0, inplace = True)\n",
    "print('after dropping lst 3 rows', df, sep = '\\n')"
   ]
  },
  {
   "cell_type": "code",
   "execution_count": null,
   "metadata": {},
   "outputs": [],
   "source": []
  },
  {
   "cell_type": "markdown",
   "metadata": {},
   "source": [
    "Q117. Write a Pandas program to import excel data (coalpublic2013.xlsx ) into a Pandas data frame."
   ]
  },
  {
   "cell_type": "code",
   "execution_count": 162,
   "metadata": {},
   "outputs": [
    {
     "name": "stdout",
     "output_type": "stream",
     "text": [
      "   Year  MSHA ID                       Mine_Name  Production  Labor_Hours\n",
      "0  2013   103381            Tacoa Highwall Miner       56004        22392\n",
      "1  2013   103404                Reid School Mine       28807        28447\n",
      "2  2013   100759  North River #1 Underground Min     1440115       474784\n",
      "3  2013   103246                      Bear Creek       87587        29193\n",
      "4  2013   103451                     Knight Mine      147499        46393\n"
     ]
    }
   ],
   "source": [
    "coal_data = pd.read_excel(r'C:\\Users\\DELL\\Desktop\\ai\\ineuron.ai\\sub and obj\\py sub and obj\\data for subjective questions\\coalpublic2013.xlsx')\n",
    "print(coal_data.head(5))"
   ]
  },
  {
   "cell_type": "code",
   "execution_count": null,
   "metadata": {},
   "outputs": [],
   "source": []
  },
  {
   "cell_type": "markdown",
   "metadata": {},
   "source": [
    "Q118. Write a Pandas program to import excel data (coalpublic2013.xlsx ) into a data frame and find details where \"Mine Name\" starts with 'P'"
   ]
  },
  {
   "cell_type": "code",
   "execution_count": 163,
   "metadata": {},
   "outputs": [
    {
     "data": {
      "text/html": [
       "<div>\n",
       "<style scoped>\n",
       "    .dataframe tbody tr th:only-of-type {\n",
       "        vertical-align: middle;\n",
       "    }\n",
       "\n",
       "    .dataframe tbody tr th {\n",
       "        vertical-align: top;\n",
       "    }\n",
       "\n",
       "    .dataframe thead th {\n",
       "        text-align: right;\n",
       "    }\n",
       "</style>\n",
       "<table border=\"1\" class=\"dataframe\">\n",
       "  <thead>\n",
       "    <tr style=\"text-align: right;\">\n",
       "      <th></th>\n",
       "      <th>Year</th>\n",
       "      <th>MSHA ID</th>\n",
       "      <th>Mine_Name</th>\n",
       "      <th>Production</th>\n",
       "      <th>Labor_Hours</th>\n",
       "    </tr>\n",
       "  </thead>\n",
       "  <tbody>\n",
       "    <tr>\n",
       "      <td>13</td>\n",
       "      <td>2013</td>\n",
       "      <td>103332</td>\n",
       "      <td>Powhatan Mine</td>\n",
       "      <td>140521</td>\n",
       "      <td>61394</td>\n",
       "    </tr>\n",
       "    <tr>\n",
       "      <td>18</td>\n",
       "      <td>2013</td>\n",
       "      <td>102976</td>\n",
       "      <td>Piney Woods Preparation Plant</td>\n",
       "      <td>0</td>\n",
       "      <td>14828</td>\n",
       "    </tr>\n",
       "    <tr>\n",
       "      <td>19</td>\n",
       "      <td>2013</td>\n",
       "      <td>102976</td>\n",
       "      <td>Piney Woods Preparation Plant</td>\n",
       "      <td>0</td>\n",
       "      <td>23193</td>\n",
       "    </tr>\n",
       "    <tr>\n",
       "      <td>46</td>\n",
       "      <td>2013</td>\n",
       "      <td>103321</td>\n",
       "      <td>Poplar Springs</td>\n",
       "      <td>189370</td>\n",
       "      <td>76366</td>\n",
       "    </tr>\n",
       "  </tbody>\n",
       "</table>\n",
       "</div>"
      ],
      "text/plain": [
       "    Year  MSHA ID                      Mine_Name  Production  Labor_Hours\n",
       "13  2013   103332                  Powhatan Mine      140521        61394\n",
       "18  2013   102976  Piney Woods Preparation Plant           0        14828\n",
       "19  2013   102976  Piney Woods Preparation Plant           0        23193\n",
       "46  2013   103321                 Poplar Springs      189370        76366"
      ]
     },
     "execution_count": 163,
     "metadata": {},
     "output_type": "execute_result"
    }
   ],
   "source": [
    "coal_data = pd.read_excel(r'C:\\Users\\DELL\\Desktop\\ai\\ineuron.ai\\sub and obj\\py sub and obj\\data for subjective questions\\coalpublic2013.xlsx')\n",
    "loc = np.array(list(map(lambda x:x[0], coal_data['Mine_Name'])))\n",
    "coal_data.iloc[np.where((loc == 'P') | (loc == 'p' ))]"
   ]
  },
  {
   "cell_type": "code",
   "execution_count": 164,
   "metadata": {},
   "outputs": [
    {
     "data": {
      "text/html": [
       "<div>\n",
       "<style scoped>\n",
       "    .dataframe tbody tr th:only-of-type {\n",
       "        vertical-align: middle;\n",
       "    }\n",
       "\n",
       "    .dataframe tbody tr th {\n",
       "        vertical-align: top;\n",
       "    }\n",
       "\n",
       "    .dataframe thead th {\n",
       "        text-align: right;\n",
       "    }\n",
       "</style>\n",
       "<table border=\"1\" class=\"dataframe\">\n",
       "  <thead>\n",
       "    <tr style=\"text-align: right;\">\n",
       "      <th></th>\n",
       "      <th>Year</th>\n",
       "      <th>MSHA ID</th>\n",
       "      <th>Mine_Name</th>\n",
       "      <th>Production</th>\n",
       "      <th>Labor_Hours</th>\n",
       "    </tr>\n",
       "  </thead>\n",
       "  <tbody>\n",
       "    <tr>\n",
       "      <td>13</td>\n",
       "      <td>2013</td>\n",
       "      <td>103332</td>\n",
       "      <td>Powhatan Mine</td>\n",
       "      <td>140521</td>\n",
       "      <td>61394</td>\n",
       "    </tr>\n",
       "    <tr>\n",
       "      <td>18</td>\n",
       "      <td>2013</td>\n",
       "      <td>102976</td>\n",
       "      <td>Piney Woods Preparation Plant</td>\n",
       "      <td>0</td>\n",
       "      <td>14828</td>\n",
       "    </tr>\n",
       "    <tr>\n",
       "      <td>19</td>\n",
       "      <td>2013</td>\n",
       "      <td>102976</td>\n",
       "      <td>Piney Woods Preparation Plant</td>\n",
       "      <td>0</td>\n",
       "      <td>23193</td>\n",
       "    </tr>\n",
       "    <tr>\n",
       "      <td>46</td>\n",
       "      <td>2013</td>\n",
       "      <td>103321</td>\n",
       "      <td>Poplar Springs</td>\n",
       "      <td>189370</td>\n",
       "      <td>76366</td>\n",
       "    </tr>\n",
       "  </tbody>\n",
       "</table>\n",
       "</div>"
      ],
      "text/plain": [
       "    Year  MSHA ID                      Mine_Name  Production  Labor_Hours\n",
       "13  2013   103332                  Powhatan Mine      140521        61394\n",
       "18  2013   102976  Piney Woods Preparation Plant           0        14828\n",
       "19  2013   102976  Piney Woods Preparation Plant           0        23193\n",
       "46  2013   103321                 Poplar Springs      189370        76366"
      ]
     },
     "execution_count": 164,
     "metadata": {},
     "output_type": "execute_result"
    }
   ],
   "source": [
    "coal_data[coal_data['Mine_Name'].map(lambda x:x[0] == 'P')]"
   ]
  },
  {
   "cell_type": "code",
   "execution_count": null,
   "metadata": {},
   "outputs": [],
   "source": []
  },
  {
   "cell_type": "markdown",
   "metadata": {},
   "source": [
    "Q119. Write a Pandas program to import excel data (employee.xlsx ) into a Pandas dataframe and find the list of employees where hire_date> 01-01-07."
   ]
  },
  {
   "cell_type": "code",
   "execution_count": 165,
   "metadata": {},
   "outputs": [
    {
     "name": "stdout",
     "output_type": "stream",
     "text": [
      "employee list:\n",
      "    emp_id first_name   last_name  hire_date\n",
      "4      104      Bruce       Ernst 2007-05-21\n",
      "7      107      Diana     Lorentz 2007-02-07\n",
      "13     113       Luis        Popp 2007-12-07\n",
      "19     119      Karen  Colmenares 2007-08-10\n"
     ]
    }
   ],
   "source": [
    "emp = pd.read_excel(r'C:\\Users\\DELL\\Desktop\\ai\\ineuron.ai\\sub and obj\\py sub and obj\\data for subjective questions\\employee.xlsx')\n",
    "a = np.array(['2007-01-01' ]).astype(np.datetime64)\n",
    "print('employee list:', emp[emp['hire_date'] > a[0]], sep = '\\n')"
   ]
  },
  {
   "cell_type": "code",
   "execution_count": null,
   "metadata": {},
   "outputs": [],
   "source": []
  },
  {
   "cell_type": "markdown",
   "metadata": {},
   "source": [
    "Q120. Write a Pandas program to import excel data (employee.xlsx ) into a Pandas dataframe and find a list of the employees of a specified year"
   ]
  },
  {
   "cell_type": "code",
   "execution_count": 166,
   "metadata": {},
   "outputs": [
    {
     "name": "stdout",
     "output_type": "stream",
     "text": [
      "list of employees of year 2006\n",
      "    emp_id   first_name  last_name  hire_date\n",
      "3      103    Alexander     Hunold 2006-01-03\n",
      "6      106        Valli  Pataballa 2006-02-05\n",
      "12     112  Jose Manuel      Urman 2006-03-07\n",
      "18     118          Guy     Himuro 2006-11-15\n"
     ]
    }
   ],
   "source": [
    "emp = pd.read_excel(r'C:\\Users\\DELL\\Desktop\\ai\\ineuron.ai\\sub and obj\\py sub and obj\\data for subjective questions\\employee.xlsx')\n",
    "print('list of employees of year 2006', emp[emp['hire_date'].map(lambda x:x.year == 2006)], sep = '\\n')"
   ]
  },
  {
   "cell_type": "code",
   "execution_count": null,
   "metadata": {},
   "outputs": [],
   "source": []
  },
  {
   "cell_type": "markdown",
   "metadata": {},
   "source": [
    "Q121. Write a pandas program to import three datasheets from a given   excel data  (coalpublic2013.xlsx ) in to a single dataframe. "
   ]
  },
  {
   "cell_type": "code",
   "execution_count": 167,
   "metadata": {},
   "outputs": [],
   "source": [
    "import pandas as pd\n",
    "import numpy as np\n",
    "import matplotlib.pyplot as plt\n",
    "import seaborn as sns"
   ]
  },
  {
   "cell_type": "code",
   "execution_count": 168,
   "metadata": {},
   "outputs": [],
   "source": [
    "df1 = pd.read_excel(r'C:\\Users\\DELL\\Desktop\\ai\\ineuron.ai\\0 assignments\\sub and obj\\py sub and obj\\data for subjective questions\\coalpublic2013.xlsx', sheet_name= 0)"
   ]
  },
  {
   "cell_type": "code",
   "execution_count": null,
   "metadata": {},
   "outputs": [],
   "source": []
  },
  {
   "cell_type": "markdown",
   "metadata": {},
   "source": [
    "Q 122. Write a pandas program to import three datasheets from a given excel data (employee.xlsx ) into a single data frame and export the result into new Excel file."
   ]
  },
  {
   "cell_type": "code",
   "execution_count": 169,
   "metadata": {},
   "outputs": [],
   "source": [
    "df1 = pd.read_excel(r'C:\\Users\\DELL\\Desktop\\ai\\ineuron.ai\\0 assignments\\sub and obj\\py sub and obj\\data for subjective questions\\employee.xlsx ', sheet_name=0)\n",
    "df2 = pd.read_excel(r'C:\\Users\\DELL\\Desktop\\ai\\ineuron.ai\\0 assignments\\sub and obj\\py sub and obj\\data for subjective questions\\employee.xlsx ', sheet_name=1)\n",
    "df3 = pd.read_excel(r'C:\\Users\\DELL\\Desktop\\ai\\ineuron.ai\\0 assignments\\sub and obj\\py sub and obj\\data for subjective questions\\employee.xlsx ', sheet_name=2)\n",
    "\n",
    "df_concat = pd.concat([df1, df2,df3], axis = 0)\n",
    "df_concat.to_excel(r'C:\\Users\\DELL\\Desktop\\ai\\ineuron.ai\\0 assignments\\sub and obj\\py sub and obj\\data for subjective questions\\employee_new.xlsx')"
   ]
  },
  {
   "cell_type": "code",
   "execution_count": null,
   "metadata": {},
   "outputs": [],
   "source": []
  },
  {
   "cell_type": "markdown",
   "metadata": {},
   "source": [
    "Q123. Write a pandas program to create the Pivot table with multiple indexes from the data set of the titanic.csv."
   ]
  },
  {
   "cell_type": "code",
   "execution_count": 170,
   "metadata": {},
   "outputs": [
    {
     "data": {
      "text/html": [
       "<div>\n",
       "<style scoped>\n",
       "    .dataframe tbody tr th:only-of-type {\n",
       "        vertical-align: middle;\n",
       "    }\n",
       "\n",
       "    .dataframe tbody tr th {\n",
       "        vertical-align: top;\n",
       "    }\n",
       "\n",
       "    .dataframe thead tr th {\n",
       "        text-align: left;\n",
       "    }\n",
       "\n",
       "    .dataframe thead tr:last-of-type th {\n",
       "        text-align: right;\n",
       "    }\n",
       "</style>\n",
       "<table border=\"1\" class=\"dataframe\">\n",
       "  <thead>\n",
       "    <tr>\n",
       "      <th></th>\n",
       "      <th></th>\n",
       "      <th colspan=\"6\" halign=\"left\">mean</th>\n",
       "      <th colspan=\"6\" halign=\"left\">count</th>\n",
       "    </tr>\n",
       "    <tr>\n",
       "      <th></th>\n",
       "      <th></th>\n",
       "      <th colspan=\"3\" halign=\"left\">age</th>\n",
       "      <th colspan=\"3\" halign=\"left\">fare</th>\n",
       "      <th colspan=\"3\" halign=\"left\">age</th>\n",
       "      <th colspan=\"3\" halign=\"left\">fare</th>\n",
       "    </tr>\n",
       "    <tr>\n",
       "      <th></th>\n",
       "      <th>embark_town</th>\n",
       "      <th>Cherbourg</th>\n",
       "      <th>Queenstown</th>\n",
       "      <th>Southampton</th>\n",
       "      <th>Cherbourg</th>\n",
       "      <th>Queenstown</th>\n",
       "      <th>Southampton</th>\n",
       "      <th>Cherbourg</th>\n",
       "      <th>Queenstown</th>\n",
       "      <th>Southampton</th>\n",
       "      <th>Cherbourg</th>\n",
       "      <th>Queenstown</th>\n",
       "      <th>Southampton</th>\n",
       "    </tr>\n",
       "    <tr>\n",
       "      <th>pclass</th>\n",
       "      <th>survived</th>\n",
       "      <th></th>\n",
       "      <th></th>\n",
       "      <th></th>\n",
       "      <th></th>\n",
       "      <th></th>\n",
       "      <th></th>\n",
       "      <th></th>\n",
       "      <th></th>\n",
       "      <th></th>\n",
       "      <th></th>\n",
       "      <th></th>\n",
       "      <th></th>\n",
       "    </tr>\n",
       "  </thead>\n",
       "  <tbody>\n",
       "    <tr>\n",
       "      <td rowspan=\"2\" valign=\"top\">1</td>\n",
       "      <td>0</td>\n",
       "      <td>43.380952</td>\n",
       "      <td>44.000000</td>\n",
       "      <td>43.845238</td>\n",
       "      <td>78.841981</td>\n",
       "      <td>90.000000</td>\n",
       "      <td>57.260926</td>\n",
       "      <td>21</td>\n",
       "      <td>1</td>\n",
       "      <td>42</td>\n",
       "      <td>26</td>\n",
       "      <td>1</td>\n",
       "      <td>53</td>\n",
       "    </tr>\n",
       "    <tr>\n",
       "      <td>1</td>\n",
       "      <td>35.905660</td>\n",
       "      <td>33.000000</td>\n",
       "      <td>34.529091</td>\n",
       "      <td>116.121754</td>\n",
       "      <td>90.000000</td>\n",
       "      <td>79.750114</td>\n",
       "      <td>53</td>\n",
       "      <td>1</td>\n",
       "      <td>66</td>\n",
       "      <td>59</td>\n",
       "      <td>1</td>\n",
       "      <td>74</td>\n",
       "    </tr>\n",
       "    <tr>\n",
       "      <td rowspan=\"2\" valign=\"top\">2</td>\n",
       "      <td>0</td>\n",
       "      <td>29.500000</td>\n",
       "      <td>57.000000</td>\n",
       "      <td>33.603659</td>\n",
       "      <td>25.418225</td>\n",
       "      <td>12.350000</td>\n",
       "      <td>18.946591</td>\n",
       "      <td>7</td>\n",
       "      <td>1</td>\n",
       "      <td>82</td>\n",
       "      <td>8</td>\n",
       "      <td>1</td>\n",
       "      <td>88</td>\n",
       "    </tr>\n",
       "    <tr>\n",
       "      <td>1</td>\n",
       "      <td>16.875000</td>\n",
       "      <td>30.000000</td>\n",
       "      <td>26.822027</td>\n",
       "      <td>25.305100</td>\n",
       "      <td>12.350000</td>\n",
       "      <td>21.926316</td>\n",
       "      <td>8</td>\n",
       "      <td>1</td>\n",
       "      <td>74</td>\n",
       "      <td>9</td>\n",
       "      <td>2</td>\n",
       "      <td>76</td>\n",
       "    </tr>\n",
       "    <tr>\n",
       "      <td rowspan=\"2\" valign=\"top\">3</td>\n",
       "      <td>0</td>\n",
       "      <td>26.065217</td>\n",
       "      <td>28.083333</td>\n",
       "      <td>26.484716</td>\n",
       "      <td>9.878361</td>\n",
       "      <td>11.654167</td>\n",
       "      <td>14.529906</td>\n",
       "      <td>23</td>\n",
       "      <td>18</td>\n",
       "      <td>229</td>\n",
       "      <td>41</td>\n",
       "      <td>45</td>\n",
       "      <td>286</td>\n",
       "    </tr>\n",
       "    <tr>\n",
       "      <td>1</td>\n",
       "      <td>13.940000</td>\n",
       "      <td>19.500000</td>\n",
       "      <td>22.737705</td>\n",
       "      <td>13.404668</td>\n",
       "      <td>10.398770</td>\n",
       "      <td>15.131464</td>\n",
       "      <td>18</td>\n",
       "      <td>6</td>\n",
       "      <td>61</td>\n",
       "      <td>25</td>\n",
       "      <td>27</td>\n",
       "      <td>67</td>\n",
       "    </tr>\n",
       "  </tbody>\n",
       "</table>\n",
       "</div>"
      ],
      "text/plain": [
       "                      mean                                                               count                                                        \n",
       "                       age                               fare                              age                             fare                       \n",
       "embark_town      Cherbourg Queenstown Southampton   Cherbourg Queenstown Southampton Cherbourg Queenstown Southampton Cherbourg Queenstown Southampton\n",
       "pclass survived                                                                                                                                       \n",
       "1      0         43.380952  44.000000   43.845238   78.841981  90.000000   57.260926        21          1          42        26          1          53\n",
       "       1         35.905660  33.000000   34.529091  116.121754  90.000000   79.750114        53          1          66        59          1          74\n",
       "2      0         29.500000  57.000000   33.603659   25.418225  12.350000   18.946591         7          1          82         8          1          88\n",
       "       1         16.875000  30.000000   26.822027   25.305100  12.350000   21.926316         8          1          74         9          2          76\n",
       "3      0         26.065217  28.083333   26.484716    9.878361  11.654167   14.529906        23         18         229        41         45         286\n",
       "       1         13.940000  19.500000   22.737705   13.404668  10.398770   15.131464        18          6          61        25         27          67"
      ]
     },
     "execution_count": 170,
     "metadata": {},
     "output_type": "execute_result"
    }
   ],
   "source": [
    "tit_df = pd.read_csv(r'C:\\Users\\DELL\\Desktop\\ai\\ineuron.ai\\0 assignments\\sub and obj\\py sub and obj\\data for subjective questions\\titanic.csv')\n",
    "pd.pivot_table(data = tit_df, index= ['pclass', 'survived'], values= ['age', 'fare'], columns = 'embark_town', aggfunc= [np.mean, 'count'])\n",
    "##the table gives average age and fare of passengers from different places belonging to different class and whether survived or not"
   ]
  },
  {
   "cell_type": "code",
   "execution_count": null,
   "metadata": {},
   "outputs": [],
   "source": []
  },
  {
   "cell_type": "markdown",
   "metadata": {},
   "source": [
    "Q124. Write a Pandas program to create the Pivot table and find survival rate by gender?"
   ]
  },
  {
   "cell_type": "code",
   "execution_count": 171,
   "metadata": {},
   "outputs": [
    {
     "name": "stdout",
     "output_type": "stream",
     "text": [
      "survival rate by gender\n",
      "sex\n",
      "female    0.352413\n",
      "male      0.647587\n",
      "Name: survived, dtype: float64\n"
     ]
    }
   ],
   "source": [
    "print('survival rate by gender', \n",
    "tit_df.groupby(by = ['sex'])['survived'].count()/tit_df.shape[0], sep = '\\n')"
   ]
  },
  {
   "cell_type": "code",
   "execution_count": 172,
   "metadata": {},
   "outputs": [
    {
     "data": {
      "text/html": [
       "<div>\n",
       "<style scoped>\n",
       "    .dataframe tbody tr th:only-of-type {\n",
       "        vertical-align: middle;\n",
       "    }\n",
       "\n",
       "    .dataframe tbody tr th {\n",
       "        vertical-align: top;\n",
       "    }\n",
       "\n",
       "    .dataframe thead th {\n",
       "        text-align: right;\n",
       "    }\n",
       "</style>\n",
       "<table border=\"1\" class=\"dataframe\">\n",
       "  <thead>\n",
       "    <tr style=\"text-align: right;\">\n",
       "      <th></th>\n",
       "      <th>survived</th>\n",
       "      <th>pclass</th>\n",
       "      <th>sex</th>\n",
       "      <th>age</th>\n",
       "      <th>sibsp</th>\n",
       "      <th>parch</th>\n",
       "      <th>fare</th>\n",
       "      <th>embarked</th>\n",
       "      <th>class</th>\n",
       "      <th>who</th>\n",
       "      <th>adult_male</th>\n",
       "      <th>deck</th>\n",
       "      <th>embark_town</th>\n",
       "      <th>alive</th>\n",
       "      <th>alone</th>\n",
       "      <th>Unnamed: 15</th>\n",
       "    </tr>\n",
       "  </thead>\n",
       "  <tbody>\n",
       "    <tr>\n",
       "      <td>0</td>\n",
       "      <td>0</td>\n",
       "      <td>3</td>\n",
       "      <td>male</td>\n",
       "      <td>22.0</td>\n",
       "      <td>1</td>\n",
       "      <td>0</td>\n",
       "      <td>7.2500</td>\n",
       "      <td>S</td>\n",
       "      <td>Third</td>\n",
       "      <td>man</td>\n",
       "      <td>True</td>\n",
       "      <td>NaN</td>\n",
       "      <td>Southampton</td>\n",
       "      <td>no</td>\n",
       "      <td>False</td>\n",
       "      <td>NaN</td>\n",
       "    </tr>\n",
       "    <tr>\n",
       "      <td>1</td>\n",
       "      <td>1</td>\n",
       "      <td>1</td>\n",
       "      <td>female</td>\n",
       "      <td>38.0</td>\n",
       "      <td>1</td>\n",
       "      <td>0</td>\n",
       "      <td>71.2833</td>\n",
       "      <td>C</td>\n",
       "      <td>First</td>\n",
       "      <td>woman</td>\n",
       "      <td>False</td>\n",
       "      <td>C</td>\n",
       "      <td>Cherbourg</td>\n",
       "      <td>yes</td>\n",
       "      <td>False</td>\n",
       "      <td>NaN</td>\n",
       "    </tr>\n",
       "    <tr>\n",
       "      <td>2</td>\n",
       "      <td>1</td>\n",
       "      <td>3</td>\n",
       "      <td>female</td>\n",
       "      <td>26.0</td>\n",
       "      <td>0</td>\n",
       "      <td>0</td>\n",
       "      <td>7.9250</td>\n",
       "      <td>S</td>\n",
       "      <td>Third</td>\n",
       "      <td>woman</td>\n",
       "      <td>False</td>\n",
       "      <td>NaN</td>\n",
       "      <td>Southampton</td>\n",
       "      <td>yes</td>\n",
       "      <td>True</td>\n",
       "      <td>NaN</td>\n",
       "    </tr>\n",
       "    <tr>\n",
       "      <td>3</td>\n",
       "      <td>1</td>\n",
       "      <td>1</td>\n",
       "      <td>female</td>\n",
       "      <td>35.0</td>\n",
       "      <td>1</td>\n",
       "      <td>0</td>\n",
       "      <td>53.1000</td>\n",
       "      <td>S</td>\n",
       "      <td>First</td>\n",
       "      <td>woman</td>\n",
       "      <td>False</td>\n",
       "      <td>C</td>\n",
       "      <td>Southampton</td>\n",
       "      <td>yes</td>\n",
       "      <td>False</td>\n",
       "      <td>NaN</td>\n",
       "    </tr>\n",
       "    <tr>\n",
       "      <td>4</td>\n",
       "      <td>0</td>\n",
       "      <td>3</td>\n",
       "      <td>male</td>\n",
       "      <td>35.0</td>\n",
       "      <td>0</td>\n",
       "      <td>0</td>\n",
       "      <td>8.0500</td>\n",
       "      <td>S</td>\n",
       "      <td>Third</td>\n",
       "      <td>man</td>\n",
       "      <td>True</td>\n",
       "      <td>NaN</td>\n",
       "      <td>Southampton</td>\n",
       "      <td>no</td>\n",
       "      <td>True</td>\n",
       "      <td>NaN</td>\n",
       "    </tr>\n",
       "    <tr>\n",
       "      <td>...</td>\n",
       "      <td>...</td>\n",
       "      <td>...</td>\n",
       "      <td>...</td>\n",
       "      <td>...</td>\n",
       "      <td>...</td>\n",
       "      <td>...</td>\n",
       "      <td>...</td>\n",
       "      <td>...</td>\n",
       "      <td>...</td>\n",
       "      <td>...</td>\n",
       "      <td>...</td>\n",
       "      <td>...</td>\n",
       "      <td>...</td>\n",
       "      <td>...</td>\n",
       "      <td>...</td>\n",
       "      <td>...</td>\n",
       "    </tr>\n",
       "    <tr>\n",
       "      <td>886</td>\n",
       "      <td>0</td>\n",
       "      <td>2</td>\n",
       "      <td>male</td>\n",
       "      <td>27.0</td>\n",
       "      <td>0</td>\n",
       "      <td>0</td>\n",
       "      <td>13.0000</td>\n",
       "      <td>S</td>\n",
       "      <td>Second</td>\n",
       "      <td>man</td>\n",
       "      <td>True</td>\n",
       "      <td>NaN</td>\n",
       "      <td>Southampton</td>\n",
       "      <td>no</td>\n",
       "      <td>True</td>\n",
       "      <td>NaN</td>\n",
       "    </tr>\n",
       "    <tr>\n",
       "      <td>887</td>\n",
       "      <td>1</td>\n",
       "      <td>1</td>\n",
       "      <td>female</td>\n",
       "      <td>19.0</td>\n",
       "      <td>0</td>\n",
       "      <td>0</td>\n",
       "      <td>30.0000</td>\n",
       "      <td>S</td>\n",
       "      <td>First</td>\n",
       "      <td>woman</td>\n",
       "      <td>False</td>\n",
       "      <td>B</td>\n",
       "      <td>Southampton</td>\n",
       "      <td>yes</td>\n",
       "      <td>True</td>\n",
       "      <td>NaN</td>\n",
       "    </tr>\n",
       "    <tr>\n",
       "      <td>888</td>\n",
       "      <td>0</td>\n",
       "      <td>3</td>\n",
       "      <td>female</td>\n",
       "      <td>NaN</td>\n",
       "      <td>1</td>\n",
       "      <td>2</td>\n",
       "      <td>23.4500</td>\n",
       "      <td>S</td>\n",
       "      <td>Third</td>\n",
       "      <td>woman</td>\n",
       "      <td>False</td>\n",
       "      <td>NaN</td>\n",
       "      <td>Southampton</td>\n",
       "      <td>no</td>\n",
       "      <td>False</td>\n",
       "      <td>NaN</td>\n",
       "    </tr>\n",
       "    <tr>\n",
       "      <td>889</td>\n",
       "      <td>1</td>\n",
       "      <td>1</td>\n",
       "      <td>male</td>\n",
       "      <td>26.0</td>\n",
       "      <td>0</td>\n",
       "      <td>0</td>\n",
       "      <td>30.0000</td>\n",
       "      <td>C</td>\n",
       "      <td>First</td>\n",
       "      <td>man</td>\n",
       "      <td>True</td>\n",
       "      <td>C</td>\n",
       "      <td>Cherbourg</td>\n",
       "      <td>yes</td>\n",
       "      <td>True</td>\n",
       "      <td>NaN</td>\n",
       "    </tr>\n",
       "    <tr>\n",
       "      <td>890</td>\n",
       "      <td>0</td>\n",
       "      <td>3</td>\n",
       "      <td>male</td>\n",
       "      <td>32.0</td>\n",
       "      <td>0</td>\n",
       "      <td>0</td>\n",
       "      <td>7.7500</td>\n",
       "      <td>Q</td>\n",
       "      <td>Third</td>\n",
       "      <td>man</td>\n",
       "      <td>True</td>\n",
       "      <td>NaN</td>\n",
       "      <td>Queenstown</td>\n",
       "      <td>no</td>\n",
       "      <td>True</td>\n",
       "      <td>NaN</td>\n",
       "    </tr>\n",
       "  </tbody>\n",
       "</table>\n",
       "<p>891 rows × 16 columns</p>\n",
       "</div>"
      ],
      "text/plain": [
       "     survived  pclass     sex   age  sibsp  parch     fare embarked   class    who  adult_male deck  embark_town alive  alone  Unnamed: 15\n",
       "0           0       3    male  22.0      1      0   7.2500        S   Third    man        True  NaN  Southampton    no  False          NaN\n",
       "1           1       1  female  38.0      1      0  71.2833        C   First  woman       False    C    Cherbourg   yes  False          NaN\n",
       "2           1       3  female  26.0      0      0   7.9250        S   Third  woman       False  NaN  Southampton   yes   True          NaN\n",
       "3           1       1  female  35.0      1      0  53.1000        S   First  woman       False    C  Southampton   yes  False          NaN\n",
       "4           0       3    male  35.0      0      0   8.0500        S   Third    man        True  NaN  Southampton    no   True          NaN\n",
       "..        ...     ...     ...   ...    ...    ...      ...      ...     ...    ...         ...  ...          ...   ...    ...          ...\n",
       "886         0       2    male  27.0      0      0  13.0000        S  Second    man        True  NaN  Southampton    no   True          NaN\n",
       "887         1       1  female  19.0      0      0  30.0000        S   First  woman       False    B  Southampton   yes   True          NaN\n",
       "888         0       3  female   NaN      1      2  23.4500        S   Third  woman       False  NaN  Southampton    no  False          NaN\n",
       "889         1       1    male  26.0      0      0  30.0000        C   First    man        True    C    Cherbourg   yes   True          NaN\n",
       "890         0       3    male  32.0      0      0   7.7500        Q   Third    man        True  NaN   Queenstown    no   True          NaN\n",
       "\n",
       "[891 rows x 16 columns]"
      ]
     },
     "execution_count": 172,
     "metadata": {},
     "output_type": "execute_result"
    }
   ],
   "source": [
    "tit_df"
   ]
  },
  {
   "cell_type": "markdown",
   "metadata": {},
   "source": [
    "Q125. Write a pandas program to make partition each of the passengers into 4 categories based on their age."
   ]
  },
  {
   "cell_type": "code",
   "execution_count": 173,
   "metadata": {},
   "outputs": [
    {
     "name": "stdout",
     "output_type": "stream",
     "text": [
      "maximum and minimum ages are  80.0 and 0.42\n",
      "categories:-\n",
      "age 0-20     179\n",
      "age 20-40    385\n",
      "age 40-60    128\n",
      "age 60-80     22\n",
      "Name: age, dtype: int64\n"
     ]
    }
   ],
   "source": [
    "print('maximum and minimum ages are ',tit_df['age'].max(),'and',  tit_df['age'].min())\n",
    "temp = pd.cut(x = tit_df['age'], bins = [0,20,40,60,80], labels = ['age 0-20','age 20-40', 'age 40-60', 'age 60-80']).value_counts()\n",
    "print('categories:-', temp.sort_index(), sep = '\\n')"
   ]
  },
  {
   "cell_type": "markdown",
   "metadata": {},
   "source": [
    "Q126. Write a pandas program to create the Pivot table and find survival rate by the gender, age of the different categories of various classes."
   ]
  },
  {
   "cell_type": "code",
   "execution_count": 174,
   "metadata": {},
   "outputs": [
    {
     "name": "stdout",
     "output_type": "stream",
     "text": [
      "class                   First    Second     Third\n",
      "age_category sex                                 \n",
      "age 0-20     female  0.928571  1.000000  0.510638\n",
      "             male    0.571429  0.526316  0.197368\n",
      "age 20-40    female  0.977778  0.911111  0.478261\n",
      "             male    0.500000  0.050847  0.143836\n",
      "age 40-60    female  0.958333  0.846154  0.000000\n",
      "             male    0.342105  0.055556  0.074074\n",
      "age 60-80    female  1.000000       NaN  1.000000\n",
      "             male    0.083333  0.333333  0.000000\n"
     ]
    }
   ],
   "source": [
    "tit_df['age_category'] = pd.cut(x = tit_df['age'], bins = [0,20,40, 60,81], labels =  ['age 0-20','age 20-40', 'age 40-60', 'age 60-80'])\n",
    "new_df  = pd.pivot_table( data = tit_df , index = ['age_category', 'sex'] , values = 'survived', columns = 'class', aggfunc= np.mean)\n",
    "print(new_df)"
   ]
  },
  {
   "cell_type": "code",
   "execution_count": null,
   "metadata": {},
   "outputs": [],
   "source": []
  },
  {
   "cell_type": "markdown",
   "metadata": {},
   "source": [
    "Q127. Write a pandas program to create the Pivot table and calculate number of women and men were in a particular cabin class."
   ]
  },
  {
   "cell_type": "code",
   "execution_count": 175,
   "metadata": {},
   "outputs": [
    {
     "data": {
      "text/html": [
       "<div>\n",
       "<style scoped>\n",
       "    .dataframe tbody tr th:only-of-type {\n",
       "        vertical-align: middle;\n",
       "    }\n",
       "\n",
       "    .dataframe tbody tr th {\n",
       "        vertical-align: top;\n",
       "    }\n",
       "\n",
       "    .dataframe thead th {\n",
       "        text-align: right;\n",
       "    }\n",
       "</style>\n",
       "<table border=\"1\" class=\"dataframe\">\n",
       "  <thead>\n",
       "    <tr style=\"text-align: right;\">\n",
       "      <th>class</th>\n",
       "      <th>First</th>\n",
       "      <th>Second</th>\n",
       "      <th>Third</th>\n",
       "    </tr>\n",
       "    <tr>\n",
       "      <th>sex</th>\n",
       "      <th></th>\n",
       "      <th></th>\n",
       "      <th></th>\n",
       "    </tr>\n",
       "  </thead>\n",
       "  <tbody>\n",
       "    <tr>\n",
       "      <td>female</td>\n",
       "      <td>94</td>\n",
       "      <td>76</td>\n",
       "      <td>144</td>\n",
       "    </tr>\n",
       "    <tr>\n",
       "      <td>male</td>\n",
       "      <td>122</td>\n",
       "      <td>108</td>\n",
       "      <td>347</td>\n",
       "    </tr>\n",
       "  </tbody>\n",
       "</table>\n",
       "</div>"
      ],
      "text/plain": [
       "class   First  Second  Third\n",
       "sex                         \n",
       "female     94      76    144\n",
       "male      122     108    347"
      ]
     },
     "execution_count": 175,
     "metadata": {},
     "output_type": "execute_result"
    }
   ],
   "source": [
    "pd.pivot_table(data = tit_df, index= 'sex',values = 'survived',  columns = 'class', aggfunc= 'count')"
   ]
  },
  {
   "cell_type": "code",
   "execution_count": null,
   "metadata": {},
   "outputs": [],
   "source": []
  },
  {
   "cell_type": "markdown",
   "metadata": {},
   "source": [
    "Q128. Write a pandas program to create the Pivot table and separate the gender according to whether they travelled alone or not to get the probability of survival"
   ]
  },
  {
   "cell_type": "code",
   "execution_count": 176,
   "metadata": {},
   "outputs": [
    {
     "data": {
      "text/html": [
       "<div>\n",
       "<style scoped>\n",
       "    .dataframe tbody tr th:only-of-type {\n",
       "        vertical-align: middle;\n",
       "    }\n",
       "\n",
       "    .dataframe tbody tr th {\n",
       "        vertical-align: top;\n",
       "    }\n",
       "\n",
       "    .dataframe thead th {\n",
       "        text-align: right;\n",
       "    }\n",
       "</style>\n",
       "<table border=\"1\" class=\"dataframe\">\n",
       "  <thead>\n",
       "    <tr style=\"text-align: right;\">\n",
       "      <th></th>\n",
       "      <th></th>\n",
       "      <th>survived</th>\n",
       "    </tr>\n",
       "    <tr>\n",
       "      <th>sex</th>\n",
       "      <th>alone</th>\n",
       "      <th></th>\n",
       "    </tr>\n",
       "  </thead>\n",
       "  <tbody>\n",
       "    <tr>\n",
       "      <td rowspan=\"2\" valign=\"top\">female</td>\n",
       "      <td>False</td>\n",
       "      <td>0.712766</td>\n",
       "    </tr>\n",
       "    <tr>\n",
       "      <td>True</td>\n",
       "      <td>0.785714</td>\n",
       "    </tr>\n",
       "    <tr>\n",
       "      <td rowspan=\"2\" valign=\"top\">male</td>\n",
       "      <td>False</td>\n",
       "      <td>0.271084</td>\n",
       "    </tr>\n",
       "    <tr>\n",
       "      <td>True</td>\n",
       "      <td>0.155718</td>\n",
       "    </tr>\n",
       "  </tbody>\n",
       "</table>\n",
       "</div>"
      ],
      "text/plain": [
       "              survived\n",
       "sex    alone          \n",
       "female False  0.712766\n",
       "       True   0.785714\n",
       "male   False  0.271084\n",
       "       True   0.155718"
      ]
     },
     "execution_count": 176,
     "metadata": {},
     "output_type": "execute_result"
    }
   ],
   "source": [
    "pd.pivot_table(data = tit_df, index= ['sex','alone'], values = 'survived' ,  aggfunc= np.mean)"
   ]
  },
  {
   "cell_type": "code",
   "execution_count": null,
   "metadata": {},
   "outputs": [],
   "source": []
  },
  {
   "cell_type": "markdown",
   "metadata": {},
   "source": [
    "Q129. Write a pandas program to create the Pivot table and find the probability of survival by class, gender, solo boarding, and the port of embarkation."
   ]
  },
  {
   "cell_type": "code",
   "execution_count": 177,
   "metadata": {},
   "outputs": [
    {
     "data": {
      "text/html": [
       "<div>\n",
       "<style scoped>\n",
       "    .dataframe tbody tr th:only-of-type {\n",
       "        vertical-align: middle;\n",
       "    }\n",
       "\n",
       "    .dataframe tbody tr th {\n",
       "        vertical-align: top;\n",
       "    }\n",
       "\n",
       "    .dataframe thead tr th {\n",
       "        text-align: left;\n",
       "    }\n",
       "\n",
       "    .dataframe thead tr:last-of-type th {\n",
       "        text-align: right;\n",
       "    }\n",
       "</style>\n",
       "<table border=\"1\" class=\"dataframe\">\n",
       "  <thead>\n",
       "    <tr>\n",
       "      <th></th>\n",
       "      <th>class</th>\n",
       "      <th colspan=\"3\" halign=\"left\">First</th>\n",
       "      <th colspan=\"3\" halign=\"left\">Second</th>\n",
       "      <th colspan=\"3\" halign=\"left\">Third</th>\n",
       "    </tr>\n",
       "    <tr>\n",
       "      <th></th>\n",
       "      <th>embark_town</th>\n",
       "      <th>Cherbourg</th>\n",
       "      <th>Queenstown</th>\n",
       "      <th>Southampton</th>\n",
       "      <th>Cherbourg</th>\n",
       "      <th>Queenstown</th>\n",
       "      <th>Southampton</th>\n",
       "      <th>Cherbourg</th>\n",
       "      <th>Queenstown</th>\n",
       "      <th>Southampton</th>\n",
       "    </tr>\n",
       "    <tr>\n",
       "      <th>sex</th>\n",
       "      <th>alone</th>\n",
       "      <th></th>\n",
       "      <th></th>\n",
       "      <th></th>\n",
       "      <th></th>\n",
       "      <th></th>\n",
       "      <th></th>\n",
       "      <th></th>\n",
       "      <th></th>\n",
       "      <th></th>\n",
       "    </tr>\n",
       "  </thead>\n",
       "  <tbody>\n",
       "    <tr>\n",
       "      <td rowspan=\"2\" valign=\"top\">female</td>\n",
       "      <td>False</td>\n",
       "      <td>1.000000</td>\n",
       "      <td>1.0</td>\n",
       "      <td>0.941176</td>\n",
       "      <td>1.000000</td>\n",
       "      <td>NaN</td>\n",
       "      <td>0.923077</td>\n",
       "      <td>0.611111</td>\n",
       "      <td>0.625000</td>\n",
       "      <td>0.327586</td>\n",
       "    </tr>\n",
       "    <tr>\n",
       "      <td>True</td>\n",
       "      <td>0.944444</td>\n",
       "      <td>NaN</td>\n",
       "      <td>1.000000</td>\n",
       "      <td>1.000000</td>\n",
       "      <td>1.0</td>\n",
       "      <td>0.892857</td>\n",
       "      <td>0.800000</td>\n",
       "      <td>0.760000</td>\n",
       "      <td>0.466667</td>\n",
       "    </tr>\n",
       "    <tr>\n",
       "      <td rowspan=\"2\" valign=\"top\">male</td>\n",
       "      <td>False</td>\n",
       "      <td>0.473684</td>\n",
       "      <td>0.0</td>\n",
       "      <td>0.407407</td>\n",
       "      <td>0.166667</td>\n",
       "      <td>NaN</td>\n",
       "      <td>0.300000</td>\n",
       "      <td>0.500000</td>\n",
       "      <td>0.100000</td>\n",
       "      <td>0.142857</td>\n",
       "    </tr>\n",
       "    <tr>\n",
       "      <td>True</td>\n",
       "      <td>0.347826</td>\n",
       "      <td>NaN</td>\n",
       "      <td>0.326923</td>\n",
       "      <td>0.250000</td>\n",
       "      <td>0.0</td>\n",
       "      <td>0.089552</td>\n",
       "      <td>0.151515</td>\n",
       "      <td>0.068966</td>\n",
       "      <td>0.123762</td>\n",
       "    </tr>\n",
       "  </tbody>\n",
       "</table>\n",
       "</div>"
      ],
      "text/plain": [
       "class            First                           Second                            Third                       \n",
       "embark_town  Cherbourg Queenstown Southampton Cherbourg Queenstown Southampton Cherbourg Queenstown Southampton\n",
       "sex    alone                                                                                                   \n",
       "female False  1.000000        1.0    0.941176  1.000000        NaN    0.923077  0.611111   0.625000    0.327586\n",
       "       True   0.944444        NaN    1.000000  1.000000        1.0    0.892857  0.800000   0.760000    0.466667\n",
       "male   False  0.473684        0.0    0.407407  0.166667        NaN    0.300000  0.500000   0.100000    0.142857\n",
       "       True   0.347826        NaN    0.326923  0.250000        0.0    0.089552  0.151515   0.068966    0.123762"
      ]
     },
     "execution_count": 177,
     "metadata": {},
     "output_type": "execute_result"
    }
   ],
   "source": [
    "pd.pivot_table(data = tit_df, index = ['sex', 'alone'] , columns = ['class', 'embark_town'], values = 'survived', aggfunc= np.mean)"
   ]
  },
  {
   "cell_type": "code",
   "execution_count": null,
   "metadata": {},
   "outputs": [],
   "source": []
  },
  {
   "cell_type": "markdown",
   "metadata": {},
   "source": [
    "Q130. Write a pandas program to get current date, oldest date and number of days between Current date and the oldest date of Ufo dataset."
   ]
  },
  {
   "cell_type": "code",
   "execution_count": 178,
   "metadata": {},
   "outputs": [
    {
     "name": "stderr",
     "output_type": "stream",
     "text": [
      "C:\\Users\\DELL\\Anaconda3\\lib\\site-packages\\IPython\\core\\interactiveshell.py:3063: DtypeWarning: Columns (5,9) have mixed types. Specify dtype option on import or set low_memory=False.\n",
      "  interactivity=interactivity, compiler=compiler, result=result)\n"
     ]
    }
   ],
   "source": [
    "ufo_df = pd.read_csv(r'C:\\Users\\DELL\\Desktop\\ai\\ineuron.ai\\0 assignments\\sub and obj\\py sub and obj\\data for subjective questions\\ufo_sighting_data.csv')\n",
    "ufo_df['Date_time'] = pd.to_datetime(ufo_df['Date_time'], errors = 'coerce')\n"
   ]
  },
  {
   "cell_type": "code",
   "execution_count": 179,
   "metadata": {},
   "outputs": [
    {
     "name": "stdout",
     "output_type": "stream",
     "text": [
      "curret date 2014-05-08 18:45:00\n",
      "oldest date 1906-11-11 00:00:00\n",
      "no of ddays:  39260\n"
     ]
    }
   ],
   "source": [
    "curr_date, oldest_date = ufo_df['Date_time'].max(), ufo_df['Date_time'].min()\n",
    "print('curret date', curr_date )\n",
    "print('oldest date', oldest_date)\n",
    "print('no of ddays: ', (curr_date-oldest_date).days)"
   ]
  },
  {
   "cell_type": "code",
   "execution_count": null,
   "metadata": {},
   "outputs": [],
   "source": []
  },
  {
   "cell_type": "markdown",
   "metadata": {},
   "source": [
    "Q131. Write a pandas program to get all sighting days of the unidentified flying object (ufo) between 1950-10-10 and 1960-10- 10."
   ]
  },
  {
   "cell_type": "code",
   "execution_count": 180,
   "metadata": {},
   "outputs": [
    {
     "name": "stdout",
     "output_type": "stream",
     "text": [
      "sighting days bw 1950-10-10 and 1960-10-10 2       1955-10-10 17:00:00\n",
      "3       1956-10-10 21:00:00\n",
      "480     1952-10-01 03:30:00\n",
      "481     1952-10-01 12:00:00\n",
      "482     1954-10-01 19:00:00\n",
      "                ...        \n",
      "79262   1960-09-05 21:00:00\n",
      "79668   1958-09-07 19:00:00\n",
      "80101   1952-09-09 20:00:00\n",
      "80102   1954-09-09 12:30:00\n",
      "80103   1956-09-09 05:55:00\n",
      "Name: Date_time, Length: 444, dtype: datetime64[ns]\n"
     ]
    }
   ],
   "source": [
    "arr  = np.array(['1950-10-10', '1960-10-10' ])\n",
    "arr = arr.astype('datetime64')\n",
    "print('sighting days bw 1950-10-10 and 1960-10-10', ufo_df[(ufo_df['Date_time']>=arr[0] ) & (ufo_df['Date_time']<=arr[1] )]['Date_time'])"
   ]
  },
  {
   "cell_type": "code",
   "execution_count": null,
   "metadata": {},
   "outputs": [],
   "source": []
  },
  {
   "cell_type": "markdown",
   "metadata": {},
   "source": [
    "Q132. Write a Pandas program to extract the year, month, day, hour, minute, second, and weekday from unidentified flying object (UFO) reporting date."
   ]
  },
  {
   "cell_type": "code",
   "execution_count": 181,
   "metadata": {},
   "outputs": [
    {
     "name": "stdout",
     "output_type": "stream",
     "text": [
      "     year  month   day  hour  minute  second  weekday\n",
      "0  1949.0   10.0  10.0  20.0    30.0     0.0      0.0\n",
      "1  1949.0   10.0  10.0  21.0     0.0     0.0      0.0\n",
      "2  1955.0   10.0  10.0  17.0     0.0     0.0      0.0\n",
      "3  1956.0   10.0  10.0  21.0     0.0     0.0      2.0\n",
      "4  1960.0   10.0  10.0  20.0     0.0     0.0      0.0\n"
     ]
    }
   ],
   "source": [
    "ufo_dates = pd.DataFrame({'year': ufo_df['Date_time'].dt.year,\n",
    "                          'month':ufo_df['Date_time'].dt.month,\n",
    "                          'day': ufo_df['Date_time'].dt.day,\n",
    "                           'hour': ufo_df['Date_time'].dt.hour,\n",
    "                           'minute': ufo_df['Date_time'].dt.minute,\n",
    "                           'second': ufo_df['Date_time'].dt.second,\n",
    "                          'weekday': ufo_df['Date_time'].dt.weekday\n",
    "                          \n",
    "                          ,\n",
    "                          \n",
    "})\n",
    "print(ufo_dates.head())"
   ]
  },
  {
   "cell_type": "code",
   "execution_count": 186,
   "metadata": {},
   "outputs": [],
   "source": []
  },
  {
   "cell_type": "markdown",
   "metadata": {},
   "source": [
    "Q133. Write a pandas program to count year-country wise frequency of reporting dates of the unidentified flying object(UFO)"
   ]
  },
  {
   "cell_type": "code",
   "execution_count": 189,
   "metadata": {},
   "outputs": [
    {
     "name": "stdout",
     "output_type": "stream",
     "text": [
      "country year wise frequency:\n"
     ]
    },
    {
     "data": {
      "text/html": [
       "<div>\n",
       "<style scoped>\n",
       "    .dataframe tbody tr th:only-of-type {\n",
       "        vertical-align: middle;\n",
       "    }\n",
       "\n",
       "    .dataframe tbody tr th {\n",
       "        vertical-align: top;\n",
       "    }\n",
       "\n",
       "    .dataframe thead th {\n",
       "        text-align: right;\n",
       "    }\n",
       "</style>\n",
       "<table border=\"1\" class=\"dataframe\">\n",
       "  <thead>\n",
       "    <tr style=\"text-align: right;\">\n",
       "      <th>Year</th>\n",
       "      <th>1995.0</th>\n",
       "      <th>1996.0</th>\n",
       "      <th>1997.0</th>\n",
       "      <th>1998.0</th>\n",
       "      <th>1999.0</th>\n",
       "      <th>2000.0</th>\n",
       "      <th>2001.0</th>\n",
       "      <th>2002.0</th>\n",
       "      <th>2003.0</th>\n",
       "      <th>2004.0</th>\n",
       "      <th>2005.0</th>\n",
       "      <th>2006.0</th>\n",
       "      <th>2007.0</th>\n",
       "      <th>2008.0</th>\n",
       "      <th>2009.0</th>\n",
       "      <th>2010.0</th>\n",
       "      <th>2011.0</th>\n",
       "      <th>2012.0</th>\n",
       "      <th>2013.0</th>\n",
       "      <th>2014.0</th>\n",
       "    </tr>\n",
       "    <tr>\n",
       "      <th>country</th>\n",
       "      <th></th>\n",
       "      <th></th>\n",
       "      <th></th>\n",
       "      <th></th>\n",
       "      <th></th>\n",
       "      <th></th>\n",
       "      <th></th>\n",
       "      <th></th>\n",
       "      <th></th>\n",
       "      <th></th>\n",
       "      <th></th>\n",
       "      <th></th>\n",
       "      <th></th>\n",
       "      <th></th>\n",
       "      <th></th>\n",
       "      <th></th>\n",
       "      <th></th>\n",
       "      <th></th>\n",
       "      <th></th>\n",
       "      <th></th>\n",
       "    </tr>\n",
       "  </thead>\n",
       "  <tbody>\n",
       "    <tr>\n",
       "      <td>au</td>\n",
       "      <td>3</td>\n",
       "      <td>7</td>\n",
       "      <td>9</td>\n",
       "      <td>12</td>\n",
       "      <td>19</td>\n",
       "      <td>22</td>\n",
       "      <td>36</td>\n",
       "      <td>47</td>\n",
       "      <td>50</td>\n",
       "      <td>43</td>\n",
       "      <td>48</td>\n",
       "      <td>37</td>\n",
       "      <td>27</td>\n",
       "      <td>16</td>\n",
       "      <td>14</td>\n",
       "      <td>16</td>\n",
       "      <td>13</td>\n",
       "      <td>18</td>\n",
       "      <td>32</td>\n",
       "      <td>13</td>\n",
       "    </tr>\n",
       "    <tr>\n",
       "      <td>ca</td>\n",
       "      <td>18</td>\n",
       "      <td>29</td>\n",
       "      <td>40</td>\n",
       "      <td>60</td>\n",
       "      <td>96</td>\n",
       "      <td>101</td>\n",
       "      <td>136</td>\n",
       "      <td>166</td>\n",
       "      <td>292</td>\n",
       "      <td>265</td>\n",
       "      <td>183</td>\n",
       "      <td>141</td>\n",
       "      <td>158</td>\n",
       "      <td>118</td>\n",
       "      <td>133</td>\n",
       "      <td>137</td>\n",
       "      <td>127</td>\n",
       "      <td>240</td>\n",
       "      <td>243</td>\n",
       "      <td>45</td>\n",
       "    </tr>\n",
       "    <tr>\n",
       "      <td>de</td>\n",
       "      <td>1</td>\n",
       "      <td>2</td>\n",
       "      <td>1</td>\n",
       "      <td>1</td>\n",
       "      <td>1</td>\n",
       "      <td>3</td>\n",
       "      <td>3</td>\n",
       "      <td>3</td>\n",
       "      <td>7</td>\n",
       "      <td>5</td>\n",
       "      <td>3</td>\n",
       "      <td>4</td>\n",
       "      <td>9</td>\n",
       "      <td>15</td>\n",
       "      <td>6</td>\n",
       "      <td>3</td>\n",
       "      <td>3</td>\n",
       "      <td>6</td>\n",
       "      <td>5</td>\n",
       "      <td>2</td>\n",
       "    </tr>\n",
       "    <tr>\n",
       "      <td>gb</td>\n",
       "      <td>14</td>\n",
       "      <td>23</td>\n",
       "      <td>30</td>\n",
       "      <td>30</td>\n",
       "      <td>33</td>\n",
       "      <td>77</td>\n",
       "      <td>115</td>\n",
       "      <td>129</td>\n",
       "      <td>130</td>\n",
       "      <td>106</td>\n",
       "      <td>111</td>\n",
       "      <td>160</td>\n",
       "      <td>121</td>\n",
       "      <td>136</td>\n",
       "      <td>201</td>\n",
       "      <td>113</td>\n",
       "      <td>50</td>\n",
       "      <td>82</td>\n",
       "      <td>48</td>\n",
       "      <td>20</td>\n",
       "    </tr>\n",
       "    <tr>\n",
       "      <td>us</td>\n",
       "      <td>904</td>\n",
       "      <td>641</td>\n",
       "      <td>999</td>\n",
       "      <td>1385</td>\n",
       "      <td>2243</td>\n",
       "      <td>2171</td>\n",
       "      <td>2440</td>\n",
       "      <td>2424</td>\n",
       "      <td>2943</td>\n",
       "      <td>3219</td>\n",
       "      <td>3196</td>\n",
       "      <td>2857</td>\n",
       "      <td>3454</td>\n",
       "      <td>3990</td>\n",
       "      <td>3649</td>\n",
       "      <td>3529</td>\n",
       "      <td>4352</td>\n",
       "      <td>6282</td>\n",
       "      <td>6024</td>\n",
       "      <td>1960</td>\n",
       "    </tr>\n",
       "  </tbody>\n",
       "</table>\n",
       "</div>"
      ],
      "text/plain": [
       "Year     1995.0  1996.0  1997.0  1998.0  1999.0  2000.0  2001.0  2002.0  2003.0  2004.0  2005.0  2006.0  2007.0  2008.0  2009.0  2010.0  2011.0  2012.0  2013.0  2014.0\n",
       "country                                                                                                                                                                \n",
       "au            3       7       9      12      19      22      36      47      50      43      48      37      27      16      14      16      13      18      32      13\n",
       "ca           18      29      40      60      96     101     136     166     292     265     183     141     158     118     133     137     127     240     243      45\n",
       "de            1       2       1       1       1       3       3       3       7       5       3       4       9      15       6       3       3       6       5       2\n",
       "gb           14      23      30      30      33      77     115     129     130     106     111     160     121     136     201     113      50      82      48      20\n",
       "us          904     641     999    1385    2243    2171    2440    2424    2943    3219    3196    2857    3454    3990    3649    3529    4352    6282    6024    1960"
      ]
     },
     "execution_count": 189,
     "metadata": {},
     "output_type": "execute_result"
    }
   ],
   "source": [
    "ufo_df['Year'] = ufo_df['Date_time'].apply(lambda x: x.year)\n",
    "ufo_df['Month'] = ufo_df['Date_time'].apply(lambda x: x.month)\n",
    "\n",
    "last_20_years = ufo_df['Year'].value_counts().sort_index(ascending = False).iloc[:20]\n",
    "\n",
    "def fnn(year):\n",
    "    if year in last_20_years:\n",
    "        return year\n",
    "\n",
    "print('country year wise frequency:')\n",
    "a = pd.pivot_table(data = ufo_df , columns = ufo_df['Year'].apply(fnn) , index= 'country', aggfunc= 'count', values = 'city' )\n",
    "a\n"
   ]
  },
  {
   "cell_type": "code",
   "execution_count": 190,
   "metadata": {},
   "outputs": [
    {
     "data": {
      "image/png": "[encoded data removed]",
      "text/plain": [
       "<Figure size 720x360 with 1 Axes>"
      ]
     },
     "metadata": {
      "needs_background": "light"
     },
     "output_type": "display_data"
    }
   ],
   "source": [
    "plt.figure(figsize=(10,5))\n",
    "for i,j in zip(range(a.shape[0]),a.index):\n",
    "    plt.plot(a.columns, a.iloc[i,:], label = j)\n",
    "plt.grid(True)\n",
    "plt.legend()\n",
    "plt.title('VARIATION OF UFO SIGHTINGS OF DIFFERENT COUNTRIES OVER LAST 20 YEARS')\n",
    "plt.xlabel('YEAR')\n",
    "plt.ylabel('no. of sightings')\n",
    "plt.show()"
   ]
  },
  {
   "cell_type": "code",
   "execution_count": 191,
   "metadata": {},
   "outputs": [
    {
     "name": "stdout",
     "output_type": "stream",
     "text": [
      "year country wise frequency:\n"
     ]
    },
    {
     "data": {
      "text/html": [
       "<div>\n",
       "<style scoped>\n",
       "    .dataframe tbody tr th:only-of-type {\n",
       "        vertical-align: middle;\n",
       "    }\n",
       "\n",
       "    .dataframe tbody tr th {\n",
       "        vertical-align: top;\n",
       "    }\n",
       "\n",
       "    .dataframe thead th {\n",
       "        text-align: right;\n",
       "    }\n",
       "</style>\n",
       "<table border=\"1\" class=\"dataframe\">\n",
       "  <thead>\n",
       "    <tr style=\"text-align: right;\">\n",
       "      <th>country</th>\n",
       "      <th>au</th>\n",
       "      <th>ca</th>\n",
       "      <th>de</th>\n",
       "      <th>gb</th>\n",
       "      <th>us</th>\n",
       "    </tr>\n",
       "    <tr>\n",
       "      <th>Year</th>\n",
       "      <th></th>\n",
       "      <th></th>\n",
       "      <th></th>\n",
       "      <th></th>\n",
       "      <th></th>\n",
       "    </tr>\n",
       "  </thead>\n",
       "  <tbody>\n",
       "    <tr>\n",
       "      <td>1995.0</td>\n",
       "      <td>3</td>\n",
       "      <td>18</td>\n",
       "      <td>1</td>\n",
       "      <td>14</td>\n",
       "      <td>904</td>\n",
       "    </tr>\n",
       "    <tr>\n",
       "      <td>1996.0</td>\n",
       "      <td>7</td>\n",
       "      <td>29</td>\n",
       "      <td>2</td>\n",
       "      <td>23</td>\n",
       "      <td>641</td>\n",
       "    </tr>\n",
       "    <tr>\n",
       "      <td>1997.0</td>\n",
       "      <td>9</td>\n",
       "      <td>40</td>\n",
       "      <td>1</td>\n",
       "      <td>30</td>\n",
       "      <td>999</td>\n",
       "    </tr>\n",
       "    <tr>\n",
       "      <td>1998.0</td>\n",
       "      <td>12</td>\n",
       "      <td>60</td>\n",
       "      <td>1</td>\n",
       "      <td>30</td>\n",
       "      <td>1385</td>\n",
       "    </tr>\n",
       "    <tr>\n",
       "      <td>1999.0</td>\n",
       "      <td>19</td>\n",
       "      <td>96</td>\n",
       "      <td>1</td>\n",
       "      <td>33</td>\n",
       "      <td>2243</td>\n",
       "    </tr>\n",
       "    <tr>\n",
       "      <td>2000.0</td>\n",
       "      <td>22</td>\n",
       "      <td>101</td>\n",
       "      <td>3</td>\n",
       "      <td>77</td>\n",
       "      <td>2171</td>\n",
       "    </tr>\n",
       "    <tr>\n",
       "      <td>2001.0</td>\n",
       "      <td>36</td>\n",
       "      <td>136</td>\n",
       "      <td>3</td>\n",
       "      <td>115</td>\n",
       "      <td>2440</td>\n",
       "    </tr>\n",
       "    <tr>\n",
       "      <td>2002.0</td>\n",
       "      <td>47</td>\n",
       "      <td>166</td>\n",
       "      <td>3</td>\n",
       "      <td>129</td>\n",
       "      <td>2424</td>\n",
       "    </tr>\n",
       "    <tr>\n",
       "      <td>2003.0</td>\n",
       "      <td>50</td>\n",
       "      <td>292</td>\n",
       "      <td>7</td>\n",
       "      <td>130</td>\n",
       "      <td>2943</td>\n",
       "    </tr>\n",
       "    <tr>\n",
       "      <td>2004.0</td>\n",
       "      <td>43</td>\n",
       "      <td>265</td>\n",
       "      <td>5</td>\n",
       "      <td>106</td>\n",
       "      <td>3219</td>\n",
       "    </tr>\n",
       "    <tr>\n",
       "      <td>2005.0</td>\n",
       "      <td>48</td>\n",
       "      <td>183</td>\n",
       "      <td>3</td>\n",
       "      <td>111</td>\n",
       "      <td>3196</td>\n",
       "    </tr>\n",
       "    <tr>\n",
       "      <td>2006.0</td>\n",
       "      <td>37</td>\n",
       "      <td>141</td>\n",
       "      <td>4</td>\n",
       "      <td>160</td>\n",
       "      <td>2857</td>\n",
       "    </tr>\n",
       "    <tr>\n",
       "      <td>2007.0</td>\n",
       "      <td>27</td>\n",
       "      <td>158</td>\n",
       "      <td>9</td>\n",
       "      <td>121</td>\n",
       "      <td>3454</td>\n",
       "    </tr>\n",
       "    <tr>\n",
       "      <td>2008.0</td>\n",
       "      <td>16</td>\n",
       "      <td>118</td>\n",
       "      <td>15</td>\n",
       "      <td>136</td>\n",
       "      <td>3990</td>\n",
       "    </tr>\n",
       "    <tr>\n",
       "      <td>2009.0</td>\n",
       "      <td>14</td>\n",
       "      <td>133</td>\n",
       "      <td>6</td>\n",
       "      <td>201</td>\n",
       "      <td>3649</td>\n",
       "    </tr>\n",
       "    <tr>\n",
       "      <td>2010.0</td>\n",
       "      <td>16</td>\n",
       "      <td>137</td>\n",
       "      <td>3</td>\n",
       "      <td>113</td>\n",
       "      <td>3529</td>\n",
       "    </tr>\n",
       "    <tr>\n",
       "      <td>2011.0</td>\n",
       "      <td>13</td>\n",
       "      <td>127</td>\n",
       "      <td>3</td>\n",
       "      <td>50</td>\n",
       "      <td>4352</td>\n",
       "    </tr>\n",
       "    <tr>\n",
       "      <td>2012.0</td>\n",
       "      <td>18</td>\n",
       "      <td>240</td>\n",
       "      <td>6</td>\n",
       "      <td>82</td>\n",
       "      <td>6282</td>\n",
       "    </tr>\n",
       "    <tr>\n",
       "      <td>2013.0</td>\n",
       "      <td>32</td>\n",
       "      <td>243</td>\n",
       "      <td>5</td>\n",
       "      <td>48</td>\n",
       "      <td>6024</td>\n",
       "    </tr>\n",
       "    <tr>\n",
       "      <td>2014.0</td>\n",
       "      <td>13</td>\n",
       "      <td>45</td>\n",
       "      <td>2</td>\n",
       "      <td>20</td>\n",
       "      <td>1960</td>\n",
       "    </tr>\n",
       "  </tbody>\n",
       "</table>\n",
       "</div>"
      ],
      "text/plain": [
       "country  au   ca  de   gb    us\n",
       "Year                           \n",
       "1995.0    3   18   1   14   904\n",
       "1996.0    7   29   2   23   641\n",
       "1997.0    9   40   1   30   999\n",
       "1998.0   12   60   1   30  1385\n",
       "1999.0   19   96   1   33  2243\n",
       "2000.0   22  101   3   77  2171\n",
       "2001.0   36  136   3  115  2440\n",
       "2002.0   47  166   3  129  2424\n",
       "2003.0   50  292   7  130  2943\n",
       "2004.0   43  265   5  106  3219\n",
       "2005.0   48  183   3  111  3196\n",
       "2006.0   37  141   4  160  2857\n",
       "2007.0   27  158   9  121  3454\n",
       "2008.0   16  118  15  136  3990\n",
       "2009.0   14  133   6  201  3649\n",
       "2010.0   16  137   3  113  3529\n",
       "2011.0   13  127   3   50  4352\n",
       "2012.0   18  240   6   82  6282\n",
       "2013.0   32  243   5   48  6024\n",
       "2014.0   13   45   2   20  1960"
      ]
     },
     "execution_count": 191,
     "metadata": {},
     "output_type": "execute_result"
    }
   ],
   "source": [
    "print('year country wise frequency:')\n",
    "pd.pivot_table(data = ufo_df , index = ufo_df['Year'].apply(fnn) , columns =  'country', aggfunc= 'count', values = 'city' )\n"
   ]
  },
  {
   "cell_type": "code",
   "execution_count": null,
   "metadata": {},
   "outputs": [],
   "source": []
  },
  {
   "cell_type": "markdown",
   "metadata": {},
   "source": [
    "Q134. Write a pandas program to get the difference (in days) between documented date and reporting date of unidentified flying object (UFO)."
   ]
  },
  {
   "cell_type": "code",
   "execution_count": 192,
   "metadata": {},
   "outputs": [],
   "source": [
    "ufo_df['date_documented'] = pd.to_datetime(ufo_df['date_documented'])"
   ]
  },
  {
   "cell_type": "code",
   "execution_count": 193,
   "metadata": {},
   "outputs": [
    {
     "name": "stdout",
     "output_type": "stream",
     "text": [
      "difference bw documented date and reporting date 0    19922.0\n",
      "1    20520.0\n",
      "2    19095.0\n",
      "3    17264.0\n",
      "4    15808.0\n",
      "dtype: float64\n"
     ]
    }
   ],
   "source": [
    "temp = (ufo_df['date_documented'] - ufo_df['Date_time']).dt.days\n",
    "print('difference bw documented date and reporting date',temp.head())"
   ]
  },
  {
   "cell_type": "code",
   "execution_count": null,
   "metadata": {},
   "outputs": [],
   "source": []
  },
  {
   "cell_type": "markdown",
   "metadata": {},
   "source": [
    "Q135. Write a pandas program to generate sequences of fixed- frequency dates and time spans."
   ]
  },
  {
   "cell_type": "code",
   "execution_count": 194,
   "metadata": {},
   "outputs": [
    {
     "name": "stdout",
     "output_type": "stream",
     "text": [
      "one day frequency:***** DatetimeIndex(['2019-01-01', '2019-01-02', '2019-01-03', '2019-01-04', '2019-01-05', '2019-01-06', '2019-01-07', '2019-01-08', '2019-01-09', '2019-01-10'], dtype='datetime64[ns]', freq='D')\n",
      "five hour frequency:***** DatetimeIndex(['2019-01-01 00:00:00', '2019-01-01 05:00:00', '2019-01-01 10:00:00', '2019-01-01 15:00:00', '2019-01-01 20:00:00', '2019-01-02 01:00:00', '2019-01-02 06:00:00', '2019-01-02 11:00:00', '2019-01-02 16:00:00', '2019-01-02 21:00:00'], dtype='datetime64[ns]', freq='5H')\n",
      "one year frequency:***** DatetimeIndex(['2019-12-31', '2020-12-31', '2021-12-31', '2022-12-31', '2023-12-31', '2024-12-31', '2025-12-31', '2026-12-31', '2027-12-31', '2028-12-31'], dtype='datetime64[ns]', freq='A-DEC')\n",
      "two week frequency:***** DatetimeIndex(['2019-01-06', '2019-01-20', '2019-02-03', '2019-02-17', '2019-03-03', '2019-03-17', '2019-03-31', '2019-04-14', '2019-04-28', '2019-05-12'], dtype='datetime64[ns]', freq='2W-SUN')\n",
      "two minute frequency:***** DatetimeIndex(['2019-01-31', '2019-03-31', '2019-05-31', '2019-07-31', '2019-09-30', '2019-11-30', '2020-01-31', '2020-03-31', '2020-05-31', '2020-07-31'], dtype='datetime64[ns]', freq='2M')\n"
     ]
    }
   ],
   "source": [
    "print('one day frequency:*****', pd.date_range(start = '2019-01-01', periods = 10, freq = '1D'))\n",
    "print('five hour frequency:*****', pd.date_range(start = '2019-01-01', periods = 10, freq = '5H'))\n",
    "print('one year frequency:*****', pd.date_range(start = '2019-01-01', periods = 10, freq = '1Y'))\n",
    "print('two week frequency:*****', pd.date_range(start = '2019-01-01', periods = 10, freq = '2W'))\n",
    "print('two minute frequency:*****', pd.date_range(start = '2019-01-01', periods = 10, freq = '2M'))"
   ]
  },
  {
   "cell_type": "code",
   "execution_count": null,
   "metadata": {},
   "outputs": [],
   "source": []
  },
  {
   "cell_type": "markdown",
   "metadata": {},
   "source": [
    "Q136. Write a pandas program to manipulate and convert date times with timezone information."
   ]
  },
  {
   "cell_type": "code",
   "execution_count": 195,
   "metadata": {},
   "outputs": [
    {
     "name": "stdout",
     "output_type": "stream",
     "text": [
      "utc time zone DatetimeIndex(['2018-01-01 00:00:00+00:00', '2018-01-06 01:00:00+00:00', '2018-01-11 02:00:00+00:00', '2018-01-16 03:00:00+00:00', '2018-01-21 04:00:00+00:00', '2018-01-26 05:00:00+00:00', '2018-01-31 06:00:00+00:00', '2018-02-05 07:00:00+00:00', '2018-02-10 08:00:00+00:00', '2018-02-15 09:00:00+00:00', '2018-02-20 10:00:00+00:00', '2018-02-25 11:00:00+00:00', '2018-03-02 12:00:00+00:00', '2018-03-07 13:00:00+00:00', '2018-03-12 14:00:00+00:00', '2018-03-17 15:00:00+00:00', '2018-03-22 16:00:00+00:00', '2018-03-27 17:00:00+00:00', '2018-04-01 18:00:00+00:00', '2018-04-06 19:00:00+00:00', '2018-04-11 20:00:00+00:00', '2018-04-16 21:00:00+00:00', '2018-04-21 22:00:00+00:00', '2018-04-26 23:00:00+00:00'], dtype='datetime64[ns, UTC]', freq='121H')\n",
      "converted to europe tz DatetimeIndex(['2018-01-01 01:00:00+01:00', '2018-01-06 02:00:00+01:00', '2018-01-11 03:00:00+01:00', '2018-01-16 04:00:00+01:00', '2018-01-21 05:00:00+01:00', '2018-01-26 06:00:00+01:00', '2018-01-31 07:00:00+01:00', '2018-02-05 08:00:00+01:00', '2018-02-10 09:00:00+01:00', '2018-02-15 10:00:00+01:00', '2018-02-20 11:00:00+01:00', '2018-02-25 12:00:00+01:00', '2018-03-02 13:00:00+01:00', '2018-03-07 14:00:00+01:00', '2018-03-12 15:00:00+01:00', '2018-03-17 16:00:00+01:00', '2018-03-22 17:00:00+01:00', '2018-03-27 19:00:00+02:00', '2018-04-01 20:00:00+02:00', '2018-04-06 21:00:00+02:00', '2018-04-11 22:00:00+02:00', '2018-04-16 23:00:00+02:00', '2018-04-22 00:00:00+02:00', '2018-04-27 01:00:00+02:00'], dtype='datetime64[ns, Europe/Berlin]', freq='121H')\n"
     ]
    }
   ],
   "source": [
    "date= pd.date_range(start = '2018-01-01', periods = 24, freq = '5D1H')\n",
    "date = date.tz_localize('UTC')\n",
    "print('utc time zone', date)\n",
    "date = date.tz_convert('Europe/Berlin')\n",
    "print('converted to europe tz', date)"
   ]
  },
  {
   "cell_type": "code",
   "execution_count": 196,
   "metadata": {},
   "outputs": [],
   "source": [
    "import seaborn as sns\n",
    "import matplotlib.pyplot as plt"
   ]
  },
  {
   "cell_type": "markdown",
   "metadata": {},
   "source": [
    "Q137. Write a pandas program to create the graphical analysis of UFO (unidentified flying object) Sightings year."
   ]
  },
  {
   "cell_type": "code",
   "execution_count": 197,
   "metadata": {},
   "outputs": [],
   "source": [
    "values = ufo_df['Year'].value_counts().to_frame()\n",
    "values.rename(mapper = {'Year': 'no of sightings'}, axis = 1, inplace= True)\n",
    "values.reset_index(inplace = True)"
   ]
  },
  {
   "cell_type": "code",
   "execution_count": 198,
   "metadata": {},
   "outputs": [
    {
     "data": {
      "image/png": "[encoded data removed]",
      "text/plain": [
       "<Figure size 1080x432 with 1 Axes>"
      ]
     },
     "metadata": {
      "needs_background": "light"
     },
     "output_type": "display_data"
    }
   ],
   "source": [
    "plt.figure(figsize= (15,6))\n",
    "plt.bar(x = values['index'], height = values['no of sightings'] , color = 'k')\n",
    "plt.grid(True)\n",
    "plt.xticks( np.arange(values.iloc[:,0].min(), values.iloc[:,0].max(), 5) )\n",
    "plt.title('UFO SIGHTINGS PER YEAR')\n",
    "plt.xlabel('YEAR')\n",
    "plt.ylabel('no of sightings')\n",
    "plt.show()"
   ]
  },
  {
   "cell_type": "code",
   "execution_count": null,
   "metadata": {},
   "outputs": [],
   "source": []
  },
  {
   "cell_type": "markdown",
   "metadata": {},
   "source": [
    "Q138. Write a pandas program to create a comparison of the top 10 years in which the (UFO) was sighted VS each Month"
   ]
  },
  {
   "cell_type": "code",
   "execution_count": 199,
   "metadata": {},
   "outputs": [
    {
     "name": "stdout",
     "output_type": "stream",
     "text": [
      "        jan  feb  mar  apr  may  june  july  aug  sept  oct  nov  dec\n",
      "year                                                                 \n",
      "2003.0  284  229  168  202  218   269   405  498   465  421  435  341\n",
      "2004.0  263  264  368  354  348   371   396  497   374  414  293  278\n",
      "2005.0  227  253  325  291  270   366   415  317   474  435  414  252\n",
      "2007.0  397  242  329  288  274   379   429  429   416  395  340  325\n",
      "2008.0  427  340  302  401  308   438   527  467   355  481  417  314\n",
      "2009.0  449  360  312  293  336   354   536  463   568  286  292  259\n",
      "2010.0  255  171  233  266  303   339   789  477   414  420  314  277\n",
      "2011.0  294  252  309  293  281   370   711  597   502  588  400  480\n",
      "2012.0  526  357  485  459  466   693   874  821   690  617  711  609\n",
      "2013.0  354  260  365  384  485   579   898  838   713  717  712  687\n"
     ]
    }
   ],
   "source": [
    "years = ufo_df['Year'].value_counts().iloc[:10]\n",
    "top_10_years = sorted(years.index)\n",
    "d = {}\n",
    "\n",
    "for year in top_10_years:\n",
    "    lst = []\n",
    "    for month in range(1, 13):\n",
    "        temp = ufo_df[(ufo_df['Year'] == year) & (ufo_df['Month'] == month) ].shape[0]\n",
    "        lst.append(temp)\n",
    "    d[year] = lst\n",
    "\n",
    "month = {1:'jan', 2:'feb', 3:'mar', 4:'apr', 5:'may', 6:'june', 7:'july', 8:'aug', 9:'sept', 10:'oct', 11:'nov', 12:'dec'}  \n",
    "a = pd.DataFrame(d, index = month.values()).transpose()\n",
    "a.index.name = 'year'\n",
    "print(a)"
   ]
  },
  {
   "cell_type": "code",
   "execution_count": 200,
   "metadata": {},
   "outputs": [
    {
     "data": {
      "image/png": "[encoded data removed]",
      "text/plain": [
       "<Figure size 1008x504 with 1 Axes>"
      ]
     },
     "metadata": {
      "needs_background": "light"
     },
     "output_type": "display_data"
    }
   ],
   "source": [
    "\n",
    "\n",
    "plt.figure(figsize= (14,7))\n",
    "for i,j in zip(range(0,a.shape[0]), a.index, ):\n",
    "    plt.plot(a.columns, a.iloc[i,:] , label = j )\n",
    "\n",
    "plt.grid(True)\n",
    "plt.title('VARIATION OF UFO SPOTTINGS OVER MONTH PER YEAR')\n",
    "plt.xlabel('MONTH')\n",
    "plt.ylabel('Ufo spottings')\n",
    "plt.legend()\n",
    "plt.xticks(ticks = range(0,13), label =month.values() )\n",
    "plt.show()"
   ]
  },
  {
   "cell_type": "code",
   "execution_count": null,
   "metadata": {},
   "outputs": [],
   "source": []
  },
  {
   "cell_type": "markdown",
   "metadata": {},
   "source": [
    "Q139. Write a pandas program to create a heatmap (rectangular data as a colour-encoded matrix) for comparison of top 10 years in which (UFO ) was sighted VS each Month."
   ]
  },
  {
   "cell_type": "code",
   "execution_count": 201,
   "metadata": {},
   "outputs": [
    {
     "data": {
      "text/plain": [
       "<function matplotlib.pyplot.show(*args, **kw)>"
      ]
     },
     "execution_count": 201,
     "metadata": {},
     "output_type": "execute_result"
    },
    {
     "data": {
      "image/png": "[encoded data removed]",
      "text/plain": [
       "<Figure size 864x432 with 2 Axes>"
      ]
     },
     "metadata": {
      "needs_background": "light"
     },
     "output_type": "display_data"
    }
   ],
   "source": [
    "fig,ax = plt.subplots(nrows = 1, ncols = 1, figsize = (12,6))\n",
    "years = ufo_df['Year'].value_counts().iloc[:10]\n",
    "top_10_years = sorted(years.index)\n",
    "d = {}\n",
    "\n",
    "for year in top_10_years:\n",
    "    lst = []\n",
    "    for month in range(1, 13):\n",
    "        temp = ufo_df[(ufo_df['Year'] == year) & (ufo_df['Month'] == month) ].shape[0]\n",
    "        lst.append(temp)\n",
    "    d[year] = lst\n",
    "\n",
    "month = {1:'jan', 2:'feb', 3:'mar', 4:'apr', 5:'may', 6:'june', 7:'july', 8:'aug', 9:'sept', 10:'oct', 11:'nov', 12:'dec'}  \n",
    "a = pd.DataFrame(d, index = month.values()).transpose()\n",
    "\n",
    "sns.heatmap(a, ax = ax,)\n",
    "ax.set_xlabel('MONTH')\n",
    "ax.set_ylabel('YEAR')\n",
    "plt.show"
   ]
  },
  {
   "cell_type": "code",
   "execution_count": null,
   "metadata": {},
   "outputs": [],
   "source": []
  },
  {
   "cell_type": "code",
   "execution_count": null,
   "metadata": {},
   "outputs": [],
   "source": []
  },
  {
   "cell_type": "markdown",
   "metadata": {},
   "source": [
    "Q141. Write a python program to draw the line using given axis values with the suitable label in the x-axis, y-axis, and a title."
   ]
  },
  {
   "cell_type": "code",
   "execution_count": 202,
   "metadata": {},
   "outputs": [
    {
     "data": {
      "image/png": "[encoded data removed]",
      "text/plain": [
       "<Figure size 432x288 with 1 Axes>"
      ]
     },
     "metadata": {
      "needs_background": "light"
     },
     "output_type": "display_data"
    }
   ],
   "source": [
    "x = [1,2,3]\n",
    "y = [2,4,1]\n",
    "plt.plot(x,y,color = 'b')\n",
    "plt.title('graph')\n",
    "plt.xlabel('X axis')\n",
    "plt.ylabel('Y axis')\n",
    "plt.grid(True)\n",
    "plt.axis([1,3,1,4])\n",
    "plt.show()"
   ]
  },
  {
   "cell_type": "code",
   "execution_count": null,
   "metadata": {},
   "outputs": [],
   "source": []
  },
  {
   "cell_type": "markdown",
   "metadata": {},
   "source": [
    "Q142. Write a python program to draw the line charts of the financial data of the Alphabet Inc., between October."
   ]
  },
  {
   "cell_type": "code",
   "execution_count": 203,
   "metadata": {},
   "outputs": [],
   "source": [
    "data = pd.read_csv('fdata.txt', sep = ',', parse_dates=[0])"
   ]
  },
  {
   "cell_type": "code",
   "execution_count": 204,
   "metadata": {},
   "outputs": [
    {
     "name": "stderr",
     "output_type": "stream",
     "text": [
      "C:\\Users\\DELL\\Anaconda3\\lib\\site-packages\\pandas\\plotting\\_matplotlib\\converter.py:103: FutureWarning: Using an implicitly registered datetime converter for a matplotlib plotting method. The converter was registered by pandas on import. Future versions of pandas will require you to explicitly register matplotlib converters.\n",
      "\n",
      "To register the converters:\n",
      "\t>>> from pandas.plotting import register_matplotlib_converters\n",
      "\t>>> register_matplotlib_converters()\n",
      "  warnings.warn(msg, FutureWarning)\n"
     ]
    },
    {
     "data": {
      "image/png": "[encoded data removed]",
      "text/plain": [
       "<Figure size 1080x504 with 1 Axes>"
      ]
     },
     "metadata": {
      "needs_background": "light"
     },
     "output_type": "display_data"
    }
   ],
   "source": [
    "plt.figure(figsize=(15,7))\n",
    "plt.plot(data['Date'], data.iloc[:,1], 'r:', label = 'open')\n",
    "plt.plot(data['Date'], data.iloc[:,2], 'k-', label = 'high')\n",
    "plt.plot(data['Date'], data.iloc[:,3], 'b', label = 'low')\n",
    "plt.plot(data['Date'], data.iloc[:,4], 'y', label = 'close')\n",
    "plt.grid(True)\n",
    "plt.legend()\n",
    "plt.axis([data['Date'].min(), data['Date'].max(), 770, 785])\n",
    "plt.show()"
   ]
  },
  {
   "cell_type": "code",
   "execution_count": null,
   "metadata": {},
   "outputs": [],
   "source": []
  },
  {
   "cell_type": "markdown",
   "metadata": {},
   "source": [
    "Q143. Write a Python program to plot two or more lines on same plot with the suitable legends of each line."
   ]
  },
  {
   "cell_type": "code",
   "execution_count": 205,
   "metadata": {},
   "outputs": [
    {
     "data": {
      "image/png": "[encoded data removed]",
      "text/plain": [
       "<Figure size 432x288 with 1 Axes>"
      ]
     },
     "metadata": {
      "needs_background": "light"
     },
     "output_type": "display_data"
    }
   ],
   "source": [
    "plt.plot([10,20,30], [20,40,10], label = 'line1', color = 'r')\n",
    "plt.plot( [10,20,30] , [40,10,30] , label = 'line 2' , color = 'b' )\n",
    "plt.legend()\n",
    "plt.grid(True)\n",
    "plt.xlabel('x axis')\n",
    "plt.ylabel('y axis')\n",
    "plt.title('grph')\n",
    "plt.xticks()\n",
    "plt.axis([10,30,10,40])\n",
    "plt.show()\n",
    " "
   ]
  },
  {
   "cell_type": "code",
   "execution_count": null,
   "metadata": {},
   "outputs": [],
   "source": []
  },
  {
   "cell_type": "markdown",
   "metadata": {},
   "source": [
    "Q144. Write a python programming to display a bar chart of the popularity of programming languages."
   ]
  },
  {
   "cell_type": "code",
   "execution_count": 206,
   "metadata": {},
   "outputs": [
    {
     "data": {
      "image/png": "[encoded data removed]",
      "text/plain": [
       "<Figure size 432x288 with 1 Axes>"
      ]
     },
     "metadata": {
      "needs_background": "light"
     },
     "output_type": "display_data"
    }
   ],
   "source": [
    "programming_languages =  [ 'Java', 'Python', 'PHP', 'JavaScript',' C#', 'C++' ]\n",
    "Popularity = [22.2, 17.6, 8.8, 8, 7.7 , 6.7]\n",
    "plt.bar(programming_languages, Popularity, color = 'red', alpha = 0.25)\n",
    "plt.grid(True)\n",
    "plt.show()\n"
   ]
  },
  {
   "cell_type": "code",
   "execution_count": null,
   "metadata": {},
   "outputs": [],
   "source": []
  },
  {
   "cell_type": "markdown",
   "metadata": {},
   "source": [
    "Q145. Write a python programming to display a horizontal bar chart of the popularity of programming languages."
   ]
  },
  {
   "cell_type": "code",
   "execution_count": 207,
   "metadata": {},
   "outputs": [
    {
     "data": {
      "image/png": "[encoded data removed]",
      "text/plain": [
       "<Figure size 432x288 with 1 Axes>"
      ]
     },
     "metadata": {
      "needs_background": "light"
     },
     "output_type": "display_data"
    }
   ],
   "source": [
    "programming_languages =  [ 'Java', 'Python', 'PHP', 'JavaScript',' C#', 'C++' ]\n",
    "Popularity = [22.2, 17.6, 8.8, 8, 7.7 , 6.7]\n",
    "plt.barh(programming_languages, Popularity, color = 'blue', alpha = 0.25)\n",
    "plt.grid(True)\n",
    "plt.tight_layout()\n",
    "plt.show()\n"
   ]
  },
  {
   "cell_type": "code",
   "execution_count": null,
   "metadata": {},
   "outputs": [],
   "source": []
  },
  {
   "cell_type": "markdown",
   "metadata": {},
   "source": [
    "Q146. Write a python programming to display a bar chart of the Popularity of programming languages. Increase bottom margin.\n",
    "Sample"
   ]
  },
  {
   "cell_type": "code",
   "execution_count": 208,
   "metadata": {},
   "outputs": [
    {
     "data": {
      "image/png": "[encoded data removed]",
      "text/plain": [
       "<Figure size 576x288 with 1 Axes>"
      ]
     },
     "metadata": {
      "needs_background": "light"
     },
     "output_type": "display_data"
    }
   ],
   "source": [
    "plt.figure(figsize = (8,4))\n",
    "programming_languages =  [ 'Java', 'Python', 'PHP', 'JavaScript',' C#', 'C++' ]\n",
    "Popularity = [22.2, 17.6, 8.8, 8, 7.7 , 6.7]\n",
    "plt.bar(programming_languages, Popularity, color = 'blue', alpha = 0.25)\n",
    "plt.grid(True)\n",
    "plt.tight_layout()\n",
    "plt.show()"
   ]
  },
  {
   "cell_type": "code",
   "execution_count": null,
   "metadata": {},
   "outputs": [],
   "source": []
  },
  {
   "cell_type": "markdown",
   "metadata": {},
   "source": [
    "Q147. Write a python program to create the bar plot from a DataFrame.m"
   ]
  },
  {
   "cell_type": "code",
   "execution_count": 209,
   "metadata": {},
   "outputs": [
    {
     "data": {
      "image/png": "[encoded data removed]",
      "text/plain": [
       "<Figure size 720x432 with 1 Axes>"
      ]
     },
     "metadata": {
      "needs_background": "light"
     },
     "output_type": "display_data"
    }
   ],
   "source": [
    "data = pd.DataFrame(np.array([[4,8,5,7,6],[2,3,4,2,6],[4,7,4,7,8],[2,6,4,8,6],[2,4,3,3,2]]), columns = ['a', 'b', 'c', 'd', 'e'] )\n",
    "data.plot(kind = 'bar', color = ['k','r', 'b', 'g','c'], figsize= (10,6))\n",
    "plt.grid(True)\n",
    "plt.show()"
   ]
  },
  {
   "cell_type": "code",
   "execution_count": null,
   "metadata": {},
   "outputs": [],
   "source": []
  },
  {
   "cell_type": "markdown",
   "metadata": {},
   "source": [
    "Q148. Write a python program to draw the scatter plot comparing two subject marks of Mathematics and Science. Use marks of 10 students."
   ]
  },
  {
   "cell_type": "code",
   "execution_count": 210,
   "metadata": {},
   "outputs": [
    {
     "data": {
      "image/png": "[encoded data removed]",
      "text/plain": [
       "<Figure size 432x288 with 1 Axes>"
      ]
     },
     "metadata": {
      "needs_background": "light"
     },
     "output_type": "display_data"
    }
   ],
   "source": [
    "math_marks = [88, 92 , 80, 89, 100, 80, 60, 100, 80, 34] \n",
    "science_marks = [35, 79, 79 , 48, 100, 88, 32, 45, 20, 30] \n",
    "marks_range = [10, 20, 30, 40, 50, 60, 70, 80, 90, 100]\n",
    "plt.scatter(marks_range, science_marks, label = 'science marks', color = 'g', s = 300, marker = 'o', alpha= 0.5)\n",
    "plt.scatter(marks_range, math_marks, label = 'math marks', color = 'r', s = 300, marker = 'o', alpha= 0.5)\n",
    "plt.legend(loc = 'lower left')\n",
    "plt.grid(True)\n",
    "plt.show()"
   ]
  },
  {
   "cell_type": "code",
   "execution_count": null,
   "metadata": {},
   "outputs": [],
   "source": []
  },
  {
   "cell_type": "markdown",
   "metadata": {},
   "source": [
    "Q149. Write a python program to draw the scatter plot for three different groups comparing weights and heights."
   ]
  },
  {
   "cell_type": "code",
   "execution_count": 211,
   "metadata": {},
   "outputs": [
    {
     "data": {
      "image/png": "[encoded data removed]",
      "text/plain": [
       "<Figure size 1080x504 with 1 Axes>"
      ]
     },
     "metadata": {
      "needs_background": "light"
     },
     "output_type": "display_data"
    }
   ],
   "source": [
    "plt.figure(figsize=(15,7))\n",
    "height1 = np.array([165, 165, 144, 158, 167, 165, 160, 142, 156, 142, 156, 169])\n",
    "height2 = np.array([144, 146, 162, 170, 162, 167, 153, 150, 143, 150, 147, 145])\n",
    "height3 = np.array([168, 155, 151, 147, 150, 167, 140, 168, 145, 151, 162, 161])\n",
    "weight1 = np.array([86, 95, 66, 93, 86, 46, 57, 99, 92, 71, 76, 87])\n",
    "weight2 = np.array([64, 75, 48, 51, 91, 45, 70, 64, 73, 94, 59, 89])\n",
    "weight3 = np.array([51, 66, 69, 55, 82, 86, 50, 98, 78, 98, 66, 81])\n",
    "plt.scatter(height1, weight1, label = 'GROUP1', COLOR = 'b', s = 150, marker = 'o')\n",
    "plt.scatter(height2, weight2, label = 'GROUP2', COLOR = 'r', s = 150, marker = 'x')\n",
    "plt.scatter(height3, weight3, label = 'GROUP3', COLOR = 'g', s = 150, marker = '+')\n",
    "plt.legend()\n",
    "plt.grid(True)\n",
    "plt.show()"
   ]
  },
  {
   "cell_type": "code",
   "execution_count": null,
   "metadata": {},
   "outputs": [],
   "source": []
  },
  {
   "cell_type": "markdown",
   "metadata": {},
   "source": [
    "Q150. Write a python program to draw a scatter plot to find sea-level rise in past 100 years."
   ]
  },
  {
   "cell_type": "code",
   "execution_count": 212,
   "metadata": {},
   "outputs": [
    {
     "data": {
      "image/png": "[encoded data removed]",
      "text/plain": [
       "<Figure size 864x360 with 1 Axes>"
      ]
     },
     "metadata": {
      "needs_background": "light"
     },
     "output_type": "display_data"
    }
   ],
   "source": [
    "sea_level = pd.read_csv('sea_level.txt', sep = ',')\n",
    "sea_level['Time'] = pd.to_datetime(sea_level['Time'], format = '%Y-%m-%d')\n",
    "sea_level['Year'] = sea_level['Time'].dt.year\n",
    "year_wise_data = sea_level.groupby(by = ['Year']).mean()\n",
    "plt.figure(figsize= (12,5))\n",
    "plt.scatter(year_wise_data.index, year_wise_data.iloc[:,0], color = 'r', alpha = 0.5)\n",
    "plt.grid(True)\n",
    "plt.xlabel('year')\n",
    "plt.ylabel('sea level')\n",
    "plt.title('sealevel rise ')\n",
    "plt.show()"
   ]
  },
  {
   "cell_type": "code",
   "execution_count": null,
   "metadata": {},
   "outputs": [],
   "source": []
  }
 ],
 "metadata": {
  "kernelspec": {
   "display_name": "Python 3",
   "language": "python",
   "name": "python3"
  },
  "language_info": {
   "codemirror_mode": {
    "name": "ipython",
    "version": 3
   },
   "file_extension": ".py",
   "mimetype": "text/x-python",
   "name": "python",
   "nbconvert_exporter": "python",
   "pygments_lexer": "ipython3",
   "version": "3.7.1"
  }
 },
 "nbformat": 4,
 "nbformat_minor": 2
}
