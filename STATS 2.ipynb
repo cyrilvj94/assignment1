{
 "cells": [
  {
   "cell_type": "code",
   "execution_count": 8,
   "metadata": {},
   "outputs": [],
   "source": [
    "def fact(num): # calculate factorial\n",
    "    pdt = 1\n",
    "    for x in range(1, num+1):\n",
    "        pdt = pdt * x\n",
    "        \n",
    "    return pdt\n",
    "\n",
    "def ncr(n,r):\n",
    "    return (fact(n))/(fact(n-r) * fact(r))\n",
    "        "
   ]
  },
  {
   "cell_type": "markdown",
   "metadata": {},
   "source": [
    "# PROBLEM STATEMENT 1 "
   ]
  },
  {
   "cell_type": "raw",
   "metadata": {},
   "source": [
    "A test is conducted which is consisting of 20 MCQs (multiple choices questions) with every\n",
    "MCQ having its four options out of which only one is correct. Determine the probability that\n",
    "a person undertaking that test has answered exactly 5 questions wrong."
   ]
  },
  {
   "cell_type": "raw",
   "metadata": {},
   "source": [
    "Clearly , this is a case of binomial distribution with 'getting a wrong answer' as Success\n",
    "Random Variable : X: No. of questions answeres wrong in the exam\n",
    "P(x = 5) = "
   ]
  },
  {
   "cell_type": "code",
   "execution_count": 34,
   "metadata": {},
   "outputs": [
    {
     "name": "stdout",
     "output_type": "stream",
     "text": [
      "probability : 3.4264958230778575e-06\n"
     ]
    }
   ],
   "source": [
    "probability = ncr(20,5) * (0.75)**5 * (0.25)**15\n",
    "print('probability :' , probability)"
   ]
  },
  {
   "cell_type": "markdown",
   "metadata": {},
   "source": [
    "# PROBLEM STATEMENT 2"
   ]
  },
  {
   "cell_type": "raw",
   "metadata": {},
   "source": [
    "A die marked A to E is rolled 50 times. Find the probability of getting a “D” exactly\n",
    "5 times."
   ]
  },
  {
   "cell_type": "raw",
   "metadata": {},
   "source": [
    "we can assume the distribution to be  a binomial distribution with getting 'D' as Success\n",
    "P(D = 5) = "
   ]
  },
  {
   "cell_type": "code",
   "execution_count": 36,
   "metadata": {},
   "outputs": [
    {
     "name": "stdout",
     "output_type": "stream",
     "text": [
      "probability : 0.029531204310524296\n"
     ]
    }
   ],
   "source": [
    "probability = ncr(50,5) * (0.2)**5 * (0.8)**45\n",
    "print('probability :' , probability)"
   ]
  },
  {
   "cell_type": "markdown",
   "metadata": {},
   "source": [
    "# PROBLEM STATEMENT 3"
   ]
  },
  {
   "cell_type": "raw",
   "metadata": {},
   "source": [
    "Two balls are drawn at random in succession without replacement from an urn\n",
    "containing 4 red balls and 6 black balls.\n",
    "\n",
    "Find the probabilities of all the possible outcomes."
   ]
  },
  {
   "cell_type": "code",
   "execution_count": 40,
   "metadata": {},
   "outputs": [],
   "source": [
    "red_red = (4/10)*(3/9)\n",
    "black_black = (6/10)*(5/9)\n",
    "red_black = (4/10)*(6/9)\n",
    "black_red = (6/10)*(4/9)"
   ]
  },
  {
   "cell_type": "code",
   "execution_count": 41,
   "metadata": {},
   "outputs": [
    {
     "name": "stdout",
     "output_type": "stream",
     "text": [
      "probability of getting red and red 0.13333333333333333\n",
      "probability of getting black and black 0.3333333333333333\n",
      "probability of getting red and black 0.26666666666666666\n",
      "probability of getting black and red 0.26666666666666666\n"
     ]
    }
   ],
   "source": [
    "print('probability of getting red and red' ,red_red)\n",
    "print('probability of getting black and black' ,black_black)\n",
    "print('probability of getting red and black' ,red_black)\n",
    "print('probability of getting black and red' ,black_red)"
   ]
  },
  {
   "cell_type": "code",
   "execution_count": null,
   "metadata": {},
   "outputs": [],
   "source": []
  },
  {
   "cell_type": "code",
   "execution_count": null,
   "metadata": {},
   "outputs": [],
   "source": []
  },
  {
   "cell_type": "code",
   "execution_count": null,
   "metadata": {},
   "outputs": [],
   "source": []
  },
  {
   "cell_type": "code",
   "execution_count": null,
   "metadata": {},
   "outputs": [],
   "source": []
  }
 ],
 "metadata": {
  "kernelspec": {
   "display_name": "Python 3",
   "language": "python",
   "name": "python3"
  },
  "language_info": {
   "codemirror_mode": {
    "name": "ipython",
    "version": 3
   },
   "file_extension": ".py",
   "mimetype": "text/x-python",
   "name": "python",
   "nbconvert_exporter": "python",
   "pygments_lexer": "ipython3",
   "version": "3.7.1"
  }
 },
 "nbformat": 4,
 "nbformat_minor": 4
}
